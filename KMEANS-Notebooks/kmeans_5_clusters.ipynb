{
 "cells": [
  {
   "cell_type": "code",
   "execution_count": 33,
   "metadata": {},
   "outputs": [],
   "source": [
    "import pandas as pd\n",
    "from sklearn.cluster import KMeans\n",
    "from pathlib import Path\n",
    "import plotly.express as px\n",
    "import hvplot.pandas"
   ]
  },
  {
   "cell_type": "code",
   "execution_count": 34,
   "metadata": {},
   "outputs": [],
   "source": [
    "from sklearn.preprocessing import StandardScaler"
   ]
  },
  {
   "cell_type": "code",
   "execution_count": 35,
   "metadata": {},
   "outputs": [],
   "source": [
    "from sklearn.decomposition import PCA"
   ]
  },
  {
   "cell_type": "code",
   "execution_count": 36,
   "metadata": {},
   "outputs": [
    {
     "data": {
      "text/html": [
       "<div>\n",
       "<style scoped>\n",
       "    .dataframe tbody tr th:only-of-type {\n",
       "        vertical-align: middle;\n",
       "    }\n",
       "\n",
       "    .dataframe tbody tr th {\n",
       "        vertical-align: top;\n",
       "    }\n",
       "\n",
       "    .dataframe thead th {\n",
       "        text-align: right;\n",
       "    }\n",
       "</style>\n",
       "<table border=\"1\" class=\"dataframe\">\n",
       "  <thead>\n",
       "    <tr style=\"text-align: right;\">\n",
       "      <th></th>\n",
       "      <th>Interest Score</th>\n",
       "      <th>HST</th>\n",
       "      <th>XTN</th>\n",
       "      <th>sentiment</th>\n",
       "      <th>Principal Component 1</th>\n",
       "    </tr>\n",
       "  </thead>\n",
       "  <tbody>\n",
       "    <tr>\n",
       "      <th>2020-03-03</th>\n",
       "      <td>7</td>\n",
       "      <td>-0.053440</td>\n",
       "      <td>-0.028093</td>\n",
       "      <td>neutral</td>\n",
       "      <td>-8.775543e+06</td>\n",
       "    </tr>\n",
       "    <tr>\n",
       "      <th>2020-03-04</th>\n",
       "      <td>7</td>\n",
       "      <td>0.007057</td>\n",
       "      <td>0.031684</td>\n",
       "      <td>neutral</td>\n",
       "      <td>-8.775510e+06</td>\n",
       "    </tr>\n",
       "    <tr>\n",
       "      <th>2020-03-05</th>\n",
       "      <td>7</td>\n",
       "      <td>-0.078486</td>\n",
       "      <td>-0.065194</td>\n",
       "      <td>neutral</td>\n",
       "      <td>-8.775433e+06</td>\n",
       "    </tr>\n",
       "    <tr>\n",
       "      <th>2020-03-06</th>\n",
       "      <td>7</td>\n",
       "      <td>0.023574</td>\n",
       "      <td>-0.005379</td>\n",
       "      <td>neutral</td>\n",
       "      <td>-8.775380e+06</td>\n",
       "    </tr>\n",
       "    <tr>\n",
       "      <th>2020-03-09</th>\n",
       "      <td>30</td>\n",
       "      <td>-0.103269</td>\n",
       "      <td>-0.085571</td>\n",
       "      <td>neutral</td>\n",
       "      <td>-8.775023e+06</td>\n",
       "    </tr>\n",
       "  </tbody>\n",
       "</table>\n",
       "</div>"
      ],
      "text/plain": [
       "            Interest Score       HST       XTN sentiment  \\\n",
       "2020-03-03               7 -0.053440 -0.028093   neutral   \n",
       "2020-03-04               7  0.007057  0.031684   neutral   \n",
       "2020-03-05               7 -0.078486 -0.065194   neutral   \n",
       "2020-03-06               7  0.023574 -0.005379   neutral   \n",
       "2020-03-09              30 -0.103269 -0.085571   neutral   \n",
       "\n",
       "            Principal Component 1  \n",
       "2020-03-03          -8.775543e+06  \n",
       "2020-03-04          -8.775510e+06  \n",
       "2020-03-05          -8.775433e+06  \n",
       "2020-03-06          -8.775380e+06  \n",
       "2020-03-09          -8.775023e+06  "
      ]
     },
     "execution_count": 36,
     "metadata": {},
     "output_type": "execute_result"
    }
   ],
   "source": [
    "file = Path('../Model-Data/unbalanced-data/unsupervised_pca.csv')\n",
    "df = pd.read_csv(file, index_col='Unnamed: 0', parse_dates=True, infer_datetime_format=True)\n",
    "df.head()"
   ]
  },
  {
   "cell_type": "code",
   "execution_count": 37,
   "metadata": {},
   "outputs": [],
   "source": [
    "df = pd.get_dummies(df)"
   ]
  },
  {
   "cell_type": "code",
   "execution_count": 38,
   "metadata": {},
   "outputs": [
    {
     "data": {
      "text/html": [
       "<div>\n",
       "<style scoped>\n",
       "    .dataframe tbody tr th:only-of-type {\n",
       "        vertical-align: middle;\n",
       "    }\n",
       "\n",
       "    .dataframe tbody tr th {\n",
       "        vertical-align: top;\n",
       "    }\n",
       "\n",
       "    .dataframe thead th {\n",
       "        text-align: right;\n",
       "    }\n",
       "</style>\n",
       "<table border=\"1\" class=\"dataframe\">\n",
       "  <thead>\n",
       "    <tr style=\"text-align: right;\">\n",
       "      <th></th>\n",
       "      <th>Interest Score</th>\n",
       "      <th>HST</th>\n",
       "      <th>XTN</th>\n",
       "      <th>Principal Component 1</th>\n",
       "      <th>sentiment_negative</th>\n",
       "      <th>sentiment_neutral</th>\n",
       "      <th>sentiment_positive</th>\n",
       "    </tr>\n",
       "  </thead>\n",
       "  <tbody>\n",
       "    <tr>\n",
       "      <th>2020-03-03</th>\n",
       "      <td>7</td>\n",
       "      <td>-0.053440</td>\n",
       "      <td>-0.028093</td>\n",
       "      <td>-8.775543e+06</td>\n",
       "      <td>0</td>\n",
       "      <td>1</td>\n",
       "      <td>0</td>\n",
       "    </tr>\n",
       "    <tr>\n",
       "      <th>2020-03-04</th>\n",
       "      <td>7</td>\n",
       "      <td>0.007057</td>\n",
       "      <td>0.031684</td>\n",
       "      <td>-8.775510e+06</td>\n",
       "      <td>0</td>\n",
       "      <td>1</td>\n",
       "      <td>0</td>\n",
       "    </tr>\n",
       "    <tr>\n",
       "      <th>2020-03-05</th>\n",
       "      <td>7</td>\n",
       "      <td>-0.078486</td>\n",
       "      <td>-0.065194</td>\n",
       "      <td>-8.775433e+06</td>\n",
       "      <td>0</td>\n",
       "      <td>1</td>\n",
       "      <td>0</td>\n",
       "    </tr>\n",
       "    <tr>\n",
       "      <th>2020-03-06</th>\n",
       "      <td>7</td>\n",
       "      <td>0.023574</td>\n",
       "      <td>-0.005379</td>\n",
       "      <td>-8.775380e+06</td>\n",
       "      <td>0</td>\n",
       "      <td>1</td>\n",
       "      <td>0</td>\n",
       "    </tr>\n",
       "    <tr>\n",
       "      <th>2020-03-09</th>\n",
       "      <td>30</td>\n",
       "      <td>-0.103269</td>\n",
       "      <td>-0.085571</td>\n",
       "      <td>-8.775023e+06</td>\n",
       "      <td>0</td>\n",
       "      <td>1</td>\n",
       "      <td>0</td>\n",
       "    </tr>\n",
       "  </tbody>\n",
       "</table>\n",
       "</div>"
      ],
      "text/plain": [
       "            Interest Score       HST       XTN  Principal Component 1  \\\n",
       "2020-03-03               7 -0.053440 -0.028093          -8.775543e+06   \n",
       "2020-03-04               7  0.007057  0.031684          -8.775510e+06   \n",
       "2020-03-05               7 -0.078486 -0.065194          -8.775433e+06   \n",
       "2020-03-06               7  0.023574 -0.005379          -8.775380e+06   \n",
       "2020-03-09              30 -0.103269 -0.085571          -8.775023e+06   \n",
       "\n",
       "            sentiment_negative  sentiment_neutral  sentiment_positive  \n",
       "2020-03-03                   0                  1                   0  \n",
       "2020-03-04                   0                  1                   0  \n",
       "2020-03-05                   0                  1                   0  \n",
       "2020-03-06                   0                  1                   0  \n",
       "2020-03-09                   0                  1                   0  "
      ]
     },
     "execution_count": 38,
     "metadata": {},
     "output_type": "execute_result"
    }
   ],
   "source": [
    "df.head()"
   ]
  },
  {
   "cell_type": "code",
   "execution_count": 39,
   "metadata": {},
   "outputs": [],
   "source": [
    "scalar = StandardScaler()\n",
    "scalar.fit(df)\n",
    "scaled_data = scalar.transform(df)"
   ]
  },
  {
   "cell_type": "code",
   "execution_count": 40,
   "metadata": {},
   "outputs": [],
   "source": [
    "scaled_df = pd.DataFrame(data=scaled_data, columns=df.columns.tolist(), index=df.index.tolist())"
   ]
  },
  {
   "cell_type": "code",
   "execution_count": 41,
   "metadata": {},
   "outputs": [],
   "source": [
    "k = list(range(1,11))"
   ]
  },
  {
   "cell_type": "code",
   "execution_count": 42,
   "metadata": {},
   "outputs": [],
   "source": [
    "inertias = []\n",
    "for i in k:\n",
    "    km = KMeans(n_clusters=i, random_state=0)\n",
    "    km.fit(scaled_df)\n",
    "    inertias.append(km.inertia_)"
   ]
  },
  {
   "cell_type": "code",
   "execution_count": 43,
   "metadata": {},
   "outputs": [
    {
     "data": {
      "application/vnd.plotly.v1+json": {
       "config": {
        "plotlyServerURL": "https://plot.ly"
       },
       "data": [
        {
         "hovertemplate": "variable=0<br>index=%{x}<br>value=%{y}<extra></extra>",
         "legendgroup": "0",
         "line": {
          "color": "#636efa",
          "dash": "solid"
         },
         "mode": "lines",
         "name": "0",
         "orientation": "v",
         "showlegend": true,
         "type": "scatter",
         "x": [
          0,
          1,
          2,
          3,
          4,
          5,
          6,
          7,
          8,
          9
         ],
         "xaxis": "x",
         "y": [
          1749.9999999999995,
          1253.0170610597086,
          993.0416700226118,
          752.7972185597686,
          562.4057315830198,
          473.811357450659,
          417.92018002310414,
          377.19839053049526,
          339.2465323857616,
          318.2711069435448
         ],
         "yaxis": "y"
        }
       ],
       "layout": {
        "autosize": true,
        "legend": {
         "title": {
          "text": "variable"
         },
         "tracegroupgap": 0
        },
        "margin": {
         "t": 60
        },
        "template": {
         "data": {
          "bar": [
           {
            "error_x": {
             "color": "#2a3f5f"
            },
            "error_y": {
             "color": "#2a3f5f"
            },
            "marker": {
             "line": {
              "color": "#E5ECF6",
              "width": 0.5
             }
            },
            "type": "bar"
           }
          ],
          "barpolar": [
           {
            "marker": {
             "line": {
              "color": "#E5ECF6",
              "width": 0.5
             }
            },
            "type": "barpolar"
           }
          ],
          "carpet": [
           {
            "aaxis": {
             "endlinecolor": "#2a3f5f",
             "gridcolor": "white",
             "linecolor": "white",
             "minorgridcolor": "white",
             "startlinecolor": "#2a3f5f"
            },
            "baxis": {
             "endlinecolor": "#2a3f5f",
             "gridcolor": "white",
             "linecolor": "white",
             "minorgridcolor": "white",
             "startlinecolor": "#2a3f5f"
            },
            "type": "carpet"
           }
          ],
          "choropleth": [
           {
            "colorbar": {
             "outlinewidth": 0,
             "ticks": ""
            },
            "type": "choropleth"
           }
          ],
          "contour": [
           {
            "colorbar": {
             "outlinewidth": 0,
             "ticks": ""
            },
            "colorscale": [
             [
              0,
              "#0d0887"
             ],
             [
              0.1111111111111111,
              "#46039f"
             ],
             [
              0.2222222222222222,
              "#7201a8"
             ],
             [
              0.3333333333333333,
              "#9c179e"
             ],
             [
              0.4444444444444444,
              "#bd3786"
             ],
             [
              0.5555555555555556,
              "#d8576b"
             ],
             [
              0.6666666666666666,
              "#ed7953"
             ],
             [
              0.7777777777777778,
              "#fb9f3a"
             ],
             [
              0.8888888888888888,
              "#fdca26"
             ],
             [
              1,
              "#f0f921"
             ]
            ],
            "type": "contour"
           }
          ],
          "contourcarpet": [
           {
            "colorbar": {
             "outlinewidth": 0,
             "ticks": ""
            },
            "type": "contourcarpet"
           }
          ],
          "heatmap": [
           {
            "colorbar": {
             "outlinewidth": 0,
             "ticks": ""
            },
            "colorscale": [
             [
              0,
              "#0d0887"
             ],
             [
              0.1111111111111111,
              "#46039f"
             ],
             [
              0.2222222222222222,
              "#7201a8"
             ],
             [
              0.3333333333333333,
              "#9c179e"
             ],
             [
              0.4444444444444444,
              "#bd3786"
             ],
             [
              0.5555555555555556,
              "#d8576b"
             ],
             [
              0.6666666666666666,
              "#ed7953"
             ],
             [
              0.7777777777777778,
              "#fb9f3a"
             ],
             [
              0.8888888888888888,
              "#fdca26"
             ],
             [
              1,
              "#f0f921"
             ]
            ],
            "type": "heatmap"
           }
          ],
          "heatmapgl": [
           {
            "colorbar": {
             "outlinewidth": 0,
             "ticks": ""
            },
            "colorscale": [
             [
              0,
              "#0d0887"
             ],
             [
              0.1111111111111111,
              "#46039f"
             ],
             [
              0.2222222222222222,
              "#7201a8"
             ],
             [
              0.3333333333333333,
              "#9c179e"
             ],
             [
              0.4444444444444444,
              "#bd3786"
             ],
             [
              0.5555555555555556,
              "#d8576b"
             ],
             [
              0.6666666666666666,
              "#ed7953"
             ],
             [
              0.7777777777777778,
              "#fb9f3a"
             ],
             [
              0.8888888888888888,
              "#fdca26"
             ],
             [
              1,
              "#f0f921"
             ]
            ],
            "type": "heatmapgl"
           }
          ],
          "histogram": [
           {
            "marker": {
             "colorbar": {
              "outlinewidth": 0,
              "ticks": ""
             }
            },
            "type": "histogram"
           }
          ],
          "histogram2d": [
           {
            "colorbar": {
             "outlinewidth": 0,
             "ticks": ""
            },
            "colorscale": [
             [
              0,
              "#0d0887"
             ],
             [
              0.1111111111111111,
              "#46039f"
             ],
             [
              0.2222222222222222,
              "#7201a8"
             ],
             [
              0.3333333333333333,
              "#9c179e"
             ],
             [
              0.4444444444444444,
              "#bd3786"
             ],
             [
              0.5555555555555556,
              "#d8576b"
             ],
             [
              0.6666666666666666,
              "#ed7953"
             ],
             [
              0.7777777777777778,
              "#fb9f3a"
             ],
             [
              0.8888888888888888,
              "#fdca26"
             ],
             [
              1,
              "#f0f921"
             ]
            ],
            "type": "histogram2d"
           }
          ],
          "histogram2dcontour": [
           {
            "colorbar": {
             "outlinewidth": 0,
             "ticks": ""
            },
            "colorscale": [
             [
              0,
              "#0d0887"
             ],
             [
              0.1111111111111111,
              "#46039f"
             ],
             [
              0.2222222222222222,
              "#7201a8"
             ],
             [
              0.3333333333333333,
              "#9c179e"
             ],
             [
              0.4444444444444444,
              "#bd3786"
             ],
             [
              0.5555555555555556,
              "#d8576b"
             ],
             [
              0.6666666666666666,
              "#ed7953"
             ],
             [
              0.7777777777777778,
              "#fb9f3a"
             ],
             [
              0.8888888888888888,
              "#fdca26"
             ],
             [
              1,
              "#f0f921"
             ]
            ],
            "type": "histogram2dcontour"
           }
          ],
          "mesh3d": [
           {
            "colorbar": {
             "outlinewidth": 0,
             "ticks": ""
            },
            "type": "mesh3d"
           }
          ],
          "parcoords": [
           {
            "line": {
             "colorbar": {
              "outlinewidth": 0,
              "ticks": ""
             }
            },
            "type": "parcoords"
           }
          ],
          "pie": [
           {
            "automargin": true,
            "type": "pie"
           }
          ],
          "scatter": [
           {
            "marker": {
             "colorbar": {
              "outlinewidth": 0,
              "ticks": ""
             }
            },
            "type": "scatter"
           }
          ],
          "scatter3d": [
           {
            "line": {
             "colorbar": {
              "outlinewidth": 0,
              "ticks": ""
             }
            },
            "marker": {
             "colorbar": {
              "outlinewidth": 0,
              "ticks": ""
             }
            },
            "type": "scatter3d"
           }
          ],
          "scattercarpet": [
           {
            "marker": {
             "colorbar": {
              "outlinewidth": 0,
              "ticks": ""
             }
            },
            "type": "scattercarpet"
           }
          ],
          "scattergeo": [
           {
            "marker": {
             "colorbar": {
              "outlinewidth": 0,
              "ticks": ""
             }
            },
            "type": "scattergeo"
           }
          ],
          "scattergl": [
           {
            "marker": {
             "colorbar": {
              "outlinewidth": 0,
              "ticks": ""
             }
            },
            "type": "scattergl"
           }
          ],
          "scattermapbox": [
           {
            "marker": {
             "colorbar": {
              "outlinewidth": 0,
              "ticks": ""
             }
            },
            "type": "scattermapbox"
           }
          ],
          "scatterpolar": [
           {
            "marker": {
             "colorbar": {
              "outlinewidth": 0,
              "ticks": ""
             }
            },
            "type": "scatterpolar"
           }
          ],
          "scatterpolargl": [
           {
            "marker": {
             "colorbar": {
              "outlinewidth": 0,
              "ticks": ""
             }
            },
            "type": "scatterpolargl"
           }
          ],
          "scatterternary": [
           {
            "marker": {
             "colorbar": {
              "outlinewidth": 0,
              "ticks": ""
             }
            },
            "type": "scatterternary"
           }
          ],
          "surface": [
           {
            "colorbar": {
             "outlinewidth": 0,
             "ticks": ""
            },
            "colorscale": [
             [
              0,
              "#0d0887"
             ],
             [
              0.1111111111111111,
              "#46039f"
             ],
             [
              0.2222222222222222,
              "#7201a8"
             ],
             [
              0.3333333333333333,
              "#9c179e"
             ],
             [
              0.4444444444444444,
              "#bd3786"
             ],
             [
              0.5555555555555556,
              "#d8576b"
             ],
             [
              0.6666666666666666,
              "#ed7953"
             ],
             [
              0.7777777777777778,
              "#fb9f3a"
             ],
             [
              0.8888888888888888,
              "#fdca26"
             ],
             [
              1,
              "#f0f921"
             ]
            ],
            "type": "surface"
           }
          ],
          "table": [
           {
            "cells": {
             "fill": {
              "color": "#EBF0F8"
             },
             "line": {
              "color": "white"
             }
            },
            "header": {
             "fill": {
              "color": "#C8D4E3"
             },
             "line": {
              "color": "white"
             }
            },
            "type": "table"
           }
          ]
         },
         "layout": {
          "annotationdefaults": {
           "arrowcolor": "#2a3f5f",
           "arrowhead": 0,
           "arrowwidth": 1
          },
          "autotypenumbers": "strict",
          "coloraxis": {
           "colorbar": {
            "outlinewidth": 0,
            "ticks": ""
           }
          },
          "colorscale": {
           "diverging": [
            [
             0,
             "#8e0152"
            ],
            [
             0.1,
             "#c51b7d"
            ],
            [
             0.2,
             "#de77ae"
            ],
            [
             0.3,
             "#f1b6da"
            ],
            [
             0.4,
             "#fde0ef"
            ],
            [
             0.5,
             "#f7f7f7"
            ],
            [
             0.6,
             "#e6f5d0"
            ],
            [
             0.7,
             "#b8e186"
            ],
            [
             0.8,
             "#7fbc41"
            ],
            [
             0.9,
             "#4d9221"
            ],
            [
             1,
             "#276419"
            ]
           ],
           "sequential": [
            [
             0,
             "#0d0887"
            ],
            [
             0.1111111111111111,
             "#46039f"
            ],
            [
             0.2222222222222222,
             "#7201a8"
            ],
            [
             0.3333333333333333,
             "#9c179e"
            ],
            [
             0.4444444444444444,
             "#bd3786"
            ],
            [
             0.5555555555555556,
             "#d8576b"
            ],
            [
             0.6666666666666666,
             "#ed7953"
            ],
            [
             0.7777777777777778,
             "#fb9f3a"
            ],
            [
             0.8888888888888888,
             "#fdca26"
            ],
            [
             1,
             "#f0f921"
            ]
           ],
           "sequentialminus": [
            [
             0,
             "#0d0887"
            ],
            [
             0.1111111111111111,
             "#46039f"
            ],
            [
             0.2222222222222222,
             "#7201a8"
            ],
            [
             0.3333333333333333,
             "#9c179e"
            ],
            [
             0.4444444444444444,
             "#bd3786"
            ],
            [
             0.5555555555555556,
             "#d8576b"
            ],
            [
             0.6666666666666666,
             "#ed7953"
            ],
            [
             0.7777777777777778,
             "#fb9f3a"
            ],
            [
             0.8888888888888888,
             "#fdca26"
            ],
            [
             1,
             "#f0f921"
            ]
           ]
          },
          "colorway": [
           "#636efa",
           "#EF553B",
           "#00cc96",
           "#ab63fa",
           "#FFA15A",
           "#19d3f3",
           "#FF6692",
           "#B6E880",
           "#FF97FF",
           "#FECB52"
          ],
          "font": {
           "color": "#2a3f5f"
          },
          "geo": {
           "bgcolor": "white",
           "lakecolor": "white",
           "landcolor": "#E5ECF6",
           "showlakes": true,
           "showland": true,
           "subunitcolor": "white"
          },
          "hoverlabel": {
           "align": "left"
          },
          "hovermode": "closest",
          "mapbox": {
           "style": "light"
          },
          "paper_bgcolor": "white",
          "plot_bgcolor": "#E5ECF6",
          "polar": {
           "angularaxis": {
            "gridcolor": "white",
            "linecolor": "white",
            "ticks": ""
           },
           "bgcolor": "#E5ECF6",
           "radialaxis": {
            "gridcolor": "white",
            "linecolor": "white",
            "ticks": ""
           }
          },
          "scene": {
           "xaxis": {
            "backgroundcolor": "#E5ECF6",
            "gridcolor": "white",
            "gridwidth": 2,
            "linecolor": "white",
            "showbackground": true,
            "ticks": "",
            "zerolinecolor": "white"
           },
           "yaxis": {
            "backgroundcolor": "#E5ECF6",
            "gridcolor": "white",
            "gridwidth": 2,
            "linecolor": "white",
            "showbackground": true,
            "ticks": "",
            "zerolinecolor": "white"
           },
           "zaxis": {
            "backgroundcolor": "#E5ECF6",
            "gridcolor": "white",
            "gridwidth": 2,
            "linecolor": "white",
            "showbackground": true,
            "ticks": "",
            "zerolinecolor": "white"
           }
          },
          "shapedefaults": {
           "line": {
            "color": "#2a3f5f"
           }
          },
          "ternary": {
           "aaxis": {
            "gridcolor": "white",
            "linecolor": "white",
            "ticks": ""
           },
           "baxis": {
            "gridcolor": "white",
            "linecolor": "white",
            "ticks": ""
           },
           "bgcolor": "#E5ECF6",
           "caxis": {
            "gridcolor": "white",
            "linecolor": "white",
            "ticks": ""
           }
          },
          "title": {
           "x": 0.05
          },
          "xaxis": {
           "automargin": true,
           "gridcolor": "white",
           "linecolor": "white",
           "ticks": "",
           "title": {
            "standoff": 15
           },
           "zerolinecolor": "white",
           "zerolinewidth": 2
          },
          "yaxis": {
           "automargin": true,
           "gridcolor": "white",
           "linecolor": "white",
           "ticks": "",
           "title": {
            "standoff": 15
           },
           "zerolinecolor": "white",
           "zerolinewidth": 2
          }
         }
        },
        "xaxis": {
         "anchor": "y",
         "autorange": true,
         "domain": [
          0,
          1
         ],
         "range": [
          0,
          9
         ],
         "title": {
          "text": "index"
         },
         "type": "linear"
        },
        "yaxis": {
         "anchor": "x",
         "autorange": true,
         "domain": [
          0,
          1
         ],
         "range": [
          238.73061288485286,
          1829.5404940586914
         ],
         "title": {
          "text": "value"
         },
         "type": "linear"
        }
       }
      },
      "image/png": "[encoded data removed]",
      "text/html": [
       "<div>                            <div id=\"7ce7ea3c-e8dc-435f-8a43-0216eef80de7\" class=\"plotly-graph-div\" style=\"height:525px; width:100%;\"></div>            <script type=\"text/javascript\">                require([\"plotly\"], function(Plotly) {                    window.PLOTLYENV=window.PLOTLYENV || {};                                    if (document.getElementById(\"7ce7ea3c-e8dc-435f-8a43-0216eef80de7\")) {                    Plotly.newPlot(                        \"7ce7ea3c-e8dc-435f-8a43-0216eef80de7\",                        [{\"hovertemplate\": \"variable=0<br>index=%{x}<br>value=%{y}<extra></extra>\", \"legendgroup\": \"0\", \"line\": {\"color\": \"#636efa\", \"dash\": \"solid\"}, \"mode\": \"lines\", \"name\": \"0\", \"orientation\": \"v\", \"showlegend\": true, \"type\": \"scatter\", \"x\": [0, 1, 2, 3, 4, 5, 6, 7, 8, 9], \"xaxis\": \"x\", \"y\": [1749.9999999999995, 1253.0170610597086, 993.0416700226118, 752.7972185597686, 562.4057315830198, 473.811357450659, 417.92018002310414, 377.19839053049526, 339.2465323857616, 318.2711069435448], \"yaxis\": \"y\"}],                        {\"legend\": {\"title\": {\"text\": \"variable\"}, \"tracegroupgap\": 0}, \"margin\": {\"t\": 60}, \"template\": {\"data\": {\"bar\": [{\"error_x\": {\"color\": \"#2a3f5f\"}, \"error_y\": {\"color\": \"#2a3f5f\"}, \"marker\": {\"line\": {\"color\": \"#E5ECF6\", \"width\": 0.5}}, \"type\": \"bar\"}], \"barpolar\": [{\"marker\": {\"line\": {\"color\": \"#E5ECF6\", \"width\": 0.5}}, \"type\": \"barpolar\"}], \"carpet\": [{\"aaxis\": {\"endlinecolor\": \"#2a3f5f\", \"gridcolor\": \"white\", \"linecolor\": \"white\", \"minorgridcolor\": \"white\", \"startlinecolor\": \"#2a3f5f\"}, \"baxis\": {\"endlinecolor\": \"#2a3f5f\", \"gridcolor\": \"white\", \"linecolor\": \"white\", \"minorgridcolor\": \"white\", \"startlinecolor\": \"#2a3f5f\"}, \"type\": \"carpet\"}], \"choropleth\": [{\"colorbar\": {\"outlinewidth\": 0, \"ticks\": \"\"}, \"type\": \"choropleth\"}], \"contour\": [{\"colorbar\": {\"outlinewidth\": 0, \"ticks\": \"\"}, \"colorscale\": [[0.0, \"#0d0887\"], [0.1111111111111111, \"#46039f\"], [0.2222222222222222, \"#7201a8\"], [0.3333333333333333, \"#9c179e\"], [0.4444444444444444, \"#bd3786\"], [0.5555555555555556, \"#d8576b\"], [0.6666666666666666, \"#ed7953\"], [0.7777777777777778, \"#fb9f3a\"], [0.8888888888888888, \"#fdca26\"], [1.0, \"#f0f921\"]], \"type\": \"contour\"}], \"contourcarpet\": [{\"colorbar\": {\"outlinewidth\": 0, \"ticks\": \"\"}, \"type\": \"contourcarpet\"}], \"heatmap\": [{\"colorbar\": {\"outlinewidth\": 0, \"ticks\": \"\"}, \"colorscale\": [[0.0, \"#0d0887\"], [0.1111111111111111, \"#46039f\"], [0.2222222222222222, \"#7201a8\"], [0.3333333333333333, \"#9c179e\"], [0.4444444444444444, \"#bd3786\"], [0.5555555555555556, \"#d8576b\"], [0.6666666666666666, \"#ed7953\"], [0.7777777777777778, \"#fb9f3a\"], [0.8888888888888888, \"#fdca26\"], [1.0, \"#f0f921\"]], \"type\": \"heatmap\"}], \"heatmapgl\": [{\"colorbar\": {\"outlinewidth\": 0, \"ticks\": \"\"}, \"colorscale\": [[0.0, \"#0d0887\"], [0.1111111111111111, \"#46039f\"], [0.2222222222222222, \"#7201a8\"], [0.3333333333333333, \"#9c179e\"], [0.4444444444444444, \"#bd3786\"], [0.5555555555555556, \"#d8576b\"], [0.6666666666666666, \"#ed7953\"], [0.7777777777777778, \"#fb9f3a\"], [0.8888888888888888, \"#fdca26\"], [1.0, \"#f0f921\"]], \"type\": \"heatmapgl\"}], \"histogram\": [{\"marker\": {\"colorbar\": {\"outlinewidth\": 0, \"ticks\": \"\"}}, \"type\": \"histogram\"}], \"histogram2d\": [{\"colorbar\": {\"outlinewidth\": 0, \"ticks\": \"\"}, \"colorscale\": [[0.0, \"#0d0887\"], [0.1111111111111111, \"#46039f\"], [0.2222222222222222, \"#7201a8\"], [0.3333333333333333, \"#9c179e\"], [0.4444444444444444, \"#bd3786\"], [0.5555555555555556, \"#d8576b\"], [0.6666666666666666, \"#ed7953\"], [0.7777777777777778, \"#fb9f3a\"], [0.8888888888888888, \"#fdca26\"], [1.0, \"#f0f921\"]], \"type\": \"histogram2d\"}], \"histogram2dcontour\": [{\"colorbar\": {\"outlinewidth\": 0, \"ticks\": \"\"}, \"colorscale\": [[0.0, \"#0d0887\"], [0.1111111111111111, \"#46039f\"], [0.2222222222222222, \"#7201a8\"], [0.3333333333333333, \"#9c179e\"], [0.4444444444444444, \"#bd3786\"], [0.5555555555555556, \"#d8576b\"], [0.6666666666666666, \"#ed7953\"], [0.7777777777777778, \"#fb9f3a\"], [0.8888888888888888, \"#fdca26\"], [1.0, \"#f0f921\"]], \"type\": \"histogram2dcontour\"}], \"mesh3d\": [{\"colorbar\": {\"outlinewidth\": 0, \"ticks\": \"\"}, \"type\": \"mesh3d\"}], \"parcoords\": [{\"line\": {\"colorbar\": {\"outlinewidth\": 0, \"ticks\": \"\"}}, \"type\": \"parcoords\"}], \"pie\": [{\"automargin\": true, \"type\": \"pie\"}], \"scatter\": [{\"marker\": {\"colorbar\": {\"outlinewidth\": 0, \"ticks\": \"\"}}, \"type\": \"scatter\"}], \"scatter3d\": [{\"line\": {\"colorbar\": {\"outlinewidth\": 0, \"ticks\": \"\"}}, \"marker\": {\"colorbar\": {\"outlinewidth\": 0, \"ticks\": \"\"}}, \"type\": \"scatter3d\"}], \"scattercarpet\": [{\"marker\": {\"colorbar\": {\"outlinewidth\": 0, \"ticks\": \"\"}}, \"type\": \"scattercarpet\"}], \"scattergeo\": [{\"marker\": {\"colorbar\": {\"outlinewidth\": 0, \"ticks\": \"\"}}, \"type\": \"scattergeo\"}], \"scattergl\": [{\"marker\": {\"colorbar\": {\"outlinewidth\": 0, \"ticks\": \"\"}}, \"type\": \"scattergl\"}], \"scattermapbox\": [{\"marker\": {\"colorbar\": {\"outlinewidth\": 0, \"ticks\": \"\"}}, \"type\": \"scattermapbox\"}], \"scatterpolar\": [{\"marker\": {\"colorbar\": {\"outlinewidth\": 0, \"ticks\": \"\"}}, \"type\": \"scatterpolar\"}], \"scatterpolargl\": [{\"marker\": {\"colorbar\": {\"outlinewidth\": 0, \"ticks\": \"\"}}, \"type\": \"scatterpolargl\"}], \"scatterternary\": [{\"marker\": {\"colorbar\": {\"outlinewidth\": 0, \"ticks\": \"\"}}, \"type\": \"scatterternary\"}], \"surface\": [{\"colorbar\": {\"outlinewidth\": 0, \"ticks\": \"\"}, \"colorscale\": [[0.0, \"#0d0887\"], [0.1111111111111111, \"#46039f\"], [0.2222222222222222, \"#7201a8\"], [0.3333333333333333, \"#9c179e\"], [0.4444444444444444, \"#bd3786\"], [0.5555555555555556, \"#d8576b\"], [0.6666666666666666, \"#ed7953\"], [0.7777777777777778, \"#fb9f3a\"], [0.8888888888888888, \"#fdca26\"], [1.0, \"#f0f921\"]], \"type\": \"surface\"}], \"table\": [{\"cells\": {\"fill\": {\"color\": \"#EBF0F8\"}, \"line\": {\"color\": \"white\"}}, \"header\": {\"fill\": {\"color\": \"#C8D4E3\"}, \"line\": {\"color\": \"white\"}}, \"type\": \"table\"}]}, \"layout\": {\"annotationdefaults\": {\"arrowcolor\": \"#2a3f5f\", \"arrowhead\": 0, \"arrowwidth\": 1}, \"autotypenumbers\": \"strict\", \"coloraxis\": {\"colorbar\": {\"outlinewidth\": 0, \"ticks\": \"\"}}, \"colorscale\": {\"diverging\": [[0, \"#8e0152\"], [0.1, \"#c51b7d\"], [0.2, \"#de77ae\"], [0.3, \"#f1b6da\"], [0.4, \"#fde0ef\"], [0.5, \"#f7f7f7\"], [0.6, \"#e6f5d0\"], [0.7, \"#b8e186\"], [0.8, \"#7fbc41\"], [0.9, \"#4d9221\"], [1, \"#276419\"]], \"sequential\": [[0.0, \"#0d0887\"], [0.1111111111111111, \"#46039f\"], [0.2222222222222222, \"#7201a8\"], [0.3333333333333333, \"#9c179e\"], [0.4444444444444444, \"#bd3786\"], [0.5555555555555556, \"#d8576b\"], [0.6666666666666666, \"#ed7953\"], [0.7777777777777778, \"#fb9f3a\"], [0.8888888888888888, \"#fdca26\"], [1.0, \"#f0f921\"]], \"sequentialminus\": [[0.0, \"#0d0887\"], [0.1111111111111111, \"#46039f\"], [0.2222222222222222, \"#7201a8\"], [0.3333333333333333, \"#9c179e\"], [0.4444444444444444, \"#bd3786\"], [0.5555555555555556, \"#d8576b\"], [0.6666666666666666, \"#ed7953\"], [0.7777777777777778, \"#fb9f3a\"], [0.8888888888888888, \"#fdca26\"], [1.0, \"#f0f921\"]]}, \"colorway\": [\"#636efa\", \"#EF553B\", \"#00cc96\", \"#ab63fa\", \"#FFA15A\", \"#19d3f3\", \"#FF6692\", \"#B6E880\", \"#FF97FF\", \"#FECB52\"], \"font\": {\"color\": \"#2a3f5f\"}, \"geo\": {\"bgcolor\": \"white\", \"lakecolor\": \"white\", \"landcolor\": \"#E5ECF6\", \"showlakes\": true, \"showland\": true, \"subunitcolor\": \"white\"}, \"hoverlabel\": {\"align\": \"left\"}, \"hovermode\": \"closest\", \"mapbox\": {\"style\": \"light\"}, \"paper_bgcolor\": \"white\", \"plot_bgcolor\": \"#E5ECF6\", \"polar\": {\"angularaxis\": {\"gridcolor\": \"white\", \"linecolor\": \"white\", \"ticks\": \"\"}, \"bgcolor\": \"#E5ECF6\", \"radialaxis\": {\"gridcolor\": \"white\", \"linecolor\": \"white\", \"ticks\": \"\"}}, \"scene\": {\"xaxis\": {\"backgroundcolor\": \"#E5ECF6\", \"gridcolor\": \"white\", \"gridwidth\": 2, \"linecolor\": \"white\", \"showbackground\": true, \"ticks\": \"\", \"zerolinecolor\": \"white\"}, \"yaxis\": {\"backgroundcolor\": \"#E5ECF6\", \"gridcolor\": \"white\", \"gridwidth\": 2, \"linecolor\": \"white\", \"showbackground\": true, \"ticks\": \"\", \"zerolinecolor\": \"white\"}, \"zaxis\": {\"backgroundcolor\": \"#E5ECF6\", \"gridcolor\": \"white\", \"gridwidth\": 2, \"linecolor\": \"white\", \"showbackground\": true, \"ticks\": \"\", \"zerolinecolor\": \"white\"}}, \"shapedefaults\": {\"line\": {\"color\": \"#2a3f5f\"}}, \"ternary\": {\"aaxis\": {\"gridcolor\": \"white\", \"linecolor\": \"white\", \"ticks\": \"\"}, \"baxis\": {\"gridcolor\": \"white\", \"linecolor\": \"white\", \"ticks\": \"\"}, \"bgcolor\": \"#E5ECF6\", \"caxis\": {\"gridcolor\": \"white\", \"linecolor\": \"white\", \"ticks\": \"\"}}, \"title\": {\"x\": 0.05}, \"xaxis\": {\"automargin\": true, \"gridcolor\": \"white\", \"linecolor\": \"white\", \"ticks\": \"\", \"title\": {\"standoff\": 15}, \"zerolinecolor\": \"white\", \"zerolinewidth\": 2}, \"yaxis\": {\"automargin\": true, \"gridcolor\": \"white\", \"linecolor\": \"white\", \"ticks\": \"\", \"title\": {\"standoff\": 15}, \"zerolinecolor\": \"white\", \"zerolinewidth\": 2}}}, \"xaxis\": {\"anchor\": \"y\", \"domain\": [0.0, 1.0], \"title\": {\"text\": \"index\"}}, \"yaxis\": {\"anchor\": \"x\", \"domain\": [0.0, 1.0], \"title\": {\"text\": \"value\"}}},                        {\"responsive\": true}                    ).then(function(){\n",
       "                            \n",
       "var gd = document.getElementById('7ce7ea3c-e8dc-435f-8a43-0216eef80de7');\n",
       "var x = new MutationObserver(function (mutations, observer) {{\n",
       "        var display = window.getComputedStyle(gd).display;\n",
       "        if (!display || display === 'none') {{\n",
       "            console.log([gd, 'removed!']);\n",
       "            Plotly.purge(gd);\n",
       "            observer.disconnect();\n",
       "        }}\n",
       "}});\n",
       "\n",
       "// Listen for the removal of the full notebook cells\n",
       "var notebookContainer = gd.closest('#notebook-container');\n",
       "if (notebookContainer) {{\n",
       "    x.observe(notebookContainer, {childList: true});\n",
       "}}\n",
       "\n",
       "// Listen for the clearing of the current output cell\n",
       "var outputEl = gd.closest('.output');\n",
       "if (outputEl) {{\n",
       "    x.observe(outputEl, {childList: true});\n",
       "}}\n",
       "\n",
       "                        })                };                });            </script>        </div>"
      ]
     },
     "metadata": {},
     "output_type": "display_data"
    }
   ],
   "source": [
    "px.line(inertias)"
   ]
  },
  {
   "cell_type": "code",
   "execution_count": 44,
   "metadata": {},
   "outputs": [
    {
     "data": {
      "text/plain": [
       "KMeans(n_clusters=5)"
      ]
     },
     "execution_count": 44,
     "metadata": {},
     "output_type": "execute_result"
    }
   ],
   "source": [
    "model = KMeans(n_clusters=5)\n",
    "model.fit(scaled_df)"
   ]
  },
  {
   "cell_type": "code",
   "execution_count": 45,
   "metadata": {},
   "outputs": [],
   "source": [
    "predictions = model.predict(scaled_df)"
   ]
  },
  {
   "cell_type": "code",
   "execution_count": 46,
   "metadata": {},
   "outputs": [],
   "source": [
    "df['Cluster'] = predictions"
   ]
  },
  {
   "cell_type": "code",
   "execution_count": 47,
   "metadata": {},
   "outputs": [
    {
     "data": {
      "text/html": [
       "<div>\n",
       "<style scoped>\n",
       "    .dataframe tbody tr th:only-of-type {\n",
       "        vertical-align: middle;\n",
       "    }\n",
       "\n",
       "    .dataframe tbody tr th {\n",
       "        vertical-align: top;\n",
       "    }\n",
       "\n",
       "    .dataframe thead th {\n",
       "        text-align: right;\n",
       "    }\n",
       "</style>\n",
       "<table border=\"1\" class=\"dataframe\">\n",
       "  <thead>\n",
       "    <tr style=\"text-align: right;\">\n",
       "      <th></th>\n",
       "      <th>Interest Score</th>\n",
       "      <th>HST</th>\n",
       "      <th>XTN</th>\n",
       "      <th>Principal Component 1</th>\n",
       "      <th>sentiment_negative</th>\n",
       "      <th>sentiment_neutral</th>\n",
       "      <th>sentiment_positive</th>\n",
       "      <th>Cluster</th>\n",
       "    </tr>\n",
       "  </thead>\n",
       "  <tbody>\n",
       "    <tr>\n",
       "      <th>2020-03-03</th>\n",
       "      <td>7</td>\n",
       "      <td>-0.053440</td>\n",
       "      <td>-0.028093</td>\n",
       "      <td>-8.775543e+06</td>\n",
       "      <td>0</td>\n",
       "      <td>1</td>\n",
       "      <td>0</td>\n",
       "      <td>2</td>\n",
       "    </tr>\n",
       "    <tr>\n",
       "      <th>2020-03-04</th>\n",
       "      <td>7</td>\n",
       "      <td>0.007057</td>\n",
       "      <td>0.031684</td>\n",
       "      <td>-8.775510e+06</td>\n",
       "      <td>0</td>\n",
       "      <td>1</td>\n",
       "      <td>0</td>\n",
       "      <td>4</td>\n",
       "    </tr>\n",
       "    <tr>\n",
       "      <th>2020-03-05</th>\n",
       "      <td>7</td>\n",
       "      <td>-0.078486</td>\n",
       "      <td>-0.065194</td>\n",
       "      <td>-8.775433e+06</td>\n",
       "      <td>0</td>\n",
       "      <td>1</td>\n",
       "      <td>0</td>\n",
       "      <td>2</td>\n",
       "    </tr>\n",
       "    <tr>\n",
       "      <th>2020-03-06</th>\n",
       "      <td>7</td>\n",
       "      <td>0.023574</td>\n",
       "      <td>-0.005379</td>\n",
       "      <td>-8.775380e+06</td>\n",
       "      <td>0</td>\n",
       "      <td>1</td>\n",
       "      <td>0</td>\n",
       "      <td>2</td>\n",
       "    </tr>\n",
       "    <tr>\n",
       "      <th>2020-03-09</th>\n",
       "      <td>30</td>\n",
       "      <td>-0.103269</td>\n",
       "      <td>-0.085571</td>\n",
       "      <td>-8.775023e+06</td>\n",
       "      <td>0</td>\n",
       "      <td>1</td>\n",
       "      <td>0</td>\n",
       "      <td>2</td>\n",
       "    </tr>\n",
       "  </tbody>\n",
       "</table>\n",
       "</div>"
      ],
      "text/plain": [
       "            Interest Score       HST       XTN  Principal Component 1  \\\n",
       "2020-03-03               7 -0.053440 -0.028093          -8.775543e+06   \n",
       "2020-03-04               7  0.007057  0.031684          -8.775510e+06   \n",
       "2020-03-05               7 -0.078486 -0.065194          -8.775433e+06   \n",
       "2020-03-06               7  0.023574 -0.005379          -8.775380e+06   \n",
       "2020-03-09              30 -0.103269 -0.085571          -8.775023e+06   \n",
       "\n",
       "            sentiment_negative  sentiment_neutral  sentiment_positive  Cluster  \n",
       "2020-03-03                   0                  1                   0        2  \n",
       "2020-03-04                   0                  1                   0        4  \n",
       "2020-03-05                   0                  1                   0        2  \n",
       "2020-03-06                   0                  1                   0        2  \n",
       "2020-03-09                   0                  1                   0        2  "
      ]
     },
     "execution_count": 47,
     "metadata": {},
     "output_type": "execute_result"
    }
   ],
   "source": [
    "df.head()"
   ]
  },
  {
   "cell_type": "code",
   "execution_count": 48,
   "metadata": {},
   "outputs": [],
   "source": [
    "interpret_df = df.copy()"
   ]
  },
  {
   "cell_type": "code",
   "execution_count": 49,
   "metadata": {},
   "outputs": [],
   "source": [
    "interpret_df['HST'] = df['HST'].apply(lambda x: f'Up {round(x*100,2)}%' if x>0 else f'Down {abs(round(x*100,2))}%')\n",
    "interpret_df['XTN'] = df['XTN'].apply(lambda x: f'Up {round(x*100,2)}%' if x>0 else f'Down {abs(round(x*100,2))}%')"
   ]
  },
  {
   "cell_type": "code",
   "execution_count": 50,
   "metadata": {},
   "outputs": [
    {
     "data": {
      "text/html": [
       "<div>\n",
       "<style scoped>\n",
       "    .dataframe tbody tr th:only-of-type {\n",
       "        vertical-align: middle;\n",
       "    }\n",
       "\n",
       "    .dataframe tbody tr th {\n",
       "        vertical-align: top;\n",
       "    }\n",
       "\n",
       "    .dataframe thead th {\n",
       "        text-align: right;\n",
       "    }\n",
       "</style>\n",
       "<table border=\"1\" class=\"dataframe\">\n",
       "  <thead>\n",
       "    <tr style=\"text-align: right;\">\n",
       "      <th></th>\n",
       "      <th>Interest Score</th>\n",
       "      <th>HST</th>\n",
       "      <th>XTN</th>\n",
       "      <th>Principal Component 1</th>\n",
       "      <th>sentiment_negative</th>\n",
       "      <th>sentiment_neutral</th>\n",
       "      <th>sentiment_positive</th>\n",
       "      <th>Cluster</th>\n",
       "    </tr>\n",
       "  </thead>\n",
       "  <tbody>\n",
       "    <tr>\n",
       "      <th>2020-03-03</th>\n",
       "      <td>7</td>\n",
       "      <td>Down 5.34%</td>\n",
       "      <td>Down 2.81%</td>\n",
       "      <td>-8.775543e+06</td>\n",
       "      <td>0</td>\n",
       "      <td>1</td>\n",
       "      <td>0</td>\n",
       "      <td>2</td>\n",
       "    </tr>\n",
       "    <tr>\n",
       "      <th>2020-03-04</th>\n",
       "      <td>7</td>\n",
       "      <td>Up 0.71%</td>\n",
       "      <td>Up 3.17%</td>\n",
       "      <td>-8.775510e+06</td>\n",
       "      <td>0</td>\n",
       "      <td>1</td>\n",
       "      <td>0</td>\n",
       "      <td>4</td>\n",
       "    </tr>\n",
       "    <tr>\n",
       "      <th>2020-03-05</th>\n",
       "      <td>7</td>\n",
       "      <td>Down 7.85%</td>\n",
       "      <td>Down 6.52%</td>\n",
       "      <td>-8.775433e+06</td>\n",
       "      <td>0</td>\n",
       "      <td>1</td>\n",
       "      <td>0</td>\n",
       "      <td>2</td>\n",
       "    </tr>\n",
       "    <tr>\n",
       "      <th>2020-03-06</th>\n",
       "      <td>7</td>\n",
       "      <td>Up 2.36%</td>\n",
       "      <td>Down 0.54%</td>\n",
       "      <td>-8.775380e+06</td>\n",
       "      <td>0</td>\n",
       "      <td>1</td>\n",
       "      <td>0</td>\n",
       "      <td>2</td>\n",
       "    </tr>\n",
       "    <tr>\n",
       "      <th>2020-03-09</th>\n",
       "      <td>30</td>\n",
       "      <td>Down 10.33%</td>\n",
       "      <td>Down 8.56%</td>\n",
       "      <td>-8.775023e+06</td>\n",
       "      <td>0</td>\n",
       "      <td>1</td>\n",
       "      <td>0</td>\n",
       "      <td>2</td>\n",
       "    </tr>\n",
       "  </tbody>\n",
       "</table>\n",
       "</div>"
      ],
      "text/plain": [
       "            Interest Score          HST         XTN  Principal Component 1  \\\n",
       "2020-03-03               7   Down 5.34%  Down 2.81%          -8.775543e+06   \n",
       "2020-03-04               7     Up 0.71%    Up 3.17%          -8.775510e+06   \n",
       "2020-03-05               7   Down 7.85%  Down 6.52%          -8.775433e+06   \n",
       "2020-03-06               7     Up 2.36%  Down 0.54%          -8.775380e+06   \n",
       "2020-03-09              30  Down 10.33%  Down 8.56%          -8.775023e+06   \n",
       "\n",
       "            sentiment_negative  sentiment_neutral  sentiment_positive  Cluster  \n",
       "2020-03-03                   0                  1                   0        2  \n",
       "2020-03-04                   0                  1                   0        4  \n",
       "2020-03-05                   0                  1                   0        2  \n",
       "2020-03-06                   0                  1                   0        2  \n",
       "2020-03-09                   0                  1                   0        2  "
      ]
     },
     "execution_count": 50,
     "metadata": {},
     "output_type": "execute_result"
    }
   ],
   "source": [
    "interpret_df.head()"
   ]
  },
  {
   "cell_type": "code",
   "execution_count": 51,
   "metadata": {},
   "outputs": [],
   "source": [
    "interpret_cluster_0_df = interpret_df.loc[interpret_df['Cluster'] == 0]\n",
    "interpret_cluster_1_df = interpret_df.loc[interpret_df['Cluster'] == 1]\n",
    "interpret_cluster_2_df = interpret_df.loc[interpret_df['Cluster'] == 2]\n",
    "interpret_cluster_3_df = interpret_df.loc[interpret_df['Cluster'] == 3]\n",
    "interpret_cluster_4_df = interpret_df.loc[interpret_df['Cluster'] == 4]"
   ]
  },
  {
   "cell_type": "code",
   "execution_count": 52,
   "metadata": {},
   "outputs": [],
   "source": [
    "cluster_0_df = df.loc[df['Cluster'] == 0]\n",
    "cluster_1_df = df.loc[df['Cluster'] == 1]\n",
    "cluster_2_df = df.loc[df['Cluster'] == 2]\n",
    "cluster_3_df = df.loc[df['Cluster'] == 3]\n",
    "cluster_4_df = df.loc[df['Cluster'] == 4]"
   ]
  },
  {
   "cell_type": "code",
   "execution_count": 53,
   "metadata": {},
   "outputs": [
    {
     "data": {
      "text/html": [
       "<div>\n",
       "<style scoped>\n",
       "    .dataframe tbody tr th:only-of-type {\n",
       "        vertical-align: middle;\n",
       "    }\n",
       "\n",
       "    .dataframe tbody tr th {\n",
       "        vertical-align: top;\n",
       "    }\n",
       "\n",
       "    .dataframe thead th {\n",
       "        text-align: right;\n",
       "    }\n",
       "</style>\n",
       "<table border=\"1\" class=\"dataframe\">\n",
       "  <thead>\n",
       "    <tr style=\"text-align: right;\">\n",
       "      <th></th>\n",
       "      <th>Interest Score</th>\n",
       "      <th>HST</th>\n",
       "      <th>XTN</th>\n",
       "      <th>Principal Component 1</th>\n",
       "      <th>sentiment_negative</th>\n",
       "      <th>sentiment_neutral</th>\n",
       "      <th>sentiment_positive</th>\n",
       "      <th>Cluster</th>\n",
       "    </tr>\n",
       "  </thead>\n",
       "  <tbody>\n",
       "    <tr>\n",
       "      <th>count</th>\n",
       "      <td>62.000000</td>\n",
       "      <td>62.000000</td>\n",
       "      <td>62.000000</td>\n",
       "      <td>6.200000e+01</td>\n",
       "      <td>62.0</td>\n",
       "      <td>62.0</td>\n",
       "      <td>62.0</td>\n",
       "      <td>62.0</td>\n",
       "    </tr>\n",
       "    <tr>\n",
       "      <th>mean</th>\n",
       "      <td>81.645161</td>\n",
       "      <td>0.003822</td>\n",
       "      <td>0.002963</td>\n",
       "      <td>1.217699e+07</td>\n",
       "      <td>0.0</td>\n",
       "      <td>1.0</td>\n",
       "      <td>0.0</td>\n",
       "      <td>0.0</td>\n",
       "    </tr>\n",
       "    <tr>\n",
       "      <th>std</th>\n",
       "      <td>8.613936</td>\n",
       "      <td>0.025301</td>\n",
       "      <td>0.013808</td>\n",
       "      <td>5.724558e+06</td>\n",
       "      <td>0.0</td>\n",
       "      <td>0.0</td>\n",
       "      <td>0.0</td>\n",
       "      <td>0.0</td>\n",
       "    </tr>\n",
       "    <tr>\n",
       "      <th>min</th>\n",
       "      <td>64.000000</td>\n",
       "      <td>-0.049123</td>\n",
       "      <td>-0.031024</td>\n",
       "      <td>1.576163e+06</td>\n",
       "      <td>0.0</td>\n",
       "      <td>1.0</td>\n",
       "      <td>0.0</td>\n",
       "      <td>0.0</td>\n",
       "    </tr>\n",
       "    <tr>\n",
       "      <th>25%</th>\n",
       "      <td>76.000000</td>\n",
       "      <td>-0.014876</td>\n",
       "      <td>-0.004423</td>\n",
       "      <td>7.076182e+06</td>\n",
       "      <td>0.0</td>\n",
       "      <td>1.0</td>\n",
       "      <td>0.0</td>\n",
       "      <td>0.0</td>\n",
       "    </tr>\n",
       "    <tr>\n",
       "      <th>50%</th>\n",
       "      <td>83.000000</td>\n",
       "      <td>0.003984</td>\n",
       "      <td>0.002568</td>\n",
       "      <td>1.295372e+07</td>\n",
       "      <td>0.0</td>\n",
       "      <td>1.0</td>\n",
       "      <td>0.0</td>\n",
       "      <td>0.0</td>\n",
       "    </tr>\n",
       "    <tr>\n",
       "      <th>75%</th>\n",
       "      <td>87.000000</td>\n",
       "      <td>0.021038</td>\n",
       "      <td>0.011221</td>\n",
       "      <td>1.769927e+07</td>\n",
       "      <td>0.0</td>\n",
       "      <td>1.0</td>\n",
       "      <td>0.0</td>\n",
       "      <td>0.0</td>\n",
       "    </tr>\n",
       "    <tr>\n",
       "      <th>max</th>\n",
       "      <td>100.000000</td>\n",
       "      <td>0.057348</td>\n",
       "      <td>0.036358</td>\n",
       "      <td>1.976423e+07</td>\n",
       "      <td>0.0</td>\n",
       "      <td>1.0</td>\n",
       "      <td>0.0</td>\n",
       "      <td>0.0</td>\n",
       "    </tr>\n",
       "  </tbody>\n",
       "</table>\n",
       "</div>"
      ],
      "text/plain": [
       "       Interest Score        HST        XTN  Principal Component 1  \\\n",
       "count       62.000000  62.000000  62.000000           6.200000e+01   \n",
       "mean        81.645161   0.003822   0.002963           1.217699e+07   \n",
       "std          8.613936   0.025301   0.013808           5.724558e+06   \n",
       "min         64.000000  -0.049123  -0.031024           1.576163e+06   \n",
       "25%         76.000000  -0.014876  -0.004423           7.076182e+06   \n",
       "50%         83.000000   0.003984   0.002568           1.295372e+07   \n",
       "75%         87.000000   0.021038   0.011221           1.769927e+07   \n",
       "max        100.000000   0.057348   0.036358           1.976423e+07   \n",
       "\n",
       "       sentiment_negative  sentiment_neutral  sentiment_positive  Cluster  \n",
       "count                62.0               62.0                62.0     62.0  \n",
       "mean                  0.0                1.0                 0.0      0.0  \n",
       "std                   0.0                0.0                 0.0      0.0  \n",
       "min                   0.0                1.0                 0.0      0.0  \n",
       "25%                   0.0                1.0                 0.0      0.0  \n",
       "50%                   0.0                1.0                 0.0      0.0  \n",
       "75%                   0.0                1.0                 0.0      0.0  \n",
       "max                   0.0                1.0                 0.0      0.0  "
      ]
     },
     "execution_count": 53,
     "metadata": {},
     "output_type": "execute_result"
    }
   ],
   "source": [
    "cluster_0_df.describe()"
   ]
  },
  {
   "cell_type": "code",
   "execution_count": 54,
   "metadata": {},
   "outputs": [],
   "source": [
    "def get_avg_vals(df):\n",
    "    data_list = []\n",
    "    rows = df.shape[0]\n",
    "    for col in range(0, len(df.columns.tolist())):\n",
    "        data = df.iloc[:,[col]].mean().values[0]\n",
    "        data_list.append(data)\n",
    "    data_list.append(rows)\n",
    "    return data_list\n",
    "    \n",
    "    "
   ]
  },
  {
   "cell_type": "code",
   "execution_count": 55,
   "metadata": {},
   "outputs": [],
   "source": [
    "c0_data = get_avg_vals(cluster_0_df)\n",
    "c1_data = get_avg_vals(cluster_1_df)\n",
    "c2_data = get_avg_vals(cluster_2_df)\n",
    "c3_data = get_avg_vals(cluster_3_df)\n",
    "c4_data = get_avg_vals(cluster_4_df)"
   ]
  },
  {
   "cell_type": "code",
   "execution_count": 56,
   "metadata": {},
   "outputs": [],
   "source": [
    "df_data = []\n",
    "df_data.append(c0_data)\n",
    "df_data.append(c1_data)\n",
    "df_data.append(c2_data)\n",
    "df_data.append(c3_data)\n",
    "df_data.append(c4_data)"
   ]
  },
  {
   "cell_type": "code",
   "execution_count": 57,
   "metadata": {},
   "outputs": [],
   "source": [
    "columns = df.columns.tolist()\n",
    "columns.append('Num of Data Points')\n",
    "cluster_summary_df = pd.DataFrame(data=df_data, columns=columns)"
   ]
  },
  {
   "cell_type": "code",
   "execution_count": 58,
   "metadata": {},
   "outputs": [
    {
     "data": {
      "text/html": [
       "<div>\n",
       "<style scoped>\n",
       "    .dataframe tbody tr th:only-of-type {\n",
       "        vertical-align: middle;\n",
       "    }\n",
       "\n",
       "    .dataframe tbody tr th {\n",
       "        vertical-align: top;\n",
       "    }\n",
       "\n",
       "    .dataframe thead th {\n",
       "        text-align: right;\n",
       "    }\n",
       "</style>\n",
       "<table border=\"1\" class=\"dataframe\">\n",
       "  <thead>\n",
       "    <tr style=\"text-align: right;\">\n",
       "      <th></th>\n",
       "      <th>Interest Score</th>\n",
       "      <th>HST</th>\n",
       "      <th>XTN</th>\n",
       "      <th>Principal Component 1</th>\n",
       "      <th>sentiment_negative</th>\n",
       "      <th>sentiment_neutral</th>\n",
       "      <th>sentiment_positive</th>\n",
       "      <th>Cluster</th>\n",
       "      <th>Num of Data Points</th>\n",
       "    </tr>\n",
       "  </thead>\n",
       "  <tbody>\n",
       "    <tr>\n",
       "      <th>0</th>\n",
       "      <td>81.645161</td>\n",
       "      <td>0.003822</td>\n",
       "      <td>0.002963</td>\n",
       "      <td>1.217699e+07</td>\n",
       "      <td>0.0</td>\n",
       "      <td>1.0</td>\n",
       "      <td>0.0</td>\n",
       "      <td>0.0</td>\n",
       "      <td>62</td>\n",
       "    </tr>\n",
       "    <tr>\n",
       "      <th>1</th>\n",
       "      <td>59.029412</td>\n",
       "      <td>-0.003229</td>\n",
       "      <td>0.002400</td>\n",
       "      <td>-9.370990e+05</td>\n",
       "      <td>1.0</td>\n",
       "      <td>0.0</td>\n",
       "      <td>0.0</td>\n",
       "      <td>1.0</td>\n",
       "      <td>34</td>\n",
       "    </tr>\n",
       "    <tr>\n",
       "      <th>2</th>\n",
       "      <td>58.857143</td>\n",
       "      <td>-0.025107</td>\n",
       "      <td>-0.014061</td>\n",
       "      <td>-4.905769e+06</td>\n",
       "      <td>0.0</td>\n",
       "      <td>1.0</td>\n",
       "      <td>0.0</td>\n",
       "      <td>2.0</td>\n",
       "      <td>98</td>\n",
       "    </tr>\n",
       "    <tr>\n",
       "      <th>3</th>\n",
       "      <td>77.000000</td>\n",
       "      <td>0.009198</td>\n",
       "      <td>-0.002974</td>\n",
       "      <td>4.693112e+06</td>\n",
       "      <td>0.0</td>\n",
       "      <td>0.0</td>\n",
       "      <td>1.0</td>\n",
       "      <td>3.0</td>\n",
       "      <td>3</td>\n",
       "    </tr>\n",
       "    <tr>\n",
       "      <th>4</th>\n",
       "      <td>60.509434</td>\n",
       "      <td>0.049890</td>\n",
       "      <td>0.030016</td>\n",
       "      <td>-5.223073e+06</td>\n",
       "      <td>0.0</td>\n",
       "      <td>1.0</td>\n",
       "      <td>0.0</td>\n",
       "      <td>4.0</td>\n",
       "      <td>53</td>\n",
       "    </tr>\n",
       "  </tbody>\n",
       "</table>\n",
       "</div>"
      ],
      "text/plain": [
       "   Interest Score       HST       XTN  Principal Component 1  \\\n",
       "0       81.645161  0.003822  0.002963           1.217699e+07   \n",
       "1       59.029412 -0.003229  0.002400          -9.370990e+05   \n",
       "2       58.857143 -0.025107 -0.014061          -4.905769e+06   \n",
       "3       77.000000  0.009198 -0.002974           4.693112e+06   \n",
       "4       60.509434  0.049890  0.030016          -5.223073e+06   \n",
       "\n",
       "   sentiment_negative  sentiment_neutral  sentiment_positive  Cluster  \\\n",
       "0                 0.0                1.0                 0.0      0.0   \n",
       "1                 1.0                0.0                 0.0      1.0   \n",
       "2                 0.0                1.0                 0.0      2.0   \n",
       "3                 0.0                0.0                 1.0      3.0   \n",
       "4                 0.0                1.0                 0.0      4.0   \n",
       "\n",
       "   Num of Data Points  \n",
       "0                  62  \n",
       "1                  34  \n",
       "2                  98  \n",
       "3                   3  \n",
       "4                  53  "
      ]
     },
     "execution_count": 58,
     "metadata": {},
     "output_type": "execute_result"
    }
   ],
   "source": [
    "cluster_summary_df"
   ]
  },
  {
   "cell_type": "code",
   "execution_count": 59,
   "metadata": {},
   "outputs": [],
   "source": [
    "cluster_summary_df['HST'] = cluster_summary_df['HST'].apply(lambda x: f'Up {round(x*100,4)}%' if x>0 else f'Down {abs(round(x*100,2))}%')\n",
    "cluster_summary_df['XTN'] = cluster_summary_df['XTN'].apply(lambda x: f'Up {round(x*100,4)}%' if x>0 else f'Down {abs(round(x*100,2))}%')\n",
    "cluster_summary_df['Interest Score'] = cluster_summary_df['Interest Score'].apply(lambda x: round(x,2))"
   ]
  },
  {
   "cell_type": "code",
   "execution_count": 60,
   "metadata": {},
   "outputs": [],
   "source": [
    "cluster_summary_df.index.name = 'Cluster'"
   ]
  },
  {
   "cell_type": "code",
   "execution_count": 61,
   "metadata": {},
   "outputs": [],
   "source": [
    "cluster_summary_df.drop(columns=['Cluster'], inplace=True)"
   ]
  },
  {
   "cell_type": "code",
   "execution_count": 62,
   "metadata": {},
   "outputs": [
    {
     "data": {
      "text/html": [
       "<div>\n",
       "<style scoped>\n",
       "    .dataframe tbody tr th:only-of-type {\n",
       "        vertical-align: middle;\n",
       "    }\n",
       "\n",
       "    .dataframe tbody tr th {\n",
       "        vertical-align: top;\n",
       "    }\n",
       "\n",
       "    .dataframe thead th {\n",
       "        text-align: right;\n",
       "    }\n",
       "</style>\n",
       "<table border=\"1\" class=\"dataframe\">\n",
       "  <thead>\n",
       "    <tr style=\"text-align: right;\">\n",
       "      <th></th>\n",
       "      <th>Interest Score</th>\n",
       "      <th>HST</th>\n",
       "      <th>XTN</th>\n",
       "      <th>Principal Component 1</th>\n",
       "      <th>sentiment_negative</th>\n",
       "      <th>sentiment_neutral</th>\n",
       "      <th>sentiment_positive</th>\n",
       "      <th>Num of Data Points</th>\n",
       "    </tr>\n",
       "    <tr>\n",
       "      <th>Cluster</th>\n",
       "      <th></th>\n",
       "      <th></th>\n",
       "      <th></th>\n",
       "      <th></th>\n",
       "      <th></th>\n",
       "      <th></th>\n",
       "      <th></th>\n",
       "      <th></th>\n",
       "    </tr>\n",
       "  </thead>\n",
       "  <tbody>\n",
       "    <tr>\n",
       "      <th>0</th>\n",
       "      <td>81.65</td>\n",
       "      <td>Up 0.3822%</td>\n",
       "      <td>Up 0.2963%</td>\n",
       "      <td>1.217699e+07</td>\n",
       "      <td>0.0</td>\n",
       "      <td>1.0</td>\n",
       "      <td>0.0</td>\n",
       "      <td>62</td>\n",
       "    </tr>\n",
       "    <tr>\n",
       "      <th>1</th>\n",
       "      <td>59.03</td>\n",
       "      <td>Down 0.32%</td>\n",
       "      <td>Up 0.24%</td>\n",
       "      <td>-9.370990e+05</td>\n",
       "      <td>1.0</td>\n",
       "      <td>0.0</td>\n",
       "      <td>0.0</td>\n",
       "      <td>34</td>\n",
       "    </tr>\n",
       "    <tr>\n",
       "      <th>2</th>\n",
       "      <td>58.86</td>\n",
       "      <td>Down 2.51%</td>\n",
       "      <td>Down 1.41%</td>\n",
       "      <td>-4.905769e+06</td>\n",
       "      <td>0.0</td>\n",
       "      <td>1.0</td>\n",
       "      <td>0.0</td>\n",
       "      <td>98</td>\n",
       "    </tr>\n",
       "    <tr>\n",
       "      <th>3</th>\n",
       "      <td>77.00</td>\n",
       "      <td>Up 0.9198%</td>\n",
       "      <td>Down 0.3%</td>\n",
       "      <td>4.693112e+06</td>\n",
       "      <td>0.0</td>\n",
       "      <td>0.0</td>\n",
       "      <td>1.0</td>\n",
       "      <td>3</td>\n",
       "    </tr>\n",
       "    <tr>\n",
       "      <th>4</th>\n",
       "      <td>60.51</td>\n",
       "      <td>Up 4.989%</td>\n",
       "      <td>Up 3.0016%</td>\n",
       "      <td>-5.223073e+06</td>\n",
       "      <td>0.0</td>\n",
       "      <td>1.0</td>\n",
       "      <td>0.0</td>\n",
       "      <td>53</td>\n",
       "    </tr>\n",
       "  </tbody>\n",
       "</table>\n",
       "</div>"
      ],
      "text/plain": [
       "         Interest Score         HST         XTN  Principal Component 1  \\\n",
       "Cluster                                                                  \n",
       "0                 81.65  Up 0.3822%  Up 0.2963%           1.217699e+07   \n",
       "1                 59.03  Down 0.32%    Up 0.24%          -9.370990e+05   \n",
       "2                 58.86  Down 2.51%  Down 1.41%          -4.905769e+06   \n",
       "3                 77.00  Up 0.9198%   Down 0.3%           4.693112e+06   \n",
       "4                 60.51   Up 4.989%  Up 3.0016%          -5.223073e+06   \n",
       "\n",
       "         sentiment_negative  sentiment_neutral  sentiment_positive  \\\n",
       "Cluster                                                              \n",
       "0                       0.0                1.0                 0.0   \n",
       "1                       1.0                0.0                 0.0   \n",
       "2                       0.0                1.0                 0.0   \n",
       "3                       0.0                0.0                 1.0   \n",
       "4                       0.0                1.0                 0.0   \n",
       "\n",
       "         Num of Data Points  \n",
       "Cluster                      \n",
       "0                        62  \n",
       "1                        34  \n",
       "2                        98  \n",
       "3                         3  \n",
       "4                        53  "
      ]
     },
     "execution_count": 62,
     "metadata": {},
     "output_type": "execute_result"
    }
   ],
   "source": [
    "cluster_summary_df"
   ]
  },
  {
   "cell_type": "code",
   "execution_count": 63,
   "metadata": {},
   "outputs": [
    {
     "data": {},
     "metadata": {},
     "output_type": "display_data"
    },
    {
     "data": {
      "application/vnd.holoviews_exec.v0+json": "",
      "text/html": [
       "<div id='1376'>\n",
       "\n",
       "\n",
       "\n",
       "\n",
       "\n",
       "  <div class=\"bk-root\" id=\"9706de88-23fc-486c-8bd3-5d910c82d83e\" data-root-id=\"1376\"></div>\n",
       "</div>\n",
       "<script type=\"application/javascript\">(function(root) {\n",
       "  function embed_document(root) {\n",
       "    var docs_json = {\"5e167b6d-6d53-4f5b-8494-709bd9011c56\":{\"roots\":{\"references\":[{\"attributes\":{\"fill_color\":{\"value\":\"#e5ae38\"},\"line_color\":{\"value\":\"#e5ae38\"},\"size\":{\"units\":\"screen\",\"value\":5.477225575051661},\"x\":{\"field\":\"Principal Component 1\"},\"y\":{\"field\":\"Interest Score\"}},\"id\":\"1459\",\"type\":\"Scatter\"},{\"attributes\":{},\"id\":\"1497\",\"type\":\"UnionRenderers\"},{\"attributes\":{\"label\":{\"value\":\"3\"},\"renderers\":[{\"id\":\"1483\"}]},\"id\":\"1499\",\"type\":\"LegendItem\"},{\"attributes\":{},\"id\":\"1403\",\"type\":\"PanTool\"},{\"attributes\":{},\"id\":\"1404\",\"type\":\"WheelZoomTool\"},{\"attributes\":{\"margin\":[5,5,5,5],\"name\":\"HSpacer02560\",\"sizing_mode\":\"stretch_width\"},\"id\":\"1669\",\"type\":\"Spacer\"},{\"attributes\":{\"end\":109.3,\"reset_end\":109.3,\"reset_start\":-2.3000000000000007,\"start\":-2.3000000000000007,\"tags\":[[[\"Interest Score\",\"Interest Score\",null]]]},\"id\":\"1379\",\"type\":\"Range1d\"},{\"attributes\":{\"overlay\":{\"id\":\"1407\"}},\"id\":\"1405\",\"type\":\"BoxZoomTool\"},{\"attributes\":{\"data_source\":{\"id\":\"1500\"},\"glyph\":{\"id\":\"1503\"},\"hover_glyph\":null,\"muted_glyph\":{\"id\":\"1505\"},\"nonselection_glyph\":{\"id\":\"1504\"},\"selection_glyph\":null,\"view\":{\"id\":\"1507\"}},\"id\":\"1506\",\"type\":\"GlyphRenderer\"},{\"attributes\":{\"data_source\":{\"id\":\"1419\"},\"glyph\":{\"id\":\"1422\"},\"hover_glyph\":null,\"muted_glyph\":{\"id\":\"1424\"},\"nonselection_glyph\":{\"id\":\"1423\"},\"selection_glyph\":null,\"view\":{\"id\":\"1426\"}},\"id\":\"1425\",\"type\":\"GlyphRenderer\"},{\"attributes\":{\"data_source\":{\"id\":\"1437\"},\"glyph\":{\"id\":\"1440\"},\"hover_glyph\":null,\"muted_glyph\":{\"id\":\"1442\"},\"nonselection_glyph\":{\"id\":\"1441\"},\"selection_glyph\":null,\"view\":{\"id\":\"1444\"}},\"id\":\"1443\",\"type\":\"GlyphRenderer\"},{\"attributes\":{\"fill_alpha\":{\"value\":0.2},\"fill_color\":{\"value\":\"#8b8b8b\"},\"line_alpha\":{\"value\":0.2},\"line_color\":{\"value\":\"#8b8b8b\"},\"size\":{\"units\":\"screen\",\"value\":5.477225575051661},\"x\":{\"field\":\"Principal Component 1\"},\"y\":{\"field\":\"Interest Score\"}},\"id\":\"1505\",\"type\":\"Scatter\"},{\"attributes\":{\"data\":{\"Cluster\":[3,3,3],\"Interest Score\":[79,80,72],\"Interest_Score\":[79,80,72],\"Principal Component 1\":{\"__ndarray__\":\"TeHmbiuzYMFmcGuLLvJQQTSuc4dginFB\",\"dtype\":\"float64\",\"order\":\"little\",\"shape\":[3]},\"Principal_Component_1\":{\"__ndarray__\":\"TeHmbiuzYMFmcGuLLvJQQTSuc4dginFB\",\"dtype\":\"float64\",\"order\":\"little\",\"shape\":[3]}},\"selected\":{\"id\":\"1478\"},\"selection_policy\":{\"id\":\"1497\"}},\"id\":\"1477\",\"type\":\"ColumnDataSource\"},{\"attributes\":{},\"id\":\"1406\",\"type\":\"ResetTool\"},{\"attributes\":{},\"id\":\"1501\",\"type\":\"Selection\"},{\"attributes\":{\"label\":{\"value\":\"2\"},\"renderers\":[{\"id\":\"1462\"}]},\"id\":\"1476\",\"type\":\"LegendItem\"},{\"attributes\":{\"source\":{\"id\":\"1500\"}},\"id\":\"1507\",\"type\":\"CDSView\"},{\"attributes\":{\"bottom_units\":\"screen\",\"fill_alpha\":0.5,\"fill_color\":\"lightgrey\",\"left_units\":\"screen\",\"level\":\"overlay\",\"line_alpha\":1.0,\"line_color\":\"black\",\"line_dash\":[4,4],\"line_width\":2,\"right_units\":\"screen\",\"top_units\":\"screen\"},\"id\":\"1407\",\"type\":\"BoxAnnotation\"},{\"attributes\":{\"fill_color\":{\"value\":\"#30a2da\"},\"line_color\":{\"value\":\"#30a2da\"},\"size\":{\"units\":\"screen\",\"value\":5.477225575051661},\"x\":{\"field\":\"Principal Component 1\"},\"y\":{\"field\":\"Interest Score\"}},\"id\":\"1422\",\"type\":\"Scatter\"},{\"attributes\":{\"fill_color\":{\"value\":\"#8b8b8b\"},\"line_color\":{\"value\":\"#8b8b8b\"},\"size\":{\"units\":\"screen\",\"value\":5.477225575051661},\"x\":{\"field\":\"Principal Component 1\"},\"y\":{\"field\":\"Interest Score\"}},\"id\":\"1503\",\"type\":\"Scatter\"},{\"attributes\":{},\"id\":\"1395\",\"type\":\"BasicTicker\"},{\"attributes\":{\"fill_alpha\":{\"value\":0.1},\"fill_color\":{\"value\":\"#8b8b8b\"},\"line_alpha\":{\"value\":0.1},\"line_color\":{\"value\":\"#8b8b8b\"},\"size\":{\"units\":\"screen\",\"value\":5.477225575051661},\"x\":{\"field\":\"Principal Component 1\"},\"y\":{\"field\":\"Interest Score\"}},\"id\":\"1504\",\"type\":\"Scatter\"},{\"attributes\":{\"axis\":{\"id\":\"1394\"},\"grid_line_color\":null,\"ticker\":null},\"id\":\"1397\",\"type\":\"Grid\"},{\"attributes\":{\"source\":{\"id\":\"1419\"}},\"id\":\"1426\",\"type\":\"CDSView\"},{\"attributes\":{\"fill_color\":{\"value\":\"#fc4f30\"},\"line_color\":{\"value\":\"#fc4f30\"},\"size\":{\"units\":\"screen\",\"value\":5.477225575051661},\"x\":{\"field\":\"Principal Component 1\"},\"y\":{\"field\":\"Interest Score\"}},\"id\":\"1440\",\"type\":\"Scatter\"},{\"attributes\":{\"label\":{\"value\":\"0\"},\"renderers\":[{\"id\":\"1425\"}]},\"id\":\"1436\",\"type\":\"LegendItem\"},{\"attributes\":{\"label\":{\"value\":\"4\"},\"renderers\":[{\"id\":\"1506\"}]},\"id\":\"1524\",\"type\":\"LegendItem\"},{\"attributes\":{\"source\":{\"id\":\"1437\"}},\"id\":\"1444\",\"type\":\"CDSView\"},{\"attributes\":{\"data_source\":{\"id\":\"1477\"},\"glyph\":{\"id\":\"1480\"},\"hover_glyph\":null,\"muted_glyph\":{\"id\":\"1482\"},\"nonselection_glyph\":{\"id\":\"1481\"},\"selection_glyph\":null,\"view\":{\"id\":\"1484\"}},\"id\":\"1483\",\"type\":\"GlyphRenderer\"},{\"attributes\":{\"data\":{\"Cluster\":[2,2,2,2,2,2,2,2,2,2,2,2,2,2,2,2,2,2,2,2,2,2,2,2,2,2,2,2,2,2,2,2,2,2,2,2,2,2,2,2,2,2,2,2,2,2,2,2,2,2,2,2,2,2,2,2,2,2,2,2,2,2,2,2,2,2,2,2,2,2,2,2,2,2,2,2,2,2,2,2,2,2,2,2,2,2,2,2,2,2,2,2,2,2,2,2,2,2],\"Interest Score\":[7,7,7,30,30,30,79,79,94,94,96,96,96,96,68,68,68,65,65,57,57,53,53,53,54,54,54,54,52,52,52,47,42,42,51,51,51,51,70,70,70,70,70,79,79,79,79,79,85,85,85,85,73,73,73,73,72,72,72,63,63,55,55,55,55,52,52,52,52,52,45,45,49,49,44,44,41,41,42,42,42,54,54,56,48,48,48,48,48,52,52,56,56,56,49,49,78,78],\"Interest_Score\":[7,7,7,30,30,30,79,79,94,94,96,96,96,96,68,68,68,65,65,57,57,53,53,53,54,54,54,54,52,52,52,47,42,42,51,51,51,51,70,70,70,70,70,79,79,79,79,79,85,85,85,85,73,73,73,73,72,72,72,63,63,55,55,55,55,52,52,52,52,52,45,45,49,49,44,44,41,41,42,42,42,54,54,56,48,48,48,48,48,52,52,56,56,56,49,49,78,78],\"Principal Component 1\":{\"__ndarray__\":\"O/XC7u68YMEeEPMh4bxgwVEHr4XavGDBxY8x3628YMFVKveFaLxgwRAoHZUxvGDB2sLAJ666YMH70wzte7hgwYaVkENopmDBHWhaCnOJYMHpWChO1mtgwQM/v1P4XmDBa2Y1Ti5PYMGSKnGhpy9gwancrr8FMV/BmamnBAL8XsHhgbecp95ewcWTquQZU17BCrJ8WtE2XsFpbknXKFldwVewPaIDN13BX1ZKSw/tXMH76U37EtVcwTDZRrAMvVzB2gmIeTRKXMHM+nMWxjNcwbbigpXPH1zBIlrTYWbtW8FgBpgIfJlbwWpEIu4QalvBWRcB6PdSW8HoumWzW91awVO8CRAV61nB/Q11zMu/WcEzQ6/WEGlZwafG30Z1N1nBiPSSN5MbWcEU9/x8v/xYwR8eFDRDpVjBT3BgYgaBWMHIKsoD/V1Ywai55VCUNljB3vwla58JWMF8rzP+z2NXwXADqigsMVfBQs5yTtX5VsGcjmZxIwRWwVVfAdBcjFXBscxT1bOcVMFvOe57MFpUwedt4IONzVPB5MvPsgaHU8H0T7ulUdJSwdUhDPdgTlLBkEd+CYsLUsH4YGVl6MNRwRQFeI6SF1HBYJ1ioKbWUMGKHrrljE5QwZgcIeF3907Bm9f9OCamTcHVt9GOhrRLwcQVw1PzRkvB01qrc8LiSsEulm2n92JKweyhjhNkc0nBniZjuVAbScGLjIsA175IwUTkvJvWaEjBIFF9C14JSMHoiQmDV9xGwZexU5gJhEbBzqLNADH0RME/oVAcwvtDwQEb5aTypELBXuJqm1diQsHLi4jNs5pAwbWqAW51TkDBDq5nfJSKPMHA54c/8fE7wTA02uK7OTvBKG6ybqQQOMGs1g/UnnY3wajEgbFq0DDBkmLz5I9GLcHArbwo/a0rwSc+DcyS2inBWl1b1W7fJ8F/As19/MIlwShuvq3gdCDB+7Zxkdw0D8HxVZzh1DblwJDLlDAfkPtAyl7mtRuDEkEBm3gVut4oQaZvpWlgXTBB0bs3rEdKOkFq61pDO848QQ==\",\"dtype\":\"float64\",\"order\":\"little\",\"shape\":[98]},\"Principal_Component_1\":{\"__ndarray__\":\"O/XC7u68YMEeEPMh4bxgwVEHr4XavGDBxY8x3628YMFVKveFaLxgwRAoHZUxvGDB2sLAJ666YMH70wzte7hgwYaVkENopmDBHWhaCnOJYMHpWChO1mtgwQM/v1P4XmDBa2Y1Ti5PYMGSKnGhpy9gwancrr8FMV/BmamnBAL8XsHhgbecp95ewcWTquQZU17BCrJ8WtE2XsFpbknXKFldwVewPaIDN13BX1ZKSw/tXMH76U37EtVcwTDZRrAMvVzB2gmIeTRKXMHM+nMWxjNcwbbigpXPH1zBIlrTYWbtW8FgBpgIfJlbwWpEIu4QalvBWRcB6PdSW8HoumWzW91awVO8CRAV61nB/Q11zMu/WcEzQ6/WEGlZwafG30Z1N1nBiPSSN5MbWcEU9/x8v/xYwR8eFDRDpVjBT3BgYgaBWMHIKsoD/V1Ywai55VCUNljB3vwla58JWMF8rzP+z2NXwXADqigsMVfBQs5yTtX5VsGcjmZxIwRWwVVfAdBcjFXBscxT1bOcVMFvOe57MFpUwedt4IONzVPB5MvPsgaHU8H0T7ulUdJSwdUhDPdgTlLBkEd+CYsLUsH4YGVl6MNRwRQFeI6SF1HBYJ1ioKbWUMGKHrrljE5QwZgcIeF3907Bm9f9OCamTcHVt9GOhrRLwcQVw1PzRkvB01qrc8LiSsEulm2n92JKweyhjhNkc0nBniZjuVAbScGLjIsA175IwUTkvJvWaEjBIFF9C14JSMHoiQmDV9xGwZexU5gJhEbBzqLNADH0RME/oVAcwvtDwQEb5aTypELBXuJqm1diQsHLi4jNs5pAwbWqAW51TkDBDq5nfJSKPMHA54c/8fE7wTA02uK7OTvBKG6ybqQQOMGs1g/UnnY3wajEgbFq0DDBkmLz5I9GLcHArbwo/a0rwSc+DcyS2inBWl1b1W7fJ8F/As19/MIlwShuvq3gdCDB+7Zxkdw0D8HxVZzh1DblwJDLlDAfkPtAyl7mtRuDEkEBm3gVut4oQaZvpWlgXTBB0bs3rEdKOkFq61pDO848QQ==\",\"dtype\":\"float64\",\"order\":\"little\",\"shape\":[98]}},\"selected\":{\"id\":\"1457\"},\"selection_policy\":{\"id\":\"1474\"}},\"id\":\"1456\",\"type\":\"ColumnDataSource\"},{\"attributes\":{\"data_source\":{\"id\":\"1456\"},\"glyph\":{\"id\":\"1459\"},\"hover_glyph\":null,\"muted_glyph\":{\"id\":\"1461\"},\"nonselection_glyph\":{\"id\":\"1460\"},\"selection_glyph\":null,\"view\":{\"id\":\"1463\"}},\"id\":\"1462\",\"type\":\"GlyphRenderer\"},{\"attributes\":{\"fill_alpha\":{\"value\":0.1},\"fill_color\":{\"value\":\"#30a2da\"},\"line_alpha\":{\"value\":0.1},\"line_color\":{\"value\":\"#30a2da\"},\"size\":{\"units\":\"screen\",\"value\":5.477225575051661},\"x\":{\"field\":\"Principal Component 1\"},\"y\":{\"field\":\"Interest Score\"}},\"id\":\"1423\",\"type\":\"Scatter\"},{\"attributes\":{\"fill_alpha\":{\"value\":0.1},\"fill_color\":{\"value\":\"#fc4f30\"},\"line_alpha\":{\"value\":0.1},\"line_color\":{\"value\":\"#fc4f30\"},\"size\":{\"units\":\"screen\",\"value\":5.477225575051661},\"x\":{\"field\":\"Principal Component 1\"},\"y\":{\"field\":\"Interest Score\"}},\"id\":\"1441\",\"type\":\"Scatter\"},{\"attributes\":{\"click_policy\":\"mute\",\"items\":[{\"id\":\"1436\"},{\"id\":\"1455\"},{\"id\":\"1476\"},{\"id\":\"1499\"},{\"id\":\"1524\"}],\"location\":[0,0],\"title\":\"Cluster\"},\"id\":\"1435\",\"type\":\"Legend\"},{\"attributes\":{},\"id\":\"1433\",\"type\":\"UnionRenderers\"},{\"attributes\":{},\"id\":\"1457\",\"type\":\"Selection\"},{\"attributes\":{\"source\":{\"id\":\"1456\"}},\"id\":\"1463\",\"type\":\"CDSView\"},{\"attributes\":{},\"id\":\"1522\",\"type\":\"UnionRenderers\"},{\"attributes\":{},\"id\":\"1453\",\"type\":\"UnionRenderers\"},{\"attributes\":{},\"id\":\"1420\",\"type\":\"Selection\"},{\"attributes\":{\"fill_alpha\":{\"value\":0.2},\"fill_color\":{\"value\":\"#30a2da\"},\"line_alpha\":{\"value\":0.2},\"line_color\":{\"value\":\"#30a2da\"},\"size\":{\"units\":\"screen\",\"value\":5.477225575051661},\"x\":{\"field\":\"Principal Component 1\"},\"y\":{\"field\":\"Interest Score\"}},\"id\":\"1424\",\"type\":\"Scatter\"},{\"attributes\":{\"fill_alpha\":{\"value\":0.2},\"fill_color\":{\"value\":\"#fc4f30\"},\"line_alpha\":{\"value\":0.2},\"line_color\":{\"value\":\"#fc4f30\"},\"size\":{\"units\":\"screen\",\"value\":5.477225575051661},\"x\":{\"field\":\"Principal Component 1\"},\"y\":{\"field\":\"Interest Score\"}},\"id\":\"1442\",\"type\":\"Scatter\"},{\"attributes\":{\"text\":\"\",\"text_color\":{\"value\":\"black\"},\"text_font_size\":{\"value\":\"12pt\"}},\"id\":\"1386\",\"type\":\"Title\"},{\"attributes\":{\"children\":[{\"id\":\"1377\"},{\"id\":\"1385\"},{\"id\":\"1669\"}],\"margin\":[0,0,0,0],\"name\":\"Row02555\",\"tags\":[\"embedded\"]},\"id\":\"1376\",\"type\":\"Row\"},{\"attributes\":{\"fill_alpha\":{\"value\":0.1},\"fill_color\":{\"value\":\"#e5ae38\"},\"line_alpha\":{\"value\":0.1},\"line_color\":{\"value\":\"#e5ae38\"},\"size\":{\"units\":\"screen\",\"value\":5.477225575051661},\"x\":{\"field\":\"Principal Component 1\"},\"y\":{\"field\":\"Interest Score\"}},\"id\":\"1460\",\"type\":\"Scatter\"},{\"attributes\":{\"axis_label\":\"Principal Component 1\",\"bounds\":\"auto\",\"formatter\":{\"id\":\"1416\"},\"major_label_orientation\":\"horizontal\",\"ticker\":{\"id\":\"1395\"}},\"id\":\"1394\",\"type\":\"LinearAxis\"},{\"attributes\":{},\"id\":\"1438\",\"type\":\"Selection\"},{\"attributes\":{\"below\":[{\"id\":\"1394\"}],\"center\":[{\"id\":\"1397\"},{\"id\":\"1401\"}],\"left\":[{\"id\":\"1398\"}],\"margin\":[5,5,5,5],\"min_border_bottom\":10,\"min_border_left\":10,\"min_border_right\":10,\"min_border_top\":10,\"plot_height\":300,\"plot_width\":700,\"renderers\":[{\"id\":\"1425\"},{\"id\":\"1443\"},{\"id\":\"1462\"},{\"id\":\"1483\"},{\"id\":\"1506\"}],\"right\":[{\"id\":\"1435\"}],\"sizing_mode\":\"fixed\",\"title\":{\"id\":\"1386\"},\"toolbar\":{\"id\":\"1408\"},\"x_range\":{\"id\":\"1378\"},\"x_scale\":{\"id\":\"1390\"},\"y_range\":{\"id\":\"1379\"},\"y_scale\":{\"id\":\"1392\"}},\"id\":\"1385\",\"subtype\":\"Figure\",\"type\":\"Plot\"},{\"attributes\":{},\"id\":\"1392\",\"type\":\"LinearScale\"},{\"attributes\":{\"fill_alpha\":{\"value\":0.2},\"fill_color\":{\"value\":\"#e5ae38\"},\"line_alpha\":{\"value\":0.2},\"line_color\":{\"value\":\"#e5ae38\"},\"size\":{\"units\":\"screen\",\"value\":5.477225575051661},\"x\":{\"field\":\"Principal Component 1\"},\"y\":{\"field\":\"Interest Score\"}},\"id\":\"1461\",\"type\":\"Scatter\"},{\"attributes\":{\"margin\":[5,5,5,5],\"name\":\"HSpacer02559\",\"sizing_mode\":\"stretch_width\"},\"id\":\"1377\",\"type\":\"Spacer\"},{\"attributes\":{},\"id\":\"1474\",\"type\":\"UnionRenderers\"},{\"attributes\":{\"fill_alpha\":{\"value\":0.2},\"fill_color\":{\"value\":\"#6d904f\"},\"line_alpha\":{\"value\":0.2},\"line_color\":{\"value\":\"#6d904f\"},\"size\":{\"units\":\"screen\",\"value\":5.477225575051661},\"x\":{\"field\":\"Principal Component 1\"},\"y\":{\"field\":\"Interest Score\"}},\"id\":\"1482\",\"type\":\"Scatter\"},{\"attributes\":{},\"id\":\"1390\",\"type\":\"LinearScale\"},{\"attributes\":{\"fill_color\":{\"value\":\"#6d904f\"},\"line_color\":{\"value\":\"#6d904f\"},\"size\":{\"units\":\"screen\",\"value\":5.477225575051661},\"x\":{\"field\":\"Principal Component 1\"},\"y\":{\"field\":\"Interest Score\"}},\"id\":\"1480\",\"type\":\"Scatter\"},{\"attributes\":{\"axis\":{\"id\":\"1398\"},\"dimension\":1,\"grid_line_color\":null,\"ticker\":null},\"id\":\"1401\",\"type\":\"Grid\"},{\"attributes\":{},\"id\":\"1478\",\"type\":\"Selection\"},{\"attributes\":{},\"id\":\"1416\",\"type\":\"BasicTickFormatter\"},{\"attributes\":{},\"id\":\"1399\",\"type\":\"BasicTicker\"},{\"attributes\":{\"end\":20987366.455863833,\"reset_end\":20987366.455863833,\"reset_start\":-9998676.745565524,\"start\":-9998676.745565524,\"tags\":[[[\"Principal Component 1\",\"Principal Component 1\",null]]]},\"id\":\"1378\",\"type\":\"Range1d\"},{\"attributes\":{\"axis_label\":\"Interest Score\",\"bounds\":\"auto\",\"formatter\":{\"id\":\"1418\"},\"major_label_orientation\":\"horizontal\",\"ticker\":{\"id\":\"1399\"}},\"id\":\"1398\",\"type\":\"LinearAxis\"},{\"attributes\":{\"fill_alpha\":{\"value\":0.1},\"fill_color\":{\"value\":\"#6d904f\"},\"line_alpha\":{\"value\":0.1},\"line_color\":{\"value\":\"#6d904f\"},\"size\":{\"units\":\"screen\",\"value\":5.477225575051661},\"x\":{\"field\":\"Principal Component 1\"},\"y\":{\"field\":\"Interest Score\"}},\"id\":\"1481\",\"type\":\"Scatter\"},{\"attributes\":{\"data\":{\"Cluster\":[0,0,0,0,0,0,0,0,0,0,0,0,0,0,0,0,0,0,0,0,0,0,0,0,0,0,0,0,0,0,0,0,0,0,0,0,0,0,0,0,0,0,0,0,0,0,0,0,0,0,0,0,0,0,0,0,0,0,0,0,0,0],\"Interest Score\":[78,100,100,100,100,80,80,78,78,78,78,78,86,86,86,86,86,83,83,83,83,83,87,87,87,87,87,87,87,87,87,87,90,90,90,90,90,85,85,85,82,82,82,82,82,76,76,76,76,76,72,72,72,72,64,64,64,64,70,70,70,70],\"Interest_Score\":[78,100,100,100,100,80,80,78,78,78,78,78,86,86,86,86,86,83,83,83,83,83,87,87,87,87,87,87,87,87,87,87,90,90,90,90,90,85,85,85,82,82,82,82,82,76,76,76,76,76,72,72,72,72,64,64,64,64,70,70,70,70],\"Principal Component 1\":{\"__ndarray__\":\"aLO94eIMOEHcKFf7T1dDQQWgxtIQ6kVBtJLTE1RgR0GOGfgxyONIQf7W7nbdC05BIBn26y5yT0F3O4Waha9SQeSv9b2eZ1NBbS3FeNstVEHGjWV6LAhVQcjPPHxt61VBccuUcNIsWEF1VF7aMQhZQVGXR+uh4VlB0AQAcrPDWkFyGURZO65bQbTNPOn+911BSsG7SDHEXkF0Cy0NS7VfQS3cxcXGT2BBEi2688fKYEGtDVsCROVhQYnS1iYCRmJBFFNj4Tq2YkHceHKj8BRjQZfPM6ZeVGRBmKF0bFC2ZEHsMvGdiChlQW9dSKyWm2VBxcJkj/QoaEGwHs2gKkFpQarSuTJlkWpB2soP1EUAa0G4jZuxv3BrQaSDGhvm42tBNwpGF3pabEE/bx506q9tQQvhFpVwCW5BVDhb9kvFbkFZrVbYtaJvQUw5S1bN6m9BA4KBCgIbcEFOlkgfQERwQVbq9rDubHBBmPlYaAPMcEF+Y177JOhwQd7tgLbfBXFBG3d/dSkkcUEA5oACAUVxQT4B2H6moXFB95WN9um4cUGEB/8+wtJxQZoKRVYX63FB59v2+sEsckHjt/0r5j1yQfz0nFr5TnJBQPWhullickFAJaPZfo9yQdockE1us3JBDhd7/lzGckFg3L6SQNlyQQ==\",\"dtype\":\"float64\",\"order\":\"little\",\"shape\":[62]},\"Principal_Component_1\":{\"__ndarray__\":\"aLO94eIMOEHcKFf7T1dDQQWgxtIQ6kVBtJLTE1RgR0GOGfgxyONIQf7W7nbdC05BIBn26y5yT0F3O4Waha9SQeSv9b2eZ1NBbS3FeNstVEHGjWV6LAhVQcjPPHxt61VBccuUcNIsWEF1VF7aMQhZQVGXR+uh4VlB0AQAcrPDWkFyGURZO65bQbTNPOn+911BSsG7SDHEXkF0Cy0NS7VfQS3cxcXGT2BBEi2688fKYEGtDVsCROVhQYnS1iYCRmJBFFNj4Tq2YkHceHKj8BRjQZfPM6ZeVGRBmKF0bFC2ZEHsMvGdiChlQW9dSKyWm2VBxcJkj/QoaEGwHs2gKkFpQarSuTJlkWpB2soP1EUAa0G4jZuxv3BrQaSDGhvm42tBNwpGF3pabEE/bx506q9tQQvhFpVwCW5BVDhb9kvFbkFZrVbYtaJvQUw5S1bN6m9BA4KBCgIbcEFOlkgfQERwQVbq9rDubHBBmPlYaAPMcEF+Y177JOhwQd7tgLbfBXFBG3d/dSkkcUEA5oACAUVxQT4B2H6moXFB95WN9um4cUGEB/8+wtJxQZoKRVYX63FB59v2+sEsckHjt/0r5j1yQfz0nFr5TnJBQPWhullickFAJaPZfo9yQdockE1us3JBDhd7/lzGckFg3L6SQNlyQQ==\",\"dtype\":\"float64\",\"order\":\"little\",\"shape\":[62]}},\"selected\":{\"id\":\"1420\"},\"selection_policy\":{\"id\":\"1433\"}},\"id\":\"1419\",\"type\":\"ColumnDataSource\"},{\"attributes\":{\"source\":{\"id\":\"1477\"}},\"id\":\"1484\",\"type\":\"CDSView\"},{\"attributes\":{\"data\":{\"Cluster\":[4,4,4,4,4,4,4,4,4,4,4,4,4,4,4,4,4,4,4,4,4,4,4,4,4,4,4,4,4,4,4,4,4,4,4,4,4,4,4,4,4,4,4,4,4,4,4,4,4,4,4,4,4],\"Interest Score\":[7,30,30,79,79,94,94,94,85,85,85,85,68,68,65,65,57,57,57,53,53,54,52,52,47,47,39,42,51,79,79,85,73,72,63,63,55,49,49,41,42,54,54,56,56,52,52,56,49,49,49,78,78],\"Interest_Score\":[7,30,30,79,79,94,94,94,85,85,85,85,68,68,65,65,57,57,57,53,53,54,52,52,47,47,39,42,51,79,79,85,73,72,63,63,55,49,49,41,42,54,54,56,56,52,52,56,49,49,49,78,78],\"Principal Component 1\":{\"__ndarray__\":\"oI5Tyuq8YMFpuO5Hlrxgwcaopk/iu2DBnQsUuci5YMEH46rFSLZgwen74w05oWDBhrnFTFGbYMFlJnSVlJJgwdd6S4rjAWDBoJwqbbDlX8Hn48fSJ8dfwS1lJDgApF/BSXJlIdYUX8ENg9+vUb5ewRxqhD3vFV7BNM5JHFj2XcE5GKjzo6ddwakoX0Wbj13BVSdvdrl1XcEGecXYOKJcwfP/MmsAiFzBI0uXHJAFXMEjxyaY+61bwVuv9EZDg1vBAF0fs1EFW8Ea86+dMPNawT2B/ydhNFrBA5YKCoinWcHdNZwp7FFZwUsbKQstkVfBiLsvn91JVcGtrpp7sBdUwStaRPZYk1LBfXS0amuQUMHFQos6gIROwQe6cFlNMk3BECDO2E0STMG2qDn2PVJEwYjlykRFmUPBuVZxI+vnQMEtJLoGBn06wdXZpWkhxDbBlkuYTD/tNcEXeJNYv5EywYpsmAKlrDHB2TiplCAiHcG83tXcNJsUwQCtB8Ge5ghB8t9O4k3LIUEq8OyzAq8lQSZ1ff6K0ixBYxjurpLnNUE2oUz0Po8/QQ==\",\"dtype\":\"float64\",\"order\":\"little\",\"shape\":[53]},\"Principal_Component_1\":{\"__ndarray__\":\"oI5Tyuq8YMFpuO5Hlrxgwcaopk/iu2DBnQsUuci5YMEH46rFSLZgwen74w05oWDBhrnFTFGbYMFlJnSVlJJgwdd6S4rjAWDBoJwqbbDlX8Hn48fSJ8dfwS1lJDgApF/BSXJlIdYUX8ENg9+vUb5ewRxqhD3vFV7BNM5JHFj2XcE5GKjzo6ddwakoX0Wbj13BVSdvdrl1XcEGecXYOKJcwfP/MmsAiFzBI0uXHJAFXMEjxyaY+61bwVuv9EZDg1vBAF0fs1EFW8Ea86+dMPNawT2B/ydhNFrBA5YKCoinWcHdNZwp7FFZwUsbKQstkVfBiLsvn91JVcGtrpp7sBdUwStaRPZYk1LBfXS0amuQUMHFQos6gIROwQe6cFlNMk3BECDO2E0STMG2qDn2PVJEwYjlykRFmUPBuVZxI+vnQMEtJLoGBn06wdXZpWkhxDbBlkuYTD/tNcEXeJNYv5EywYpsmAKlrDHB2TiplCAiHcG83tXcNJsUwQCtB8Ge5ghB8t9O4k3LIUEq8OyzAq8lQSZ1ff6K0ixBYxjurpLnNUE2oUz0Po8/QQ==\",\"dtype\":\"float64\",\"order\":\"little\",\"shape\":[53]}},\"selected\":{\"id\":\"1501\"},\"selection_policy\":{\"id\":\"1522\"}},\"id\":\"1500\",\"type\":\"ColumnDataSource\"},{\"attributes\":{\"label\":{\"value\":\"1\"},\"renderers\":[{\"id\":\"1443\"}]},\"id\":\"1455\",\"type\":\"LegendItem\"},{\"attributes\":{\"data\":{\"Cluster\":[1,1,1,1,1,1,1,1,1,1,1,1,1,1,1,1,1,1,1,1,1,1,1,1,1,1,1,1,1,1,1,1,1,1],\"Interest Score\":[96,65,47,39,39,39,39,42,42,79,79,72,63,45,45,45,49,44,44,41,41,42,54,56,56,52,56,100,80,87,87,87,85,70],\"Interest_Score\":[96,65,47,39,39,39,39,42,42,79,79,72,63,45,45,45,49,44,44,41,41,42,54,56,56,52,56,100,80,87,87,87,85,70],\"Principal Component 1\":{\"__ndarray__\":\"Qz9xQHA/YMEwxxFlbmxewc2Cs45txVrBucKmrdGKWsGblokvyXVawaFSUChkYlrB/Vk36jdNWsH/nunIDP1ZwQW9va5w1lnBB+Tbv3w/VsHttohcbclVwdY1E6duC1DB2klidyQaTsGMlIqJOitHwXjVMvpaK0bBcxIectrPRcFG5ZP9XaJEwcX3+ibhG0LBiNDuvWy+QcExExorduw/waWRduXUKz/BGpC9vBImPcG8UascMLo4wT3loExoCjTBlCzWUVhZM8FI2waaykQZwYLlLcR0VeBA0BgLF5GXREHG4vug+LRMQdST0AYjOWdBosvItg+sZ0FWqNY78LBoQS93UxMlaG5BFDgtLyuhckE=\",\"dtype\":\"float64\",\"order\":\"little\",\"shape\":[34]},\"Principal_Component_1\":{\"__ndarray__\":\"Qz9xQHA/YMEwxxFlbmxewc2Cs45txVrBucKmrdGKWsGblokvyXVawaFSUChkYlrB/Vk36jdNWsH/nunIDP1ZwQW9va5w1lnBB+Tbv3w/VsHttohcbclVwdY1E6duC1DB2klidyQaTsGMlIqJOitHwXjVMvpaK0bBcxIectrPRcFG5ZP9XaJEwcX3+ibhG0LBiNDuvWy+QcExExorduw/waWRduXUKz/BGpC9vBImPcG8UascMLo4wT3loExoCjTBlCzWUVhZM8FI2waaykQZwYLlLcR0VeBA0BgLF5GXREHG4vug+LRMQdST0AYjOWdBosvItg+sZ0FWqNY78LBoQS93UxMlaG5BFDgtLyuhckE=\",\"dtype\":\"float64\",\"order\":\"little\",\"shape\":[34]}},\"selected\":{\"id\":\"1438\"},\"selection_policy\":{\"id\":\"1453\"}},\"id\":\"1437\",\"type\":\"ColumnDataSource\"},{\"attributes\":{\"active_drag\":\"auto\",\"active_inspect\":\"auto\",\"active_multi\":null,\"active_scroll\":\"auto\",\"active_tap\":\"auto\",\"tools\":[{\"id\":\"1380\"},{\"id\":\"1402\"},{\"id\":\"1403\"},{\"id\":\"1404\"},{\"id\":\"1405\"},{\"id\":\"1406\"}]},\"id\":\"1408\",\"type\":\"Toolbar\"},{\"attributes\":{\"callback\":null,\"renderers\":[{\"id\":\"1425\"},{\"id\":\"1443\"},{\"id\":\"1462\"},{\"id\":\"1483\"},{\"id\":\"1506\"}],\"tags\":[\"hv_created\"],\"tooltips\":[[\"Cluster\",\"@{Cluster}\"],[\"Principal Component 1\",\"@{Principal_Component_1}\"],[\"Interest Score\",\"@{Interest_Score}\"]]},\"id\":\"1380\",\"type\":\"HoverTool\"},{\"attributes\":{},\"id\":\"1418\",\"type\":\"BasicTickFormatter\"},{\"attributes\":{},\"id\":\"1402\",\"type\":\"SaveTool\"}],\"root_ids\":[\"1376\"]},\"title\":\"Bokeh Application\",\"version\":\"2.2.3\"}};\n",
       "    var render_items = [{\"docid\":\"5e167b6d-6d53-4f5b-8494-709bd9011c56\",\"root_ids\":[\"1376\"],\"roots\":{\"1376\":\"9706de88-23fc-486c-8bd3-5d910c82d83e\"}}];\n",
       "    root.Bokeh.embed.embed_items_notebook(docs_json, render_items);\n",
       "  }\n",
       "  if (root.Bokeh !== undefined && root.Bokeh.Panel !== undefined) {\n",
       "    embed_document(root);\n",
       "  } else {\n",
       "    var attempts = 0;\n",
       "    var timer = setInterval(function(root) {\n",
       "      if (root.Bokeh !== undefined && root.Bokeh.Panel !== undefined) {\n",
       "        clearInterval(timer);\n",
       "        embed_document(root);\n",
       "      } else if (document.readyState == \"complete\") {\n",
       "        attempts++;\n",
       "        if (attempts > 100) {\n",
       "          clearInterval(timer);\n",
       "          console.log(\"Bokeh: ERROR: Unable to run BokehJS code because BokehJS library is missing\");\n",
       "        }\n",
       "      }\n",
       "    }, 10, root)\n",
       "  }\n",
       "})(window);</script>"
      ],
      "text/plain": [
       ":NdOverlay   [Cluster]\n",
       "   :Scatter   [Principal Component 1]   (Interest Score)"
      ]
     },
     "execution_count": 63,
     "metadata": {
      "application/vnd.holoviews_exec.v0+json": {
       "id": "1376"
      }
     },
     "output_type": "execute_result"
    }
   ],
   "source": [
    "df.hvplot.scatter(x=\"Principal Component 1\", y=\"Interest Score\", by=\"Cluster\")"
   ]
  },
  {
   "cell_type": "code",
   "execution_count": 64,
   "metadata": {},
   "outputs": [
    {
     "data": {
      "application/vnd.plotly.v1+json": {
       "config": {
        "plotlyServerURL": "https://plot.ly"
       },
       "data": [
        {
         "hovertemplate": "Cluster=%{marker.color}<br>Interest Score=%{x}<br>Principal Component 1=%{y}<br>XTN=%{z}<extra></extra>",
         "legendgroup": "2",
         "marker": {
          "color": [
           2,
           2,
           2,
           2,
           2,
           2,
           2,
           2,
           2,
           2,
           2,
           2,
           2,
           2,
           2,
           2,
           2,
           2,
           2,
           2,
           2,
           2,
           2,
           2,
           2,
           2,
           2,
           2,
           2,
           2,
           2,
           2,
           2,
           2,
           2,
           2,
           2,
           2,
           2,
           2,
           2,
           2,
           2,
           2,
           2,
           2,
           2,
           2,
           2,
           2,
           2,
           2,
           2,
           2,
           2,
           2,
           2,
           2,
           2,
           2,
           2,
           2,
           2,
           2,
           2,
           2,
           2,
           2,
           2,
           2,
           2,
           2,
           2,
           2,
           2,
           2,
           2,
           2,
           2,
           2,
           2,
           2,
           2,
           2,
           2,
           2,
           2,
           2,
           2,
           2,
           2,
           2,
           2,
           2,
           2,
           2,
           2,
           2
          ],
          "coloraxis": "coloraxis",
          "symbol": "circle"
         },
         "mode": "markers",
         "name": "2",
         "scene": "scene",
         "showlegend": true,
         "type": "scatter3d",
         "x": [
          7,
          7,
          7,
          30,
          30,
          30,
          79,
          79,
          94,
          94,
          96,
          96,
          96,
          96,
          68,
          68,
          68,
          65,
          65,
          57,
          57,
          53,
          53,
          53,
          54,
          54,
          54,
          54,
          52,
          52,
          52,
          47,
          42,
          42,
          51,
          51,
          51,
          51,
          70,
          70,
          70,
          70,
          70,
          79,
          79,
          79,
          79,
          79,
          85,
          85,
          85,
          85,
          73,
          73,
          73,
          73,
          72,
          72,
          72,
          63,
          63,
          55,
          55,
          55,
          55,
          52,
          52,
          52,
          52,
          52,
          45,
          45,
          49,
          49,
          44,
          44,
          41,
          41,
          42,
          42,
          42,
          54,
          54,
          56,
          48,
          48,
          48,
          48,
          48,
          52,
          52,
          56,
          56,
          56,
          49,
          49,
          78,
          78
         ],
         "y": [
          -8775543.461298576,
          -8775433.060920771,
          -8775380.177615793,
          -8775022.9748,
          -8774468.186421553,
          -8774028.659809142,
          -8770929.242280412,
          -8766431.407815924,
          -8729410.111399423,
          -8670104.323535973,
          -8609458.442425208,
          -8583106.617095476,
          -8550770.444018563,
          -8486205.045064244,
          -8176662.995047727,
          -8122376.072733306,
          -8092318.448700399,
          -7949415.572911208,
          -7920453.413860807,
          -7693475.36385689,
          -7658510.535015187,
          -7582781.176412194,
          -7558219.926630492,
          -7533618.7543242425,
          -7416017.89892813,
          -7393048.350828838,
          -7372606.336113622,
          -7320985.528524907,
          -7235056.134278864,
          -7186499.7208415065,
          -7162847.625066602,
          -7042414.803084113,
          -6794324.250594216,
          -6749999.194644448,
          -6661187.354447174,
          -6610389.107408202,
          -6581836.868344434,
          -6550269.952939767,
          -6460684.813727885,
          -6423577.537136151,
          -6387700.059214301,
          -6347345.264021315,
          -6301309.674193589,
          -6131519.971904632,
          -6079664.635376796,
          -6022997.2257571835,
          -5771405.771884587,
          -5648755.250083764,
          -5403343.33323972,
          -5335233.93641506,
          -5191222.060573078,
          -5119002.793932889,
          -4933958.5895576365,
          -4798851.860115488,
          -4730412.1483324915,
          -4657057.58431267,
          -4480586.2260754295,
          -4414106.506018966,
          -4274739.58948482,
          -4058863.7588229887,
          -3886156.4452466494,
          -3631373.1157750883,
          -3575270.6543910224,
          -3523972.903666833,
          -3458543.308031819,
          -3335880.1527902987,
          -3290785.4483383438,
          -3243438.0042586974,
          -3199405.216702016,
          -3150524.089761868,
          -2996399.023728598,
          -2951187.1900541293,
          -2746466.0062755113,
          -2619268.2212106283,
          -2443749.2882417445,
          -2409647.2141993484,
          -2176359.6057295552,
          -2137322.8594258674,
          -1870484.4859570297,
          -1831409.2481675,
          -1784251.8861420266,
          -1577124.4324101303,
          -1537694.8283666773,
          -1101930.6933863554,
          -959303.9471693805,
          -907006.5795645043,
          -847177.3985385344,
          -782263.416712682,
          -713086.2457047253,
          -539248.3393434929,
          -255643.57101767496,
          -43446.65254036699,
          112897.94936065213,
          303302.92763660534,
          814941.0419357718,
          1072480.412680605,
          1722951.6727254281,
          1887803.2631060728
         ],
         "z": [
          -0.028092879396485082,
          -0.06519398434302459,
          -0.005379419469760728,
          -0.08557079903427811,
          -0.056403078894096126,
          -0.10891297840228853,
          -0.09921432647900864,
          -0.09252672324304467,
          0.003400498814330577,
          -0.05142734019917894,
          0.0020675431911727493,
          -0.0002292141627242561,
          -0.06328828474208592,
          -0.02929588030527719,
          -0.03397853400117612,
          -0.021248656917420502,
          -0.009400223383479343,
          -0.013976531184719755,
          0.00022858530291558488,
          -0.033983483657055835,
          -0.03351375061758555,
          -0.016584114854675924,
          0.007446345898469486,
          -0.012608735457710574,
          -0.009751062515843456,
          -0.03163625258778824,
          -0.02747729173998392,
          -0.006209775523382977,
          -0.012860380494893131,
          0.0022550351189891678,
          0.005931702171154907,
          -0.018106357528936745,
          -0.0277542627418087,
          -0.08409377016042617,
          0.013439315916421224,
          -0.0011043874704366186,
          0.001474074363048583,
          -0.01858322630890441,
          -0.010873675091779056,
          0.0115618011705394,
          -0.04234585660040202,
          0.007630588632187463,
          -0.02019419253451149,
          0.011094143928793931,
          -0.010972414384367355,
          0.008607512881535495,
          -0.012057160595783434,
          -0.025363682160441936,
          -0.014322854670886231,
          0.014530979782537038,
          -0.006600120184055425,
          0.00897827280175578,
          -0.016728931298855217,
          -0.00774077967743525,
          0.001632803961028939,
          -0.00978085354975522,
          0.005121686544214965,
          -0.010555083221142849,
          -0.005284273139269935,
          0.0022018152639406985,
          0.0065825076073384725,
          0.005241822395846585,
          0.003195939853165353,
          -0.010395689775818062,
          0.0011860334510556125,
          -0.009477092094177129,
          -0.00563810051665592,
          0.004982833534806552,
          0.003248394960790879,
          0.0005112266383922037,
          -0.0026648874912114096,
          -0.0010020269241939328,
          -0.01529702896233598,
          -0.021562934897441655,
          -0.004618218523195661,
          0.008947819870433138,
          0.007211972684991075,
          0.006346613259664125,
          0.002749610778280287,
          -0.014567240725774422,
          -0.003999992038892675,
          -0.015856927227827056,
          -0.0032567471068228877,
          0.004711631504825897,
          -0.0024256391576452647,
          -0.010374443246807695,
          0.008517616122229343,
          0.004060419055370136,
          -0.01099968147092556,
          -0.009813517829747929,
          0.006228032518375892,
          -0.031264838255560264,
          -0.039779391530619934,
          -0.006783135791058381,
          -0.004298266308744747,
          -0.00996148344893977,
          -0.014455754569020263,
          -0.019556895935520013
         ]
        },
        {
         "hovertemplate": "Cluster=%{marker.color}<br>Interest Score=%{x}<br>Principal Component 1=%{y}<br>XTN=%{z}<extra></extra>",
         "legendgroup": "4",
         "marker": {
          "color": [
           4,
           4,
           4,
           4,
           4,
           4,
           4,
           4,
           4,
           4,
           4,
           4,
           4,
           4,
           4,
           4,
           4,
           4,
           4,
           4,
           4,
           4,
           4,
           4,
           4,
           4,
           4,
           4,
           4,
           4,
           4,
           4,
           4,
           4,
           4,
           4,
           4,
           4,
           4,
           4,
           4,
           4,
           4,
           4,
           4,
           4,
           4,
           4,
           4,
           4,
           4,
           4,
           4
          ],
          "coloraxis": "coloraxis",
          "symbol": "diamond"
         },
         "mode": "markers",
         "name": "4",
         "scene": "scene",
         "showlegend": true,
         "type": "scatter3d",
         "x": [
          7,
          30,
          30,
          79,
          79,
          94,
          94,
          94,
          85,
          85,
          85,
          85,
          68,
          68,
          65,
          65,
          57,
          57,
          57,
          53,
          53,
          54,
          52,
          52,
          47,
          47,
          39,
          42,
          51,
          79,
          79,
          85,
          73,
          72,
          63,
          63,
          55,
          49,
          49,
          41,
          42,
          54,
          54,
          56,
          56,
          52,
          52,
          56,
          49,
          49,
          49,
          78,
          78
         ],
         "y": [
          -8775510.322699845,
          -8774834.247890668,
          -8773394.48909415,
          -8769093.783696944,
          -8761926.177110208,
          -8718792.434080081,
          -8706698.399136316,
          -8688804.670428464,
          -8392476.321713848,
          -8361665.705725819,
          -8330399.293450332,
          -8294400.877221388,
          -8147800.5218167985,
          -8059206.748017085,
          -7886780.961206939,
          -7854432.442004729,
          -7773839.807134681,
          -7749229.083933034,
          -7722725.85053428,
          -7506147.38705278,
          -7479297.674987781,
          -7345728.446734223,
          -7256046.377366814,
          -7212301.108684386,
          -7083334.798789263,
          -7064770.463864112,
          -6869380.624969778,
          -6725152.156896117,
          -6637488.650159326,
          -6177972.174383949,
          -5580662.487288363,
          -5267137.93131606,
          -4869475.847921888,
          -4342189.667264101,
          -4000000.457374903,
          -3826842.698752645,
          -3679387.6937904432,
          -2663547.923634614,
          -2568842.537441913,
          -2215894.2768963245,
          -1735942.026277791,
          -1492001.412686934,
          -1436991.2991988412,
          -1216959.3460002,
          -1158309.0101383054,
          -477320.14517678093,
          -337613.2156595995,
          203987.84425292164,
          583078.9420080169,
          710529.3514170696,
          944453.4970509156,
          1435538.6833205454,
          2068286.954294277
         ],
         "z": [
          0.031684251358080166,
          0.052386977909647525,
          0.06349963920193867,
          0.05033641674554135,
          0.025359509037990117,
          0.12043792644356845,
          0.03420198316332135,
          0.032395919054957416,
          0.07811306093125059,
          0.028699159465389586,
          0.03407275769641127,
          0.028306031506935225,
          0.01625118848375795,
          0.0332128620978267,
          0.01440002441406252,
          0.019603400426905667,
          0.03535908230101858,
          0.02070440239691651,
          0.039941444157282964,
          0.020035308207730473,
          0.04036259136582454,
          0.0031145581150660018,
          0.07587586714978789,
          0.025005224267566458,
          0.04188697357682236,
          0.034738460596985155,
          0.026998232297720914,
          0.032037570782235125,
          0.01475533997045986,
          0.03606816741667873,
          0.02870264156479974,
          0.04278279619730863,
          0.005429850444534701,
          0.009380212364348273,
          0.014280531110351324,
          0.01449274776046661,
          0.03031355082778253,
          0.0108161232786117,
          0.0046396454196135925,
          0.006765674220061246,
          0.011698937726383196,
          0.0048151121573447595,
          0.01625878415159443,
          0.023925897559403442,
          0.012835260382118685,
          0.018665299575972627,
          0.026052763958554603,
          0.026457796998746286,
          0.006487981391415597,
          0.026123848949896944,
          0.033372109438934316,
          0.07286598111483378,
          0.03381639755126975
         ]
        },
        {
         "hovertemplate": "Cluster=%{marker.color}<br>Interest Score=%{x}<br>Principal Component 1=%{y}<br>XTN=%{z}<extra></extra>",
         "legendgroup": "3",
         "marker": {
          "color": [
           3,
           3,
           3
          ],
          "coloraxis": "coloraxis",
          "symbol": "square"
         },
         "mode": "markers",
         "name": "3",
         "scene": "scene",
         "showlegend": true,
         "type": "scatter3d",
         "x": [
          79,
          80,
          72
         ],
         "y": [
          -8755547.465683604,
          4442298.17843256,
          18392584.465742305
         ],
         "z": [
          -0.025242265365973626,
          -0.0040879744227084736,
          0.02040814665045465
         ]
        },
        {
         "hovertemplate": "Cluster=%{marker.color}<br>Interest Score=%{x}<br>Principal Component 1=%{y}<br>XTN=%{z}<extra></extra>",
         "legendgroup": "1",
         "marker": {
          "color": [
           1,
           1,
           1,
           1,
           1,
           1,
           1,
           1,
           1,
           1,
           1,
           1,
           1,
           1,
           1,
           1,
           1,
           1,
           1,
           1,
           1,
           1,
           1,
           1,
           1,
           1,
           1,
           1,
           1,
           1,
           1,
           1,
           1,
           1
          ],
          "coloraxis": "coloraxis",
          "symbol": "x"
         },
         "mode": "markers",
         "name": "1",
         "scene": "scene",
         "showlegend": true,
         "type": "scatter3d",
         "x": [
          96,
          65,
          47,
          39,
          39,
          39,
          39,
          42,
          42,
          79,
          79,
          72,
          63,
          45,
          45,
          45,
          49,
          44,
          44,
          41,
          41,
          42,
          54,
          56,
          56,
          52,
          56,
          100,
          80,
          87,
          87,
          87,
          85,
          70
         ],
         "y": [
          -8518530.01382411,
          -7975353.579210088,
          -7017910.229706478,
          -6957894.713303261,
          -6936356.742772724,
          -6916496.629902513,
          -6894815.6596283885,
          -6812723.139259099,
          -6773186.73033071,
          -5832178.997796065,
          -5711285.445844394,
          -4206010.610547503,
          -3945544.9326870264,
          -3036789.074541634,
          -2905781.9546763264,
          -2858932.8915427267,
          -2704571.9810759155,
          -2373570.304533931,
          -2325721.4838505425,
          -2092150.1683666224,
          -2042836.8963404682,
          -1910290.7372675003,
          -1620528.1119891247,
          -1313384.29933007,
          -1268056.319674288,
          -414002.6504167807,
          33451.648947666414,
          2699042.1800261512,
          3762673.2576869456,
          12175640.212961115,
          12411005.712011162,
          12945281.869953316,
          15941928.603938667,
          19534514.94853981
         ],
         "z": [
          -0.005630343961506745,
          -0.02995842872509613,
          0.0026891929687935523,
          0.0057471117370853095,
          0.012190464564732162,
          0.03199098198090322,
          0.026622886221924214,
          0.021964726123603784,
          -0.027154070540889585,
          0.022378158835950845,
          0.006759305702155993,
          -0.0016486563901140228,
          0.014620894156751609,
          0.02265375322423457,
          0.013373441008722729,
          0.013691881321002963,
          0.00842839448648558,
          -0.004926904911606078,
          0.00016501603413132668,
          -0.0019404743141764325,
          -0.01895660985907621,
          -0.03897606342011462,
          0.023127376326346427,
          0.01178849360639922,
          -0.012150521549356252,
          -0.01037780782634623,
          -0.019823051545283632,
          0.0024876471678354486,
          0.018817666508516902,
          -0.025220722747471336,
          0.01638636473550603,
          0.009477950317133388,
          -0.01363153537026196,
          0.006626591357016487
         ]
        },
        {
         "hovertemplate": "Cluster=%{marker.color}<br>Interest Score=%{x}<br>Principal Component 1=%{y}<br>XTN=%{z}<extra></extra>",
         "legendgroup": "0",
         "marker": {
          "color": [
           0,
           0,
           0,
           0,
           0,
           0,
           0,
           0,
           0,
           0,
           0,
           0,
           0,
           0,
           0,
           0,
           0,
           0,
           0,
           0,
           0,
           0,
           0,
           0,
           0,
           0,
           0,
           0,
           0,
           0,
           0,
           0,
           0,
           0,
           0,
           0,
           0,
           0,
           0,
           0,
           0,
           0,
           0,
           0,
           0,
           0,
           0,
           0,
           0,
           0,
           0,
           0,
           0,
           0,
           0,
           0,
           0,
           0,
           0,
           0,
           0,
           0
          ],
          "coloraxis": "coloraxis",
          "symbol": "cross"
         },
         "mode": "markers",
         "name": "0",
         "scene": "scene",
         "showlegend": true,
         "type": "scatter3d",
         "x": [
          78,
          100,
          100,
          100,
          100,
          80,
          80,
          78,
          78,
          78,
          78,
          78,
          86,
          86,
          86,
          86,
          86,
          83,
          83,
          83,
          83,
          83,
          87,
          87,
          87,
          87,
          87,
          87,
          87,
          87,
          87,
          87,
          90,
          90,
          90,
          90,
          90,
          85,
          85,
          85,
          82,
          82,
          82,
          82,
          82,
          76,
          76,
          76,
          76,
          76,
          72,
          72,
          72,
          72,
          64,
          64,
          64,
          64,
          70,
          70,
          70,
          70
         ],
         "y": [
          1576162.8818008546,
          2535071.9635974,
          2872353.6466865563,
          3063976.1548941974,
          3262352.3903839057,
          3938234.9291638127,
          4121693.8434478194,
          4898326.414381853,
          5086842.968120549,
          5289837.887034756,
          5513393.912448352,
          5746101.941211648,
          6337353.759081707,
          6561991.412007441,
          6784647.676244573,
          7016141.781251147,
          7256301.394781457,
          7856123.644336153,
          8065221.136459658,
          8312108.205874313,
          8551990.18040284,
          8803903.61647657,
          9382432.07361492,
          9580561.213723438,
          9810391.043374576,
          10004357.107723646,
          10658549.193824572,
          10859139.38923721,
          11093060.935693227,
          11328693.383833615,
          12666788.481049905,
          13240661.025039047,
          13929257.58518346,
          14156334.626927782,
          14386685.550238475,
          14622512.8469866,
          14865360.727299793,
          15564627.628715156,
          15747972.659042856,
          16132703.698635258,
          16586158.760580705,
          16733802.696682595,
          16887840.65661813,
          17056769.955221467,
          17223403.060282074,
          17612854.521722406,
          17728079.710544102,
          17849851.406476848,
          17973911.343619447,
          18108432.156469345,
          18487911.92773556,
          18583199.409566846,
          18689059.937263027,
          18788725.391855814,
          19057695.68526831,
          19127906.749442946,
          19197845.663319573,
          19277211.66454053,
          19462125.602330446,
          19609316.847683765,
          19686863.905051284,
          19764233.171596885
         ],
         "z": [
          0.0045379375130552005,
          0.030147725511068257,
          -0.0016056138800408792,
          0.0016081960218954359,
          -0.01488839936733155,
          0.03635834674709404,
          -0.00449059339364688,
          -0.014437427465409325,
          0.00976591026854301,
          0.006826957383031962,
          0.01553889617028981,
          0.01460569009142332,
          -0.005346851886408044,
          0.0028945427379629685,
          0,
          0.004398016567194185,
          -0.010810083411788352,
          -0.019643078585717788,
          0.012699221978339505,
          -0.0026472735251280573,
          0.00810284739058309,
          -0.0031874077780066346,
          -0.01167807540277066,
          -0.004219938638587162,
          0.009040816236351557,
          -0.0005600016149579501,
          0.00224126156993032,
          -0.007127912152030902,
          0.0063344164195222605,
          -0.00167848819097971,
          0.02955740339903512,
          -0.0016328088267186789,
          -0.0035437116873023866,
          0.01860211460809369,
          -0.0076540846714228125,
          0.019756414808210557,
          -0.02016990791069806,
          0.004604604335695095,
          0.01860336003964247,
          -0.0040251633875864066,
          -0.004580411584386601,
          -0.009744230973751988,
          -0.03102359846757297,
          0.009873017393189798,
          -0.024441341302996245,
          0.01603439901286441,
          0.01662674770860173,
          0.0083159869914331,
          0.02694156817144555,
          0.003480151779100993,
          0.006928088618259887,
          0.006620824929411072,
          -0.01083316942696788,
          0.013689740463306288,
          0.006045031777532239,
          0.0014062977324837964,
          0.0010213434084584974,
          0.02729242813034793,
          0.011669705479808943,
          0.016335535623869246,
          -0.023629616838220516,
          -0.00122848246003171
         ]
        }
       ],
       "layout": {
        "autosize": true,
        "coloraxis": {
         "colorbar": {
          "title": {
           "text": "Cluster"
          }
         },
         "colorscale": [
          [
           0,
           "#0d0887"
          ],
          [
           0.1111111111111111,
           "#46039f"
          ],
          [
           0.2222222222222222,
           "#7201a8"
          ],
          [
           0.3333333333333333,
           "#9c179e"
          ],
          [
           0.4444444444444444,
           "#bd3786"
          ],
          [
           0.5555555555555556,
           "#d8576b"
          ],
          [
           0.6666666666666666,
           "#ed7953"
          ],
          [
           0.7777777777777778,
           "#fb9f3a"
          ],
          [
           0.8888888888888888,
           "#fdca26"
          ],
          [
           1,
           "#f0f921"
          ]
         ]
        },
        "legend": {
         "title": {
          "text": "Cluster"
         },
         "tracegroupgap": 0
        },
        "margin": {
         "t": 60
        },
        "scene": {
         "aspectmode": "auto",
         "aspectratio": {
          "x": 1,
          "y": 1,
          "z": 1
         },
         "camera": {
          "center": {
           "x": 0,
           "y": 0,
           "z": 0
          },
          "eye": {
           "x": 0.30272173823934484,
           "y": 0.3027217382393448,
           "z": 0.3027217382393448
          },
          "projection": {
           "type": "perspective"
          },
          "up": {
           "x": 0,
           "y": 0,
           "z": 1
          }
         },
         "domain": {
          "x": [
           0,
           1
          ],
          "y": [
           0,
           1
          ]
         },
         "xaxis": {
          "title": {
           "text": "Interest Score"
          },
          "type": "linear"
         },
         "yaxis": {
          "title": {
           "text": "Principal Component 1"
          },
          "type": "linear"
         },
         "zaxis": {
          "title": {
           "text": "XTN"
          },
          "type": "linear"
         }
        },
        "template": {
         "data": {
          "bar": [
           {
            "error_x": {
             "color": "#2a3f5f"
            },
            "error_y": {
             "color": "#2a3f5f"
            },
            "marker": {
             "line": {
              "color": "#E5ECF6",
              "width": 0.5
             }
            },
            "type": "bar"
           }
          ],
          "barpolar": [
           {
            "marker": {
             "line": {
              "color": "#E5ECF6",
              "width": 0.5
             }
            },
            "type": "barpolar"
           }
          ],
          "carpet": [
           {
            "aaxis": {
             "endlinecolor": "#2a3f5f",
             "gridcolor": "white",
             "linecolor": "white",
             "minorgridcolor": "white",
             "startlinecolor": "#2a3f5f"
            },
            "baxis": {
             "endlinecolor": "#2a3f5f",
             "gridcolor": "white",
             "linecolor": "white",
             "minorgridcolor": "white",
             "startlinecolor": "#2a3f5f"
            },
            "type": "carpet"
           }
          ],
          "choropleth": [
           {
            "colorbar": {
             "outlinewidth": 0,
             "ticks": ""
            },
            "type": "choropleth"
           }
          ],
          "contour": [
           {
            "colorbar": {
             "outlinewidth": 0,
             "ticks": ""
            },
            "colorscale": [
             [
              0,
              "#0d0887"
             ],
             [
              0.1111111111111111,
              "#46039f"
             ],
             [
              0.2222222222222222,
              "#7201a8"
             ],
             [
              0.3333333333333333,
              "#9c179e"
             ],
             [
              0.4444444444444444,
              "#bd3786"
             ],
             [
              0.5555555555555556,
              "#d8576b"
             ],
             [
              0.6666666666666666,
              "#ed7953"
             ],
             [
              0.7777777777777778,
              "#fb9f3a"
             ],
             [
              0.8888888888888888,
              "#fdca26"
             ],
             [
              1,
              "#f0f921"
             ]
            ],
            "type": "contour"
           }
          ],
          "contourcarpet": [
           {
            "colorbar": {
             "outlinewidth": 0,
             "ticks": ""
            },
            "type": "contourcarpet"
           }
          ],
          "heatmap": [
           {
            "colorbar": {
             "outlinewidth": 0,
             "ticks": ""
            },
            "colorscale": [
             [
              0,
              "#0d0887"
             ],
             [
              0.1111111111111111,
              "#46039f"
             ],
             [
              0.2222222222222222,
              "#7201a8"
             ],
             [
              0.3333333333333333,
              "#9c179e"
             ],
             [
              0.4444444444444444,
              "#bd3786"
             ],
             [
              0.5555555555555556,
              "#d8576b"
             ],
             [
              0.6666666666666666,
              "#ed7953"
             ],
             [
              0.7777777777777778,
              "#fb9f3a"
             ],
             [
              0.8888888888888888,
              "#fdca26"
             ],
             [
              1,
              "#f0f921"
             ]
            ],
            "type": "heatmap"
           }
          ],
          "heatmapgl": [
           {
            "colorbar": {
             "outlinewidth": 0,
             "ticks": ""
            },
            "colorscale": [
             [
              0,
              "#0d0887"
             ],
             [
              0.1111111111111111,
              "#46039f"
             ],
             [
              0.2222222222222222,
              "#7201a8"
             ],
             [
              0.3333333333333333,
              "#9c179e"
             ],
             [
              0.4444444444444444,
              "#bd3786"
             ],
             [
              0.5555555555555556,
              "#d8576b"
             ],
             [
              0.6666666666666666,
              "#ed7953"
             ],
             [
              0.7777777777777778,
              "#fb9f3a"
             ],
             [
              0.8888888888888888,
              "#fdca26"
             ],
             [
              1,
              "#f0f921"
             ]
            ],
            "type": "heatmapgl"
           }
          ],
          "histogram": [
           {
            "marker": {
             "colorbar": {
              "outlinewidth": 0,
              "ticks": ""
             }
            },
            "type": "histogram"
           }
          ],
          "histogram2d": [
           {
            "colorbar": {
             "outlinewidth": 0,
             "ticks": ""
            },
            "colorscale": [
             [
              0,
              "#0d0887"
             ],
             [
              0.1111111111111111,
              "#46039f"
             ],
             [
              0.2222222222222222,
              "#7201a8"
             ],
             [
              0.3333333333333333,
              "#9c179e"
             ],
             [
              0.4444444444444444,
              "#bd3786"
             ],
             [
              0.5555555555555556,
              "#d8576b"
             ],
             [
              0.6666666666666666,
              "#ed7953"
             ],
             [
              0.7777777777777778,
              "#fb9f3a"
             ],
             [
              0.8888888888888888,
              "#fdca26"
             ],
             [
              1,
              "#f0f921"
             ]
            ],
            "type": "histogram2d"
           }
          ],
          "histogram2dcontour": [
           {
            "colorbar": {
             "outlinewidth": 0,
             "ticks": ""
            },
            "colorscale": [
             [
              0,
              "#0d0887"
             ],
             [
              0.1111111111111111,
              "#46039f"
             ],
             [
              0.2222222222222222,
              "#7201a8"
             ],
             [
              0.3333333333333333,
              "#9c179e"
             ],
             [
              0.4444444444444444,
              "#bd3786"
             ],
             [
              0.5555555555555556,
              "#d8576b"
             ],
             [
              0.6666666666666666,
              "#ed7953"
             ],
             [
              0.7777777777777778,
              "#fb9f3a"
             ],
             [
              0.8888888888888888,
              "#fdca26"
             ],
             [
              1,
              "#f0f921"
             ]
            ],
            "type": "histogram2dcontour"
           }
          ],
          "mesh3d": [
           {
            "colorbar": {
             "outlinewidth": 0,
             "ticks": ""
            },
            "type": "mesh3d"
           }
          ],
          "parcoords": [
           {
            "line": {
             "colorbar": {
              "outlinewidth": 0,
              "ticks": ""
             }
            },
            "type": "parcoords"
           }
          ],
          "pie": [
           {
            "automargin": true,
            "type": "pie"
           }
          ],
          "scatter": [
           {
            "marker": {
             "colorbar": {
              "outlinewidth": 0,
              "ticks": ""
             }
            },
            "type": "scatter"
           }
          ],
          "scatter3d": [
           {
            "line": {
             "colorbar": {
              "outlinewidth": 0,
              "ticks": ""
             }
            },
            "marker": {
             "colorbar": {
              "outlinewidth": 0,
              "ticks": ""
             }
            },
            "type": "scatter3d"
           }
          ],
          "scattercarpet": [
           {
            "marker": {
             "colorbar": {
              "outlinewidth": 0,
              "ticks": ""
             }
            },
            "type": "scattercarpet"
           }
          ],
          "scattergeo": [
           {
            "marker": {
             "colorbar": {
              "outlinewidth": 0,
              "ticks": ""
             }
            },
            "type": "scattergeo"
           }
          ],
          "scattergl": [
           {
            "marker": {
             "colorbar": {
              "outlinewidth": 0,
              "ticks": ""
             }
            },
            "type": "scattergl"
           }
          ],
          "scattermapbox": [
           {
            "marker": {
             "colorbar": {
              "outlinewidth": 0,
              "ticks": ""
             }
            },
            "type": "scattermapbox"
           }
          ],
          "scatterpolar": [
           {
            "marker": {
             "colorbar": {
              "outlinewidth": 0,
              "ticks": ""
             }
            },
            "type": "scatterpolar"
           }
          ],
          "scatterpolargl": [
           {
            "marker": {
             "colorbar": {
              "outlinewidth": 0,
              "ticks": ""
             }
            },
            "type": "scatterpolargl"
           }
          ],
          "scatterternary": [
           {
            "marker": {
             "colorbar": {
              "outlinewidth": 0,
              "ticks": ""
             }
            },
            "type": "scatterternary"
           }
          ],
          "surface": [
           {
            "colorbar": {
             "outlinewidth": 0,
             "ticks": ""
            },
            "colorscale": [
             [
              0,
              "#0d0887"
             ],
             [
              0.1111111111111111,
              "#46039f"
             ],
             [
              0.2222222222222222,
              "#7201a8"
             ],
             [
              0.3333333333333333,
              "#9c179e"
             ],
             [
              0.4444444444444444,
              "#bd3786"
             ],
             [
              0.5555555555555556,
              "#d8576b"
             ],
             [
              0.6666666666666666,
              "#ed7953"
             ],
             [
              0.7777777777777778,
              "#fb9f3a"
             ],
             [
              0.8888888888888888,
              "#fdca26"
             ],
             [
              1,
              "#f0f921"
             ]
            ],
            "type": "surface"
           }
          ],
          "table": [
           {
            "cells": {
             "fill": {
              "color": "#EBF0F8"
             },
             "line": {
              "color": "white"
             }
            },
            "header": {
             "fill": {
              "color": "#C8D4E3"
             },
             "line": {
              "color": "white"
             }
            },
            "type": "table"
           }
          ]
         },
         "layout": {
          "annotationdefaults": {
           "arrowcolor": "#2a3f5f",
           "arrowhead": 0,
           "arrowwidth": 1
          },
          "autotypenumbers": "strict",
          "coloraxis": {
           "colorbar": {
            "outlinewidth": 0,
            "ticks": ""
           }
          },
          "colorscale": {
           "diverging": [
            [
             0,
             "#8e0152"
            ],
            [
             0.1,
             "#c51b7d"
            ],
            [
             0.2,
             "#de77ae"
            ],
            [
             0.3,
             "#f1b6da"
            ],
            [
             0.4,
             "#fde0ef"
            ],
            [
             0.5,
             "#f7f7f7"
            ],
            [
             0.6,
             "#e6f5d0"
            ],
            [
             0.7,
             "#b8e186"
            ],
            [
             0.8,
             "#7fbc41"
            ],
            [
             0.9,
             "#4d9221"
            ],
            [
             1,
             "#276419"
            ]
           ],
           "sequential": [
            [
             0,
             "#0d0887"
            ],
            [
             0.1111111111111111,
             "#46039f"
            ],
            [
             0.2222222222222222,
             "#7201a8"
            ],
            [
             0.3333333333333333,
             "#9c179e"
            ],
            [
             0.4444444444444444,
             "#bd3786"
            ],
            [
             0.5555555555555556,
             "#d8576b"
            ],
            [
             0.6666666666666666,
             "#ed7953"
            ],
            [
             0.7777777777777778,
             "#fb9f3a"
            ],
            [
             0.8888888888888888,
             "#fdca26"
            ],
            [
             1,
             "#f0f921"
            ]
           ],
           "sequentialminus": [
            [
             0,
             "#0d0887"
            ],
            [
             0.1111111111111111,
             "#46039f"
            ],
            [
             0.2222222222222222,
             "#7201a8"
            ],
            [
             0.3333333333333333,
             "#9c179e"
            ],
            [
             0.4444444444444444,
             "#bd3786"
            ],
            [
             0.5555555555555556,
             "#d8576b"
            ],
            [
             0.6666666666666666,
             "#ed7953"
            ],
            [
             0.7777777777777778,
             "#fb9f3a"
            ],
            [
             0.8888888888888888,
             "#fdca26"
            ],
            [
             1,
             "#f0f921"
            ]
           ]
          },
          "colorway": [
           "#636efa",
           "#EF553B",
           "#00cc96",
           "#ab63fa",
           "#FFA15A",
           "#19d3f3",
           "#FF6692",
           "#B6E880",
           "#FF97FF",
           "#FECB52"
          ],
          "font": {
           "color": "#2a3f5f"
          },
          "geo": {
           "bgcolor": "white",
           "lakecolor": "white",
           "landcolor": "#E5ECF6",
           "showlakes": true,
           "showland": true,
           "subunitcolor": "white"
          },
          "hoverlabel": {
           "align": "left"
          },
          "hovermode": "closest",
          "mapbox": {
           "style": "light"
          },
          "paper_bgcolor": "white",
          "plot_bgcolor": "#E5ECF6",
          "polar": {
           "angularaxis": {
            "gridcolor": "white",
            "linecolor": "white",
            "ticks": ""
           },
           "bgcolor": "#E5ECF6",
           "radialaxis": {
            "gridcolor": "white",
            "linecolor": "white",
            "ticks": ""
           }
          },
          "scene": {
           "xaxis": {
            "backgroundcolor": "#E5ECF6",
            "gridcolor": "white",
            "gridwidth": 2,
            "linecolor": "white",
            "showbackground": true,
            "ticks": "",
            "zerolinecolor": "white"
           },
           "yaxis": {
            "backgroundcolor": "#E5ECF6",
            "gridcolor": "white",
            "gridwidth": 2,
            "linecolor": "white",
            "showbackground": true,
            "ticks": "",
            "zerolinecolor": "white"
           },
           "zaxis": {
            "backgroundcolor": "#E5ECF6",
            "gridcolor": "white",
            "gridwidth": 2,
            "linecolor": "white",
            "showbackground": true,
            "ticks": "",
            "zerolinecolor": "white"
           }
          },
          "shapedefaults": {
           "line": {
            "color": "#2a3f5f"
           }
          },
          "ternary": {
           "aaxis": {
            "gridcolor": "white",
            "linecolor": "white",
            "ticks": ""
           },
           "baxis": {
            "gridcolor": "white",
            "linecolor": "white",
            "ticks": ""
           },
           "bgcolor": "#E5ECF6",
           "caxis": {
            "gridcolor": "white",
            "linecolor": "white",
            "ticks": ""
           }
          },
          "title": {
           "x": 0.05
          },
          "xaxis": {
           "automargin": true,
           "gridcolor": "white",
           "linecolor": "white",
           "ticks": "",
           "title": {
            "standoff": 15
           },
           "zerolinecolor": "white",
           "zerolinewidth": 2
          },
          "yaxis": {
           "automargin": true,
           "gridcolor": "white",
           "linecolor": "white",
           "ticks": "",
           "title": {
            "standoff": 15
           },
           "zerolinecolor": "white",
           "zerolinewidth": 2
          }
         }
        }
       }
      },
      "image/png": "[encoded data removed]",
      "text/html": [
       "<div>                            <div id=\"1fbaa13a-84a8-4155-935b-dec5cd96346d\" class=\"plotly-graph-div\" style=\"height:525px; width:800px;\"></div>            <script type=\"text/javascript\">                require([\"plotly\"], function(Plotly) {                    window.PLOTLYENV=window.PLOTLYENV || {};                                    if (document.getElementById(\"1fbaa13a-84a8-4155-935b-dec5cd96346d\")) {                    Plotly.newPlot(                        \"1fbaa13a-84a8-4155-935b-dec5cd96346d\",                        [{\"hovertemplate\": \"Cluster=%{marker.color}<br>Interest Score=%{x}<br>Principal Component 1=%{y}<br>XTN=%{z}<extra></extra>\", \"legendgroup\": \"2\", \"marker\": {\"color\": [2, 2, 2, 2, 2, 2, 2, 2, 2, 2, 2, 2, 2, 2, 2, 2, 2, 2, 2, 2, 2, 2, 2, 2, 2, 2, 2, 2, 2, 2, 2, 2, 2, 2, 2, 2, 2, 2, 2, 2, 2, 2, 2, 2, 2, 2, 2, 2, 2, 2, 2, 2, 2, 2, 2, 2, 2, 2, 2, 2, 2, 2, 2, 2, 2, 2, 2, 2, 2, 2, 2, 2, 2, 2, 2, 2, 2, 2, 2, 2, 2, 2, 2, 2, 2, 2, 2, 2, 2, 2, 2, 2, 2, 2, 2, 2, 2, 2], \"coloraxis\": \"coloraxis\", \"symbol\": \"circle\"}, \"mode\": \"markers\", \"name\": \"2\", \"scene\": \"scene\", \"showlegend\": true, \"type\": \"scatter3d\", \"x\": [7, 7, 7, 30, 30, 30, 79, 79, 94, 94, 96, 96, 96, 96, 68, 68, 68, 65, 65, 57, 57, 53, 53, 53, 54, 54, 54, 54, 52, 52, 52, 47, 42, 42, 51, 51, 51, 51, 70, 70, 70, 70, 70, 79, 79, 79, 79, 79, 85, 85, 85, 85, 73, 73, 73, 73, 72, 72, 72, 63, 63, 55, 55, 55, 55, 52, 52, 52, 52, 52, 45, 45, 49, 49, 44, 44, 41, 41, 42, 42, 42, 54, 54, 56, 48, 48, 48, 48, 48, 52, 52, 56, 56, 56, 49, 49, 78, 78], \"y\": [-8775543.461298576, -8775433.060920771, -8775380.177615793, -8775022.9748, -8774468.186421553, -8774028.659809142, -8770929.242280412, -8766431.407815924, -8729410.111399423, -8670104.323535973, -8609458.442425208, -8583106.617095476, -8550770.444018563, -8486205.045064244, -8176662.995047727, -8122376.072733306, -8092318.448700399, -7949415.572911208, -7920453.413860807, -7693475.36385689, -7658510.535015187, -7582781.176412194, -7558219.926630492, -7533618.7543242425, -7416017.89892813, -7393048.350828838, -7372606.336113622, -7320985.528524907, -7235056.134278864, -7186499.7208415065, -7162847.625066602, -7042414.803084113, -6794324.250594216, -6749999.194644448, -6661187.354447174, -6610389.107408202, -6581836.868344434, -6550269.952939767, -6460684.813727885, -6423577.537136151, -6387700.059214301, -6347345.264021315, -6301309.674193589, -6131519.971904632, -6079664.635376796, -6022997.2257571835, -5771405.771884587, -5648755.250083764, -5403343.33323972, -5335233.93641506, -5191222.060573078, -5119002.793932889, -4933958.5895576365, -4798851.860115488, -4730412.1483324915, -4657057.58431267, -4480586.2260754295, -4414106.506018966, -4274739.58948482, -4058863.7588229887, -3886156.4452466494, -3631373.1157750883, -3575270.6543910224, -3523972.903666833, -3458543.308031819, -3335880.1527902987, -3290785.4483383438, -3243438.0042586974, -3199405.216702016, -3150524.089761868, -2996399.023728598, -2951187.1900541293, -2746466.0062755113, -2619268.2212106283, -2443749.2882417445, -2409647.2141993484, -2176359.6057295552, -2137322.8594258674, -1870484.4859570297, -1831409.2481675, -1784251.8861420266, -1577124.4324101303, -1537694.8283666773, -1101930.6933863554, -959303.9471693805, -907006.5795645043, -847177.3985385344, -782263.416712682, -713086.2457047253, -539248.3393434929, -255643.57101767496, -43446.65254036699, 112897.94936065213, 303302.92763660534, 814941.0419357718, 1072480.412680605, 1722951.6727254281, 1887803.2631060728], \"z\": [-0.028092879396485082, -0.06519398434302459, -0.005379419469760728, -0.08557079903427811, -0.056403078894096126, -0.10891297840228853, -0.09921432647900864, -0.09252672324304467, 0.003400498814330577, -0.05142734019917894, 0.0020675431911727493, -0.0002292141627242561, -0.06328828474208592, -0.02929588030527719, -0.03397853400117612, -0.021248656917420502, -0.009400223383479343, -0.013976531184719755, 0.00022858530291558488, -0.033983483657055835, -0.03351375061758555, -0.016584114854675924, 0.007446345898469486, -0.012608735457710574, -0.009751062515843456, -0.03163625258778824, -0.02747729173998392, -0.006209775523382977, -0.012860380494893131, 0.0022550351189891678, 0.005931702171154907, -0.018106357528936745, -0.0277542627418087, -0.08409377016042617, 0.013439315916421224, -0.0011043874704366186, 0.001474074363048583, -0.01858322630890441, -0.010873675091779056, 0.0115618011705394, -0.04234585660040202, 0.007630588632187463, -0.02019419253451149, 0.011094143928793931, -0.010972414384367355, 0.008607512881535495, -0.012057160595783434, -0.025363682160441936, -0.014322854670886231, 0.014530979782537038, -0.006600120184055425, 0.00897827280175578, -0.016728931298855217, -0.00774077967743525, 0.001632803961028939, -0.00978085354975522, 0.005121686544214965, -0.010555083221142849, -0.005284273139269935, 0.0022018152639406985, 0.0065825076073384725, 0.005241822395846585, 0.003195939853165353, -0.010395689775818062, 0.0011860334510556125, -0.009477092094177129, -0.00563810051665592, 0.004982833534806552, 0.003248394960790879, 0.0005112266383922037, -0.0026648874912114096, -0.0010020269241939328, -0.01529702896233598, -0.021562934897441655, -0.004618218523195661, 0.008947819870433138, 0.007211972684991075, 0.006346613259664125, 0.002749610778280287, -0.014567240725774422, -0.003999992038892675, -0.015856927227827056, -0.0032567471068228877, 0.004711631504825897, -0.0024256391576452647, -0.010374443246807695, 0.008517616122229343, 0.004060419055370136, -0.01099968147092556, -0.009813517829747929, 0.006228032518375892, -0.031264838255560264, -0.039779391530619934, -0.006783135791058381, -0.004298266308744747, -0.00996148344893977, -0.014455754569020263, -0.019556895935520013]}, {\"hovertemplate\": \"Cluster=%{marker.color}<br>Interest Score=%{x}<br>Principal Component 1=%{y}<br>XTN=%{z}<extra></extra>\", \"legendgroup\": \"4\", \"marker\": {\"color\": [4, 4, 4, 4, 4, 4, 4, 4, 4, 4, 4, 4, 4, 4, 4, 4, 4, 4, 4, 4, 4, 4, 4, 4, 4, 4, 4, 4, 4, 4, 4, 4, 4, 4, 4, 4, 4, 4, 4, 4, 4, 4, 4, 4, 4, 4, 4, 4, 4, 4, 4, 4, 4], \"coloraxis\": \"coloraxis\", \"symbol\": \"diamond\"}, \"mode\": \"markers\", \"name\": \"4\", \"scene\": \"scene\", \"showlegend\": true, \"type\": \"scatter3d\", \"x\": [7, 30, 30, 79, 79, 94, 94, 94, 85, 85, 85, 85, 68, 68, 65, 65, 57, 57, 57, 53, 53, 54, 52, 52, 47, 47, 39, 42, 51, 79, 79, 85, 73, 72, 63, 63, 55, 49, 49, 41, 42, 54, 54, 56, 56, 52, 52, 56, 49, 49, 49, 78, 78], \"y\": [-8775510.322699845, -8774834.247890668, -8773394.48909415, -8769093.783696944, -8761926.177110208, -8718792.434080081, -8706698.399136316, -8688804.670428464, -8392476.321713848, -8361665.705725819, -8330399.293450332, -8294400.877221388, -8147800.5218167985, -8059206.748017085, -7886780.961206939, -7854432.442004729, -7773839.807134681, -7749229.083933034, -7722725.85053428, -7506147.38705278, -7479297.674987781, -7345728.446734223, -7256046.377366814, -7212301.108684386, -7083334.798789263, -7064770.463864112, -6869380.624969778, -6725152.156896117, -6637488.650159326, -6177972.174383949, -5580662.487288363, -5267137.93131606, -4869475.847921888, -4342189.667264101, -4000000.457374903, -3826842.698752645, -3679387.6937904432, -2663547.923634614, -2568842.537441913, -2215894.2768963245, -1735942.026277791, -1492001.412686934, -1436991.2991988412, -1216959.3460002, -1158309.0101383054, -477320.14517678093, -337613.2156595995, 203987.84425292164, 583078.9420080169, 710529.3514170696, 944453.4970509156, 1435538.6833205454, 2068286.954294277], \"z\": [0.031684251358080166, 0.052386977909647525, 0.06349963920193867, 0.05033641674554135, 0.025359509037990117, 0.12043792644356845, 0.03420198316332135, 0.032395919054957416, 0.07811306093125059, 0.028699159465389586, 0.03407275769641127, 0.028306031506935225, 0.01625118848375795, 0.0332128620978267, 0.01440002441406252, 0.019603400426905667, 0.03535908230101858, 0.02070440239691651, 0.039941444157282964, 0.020035308207730473, 0.04036259136582454, 0.0031145581150660018, 0.07587586714978789, 0.025005224267566458, 0.04188697357682236, 0.034738460596985155, 0.026998232297720914, 0.032037570782235125, 0.01475533997045986, 0.03606816741667873, 0.02870264156479974, 0.04278279619730863, 0.005429850444534701, 0.009380212364348273, 0.014280531110351324, 0.01449274776046661, 0.03031355082778253, 0.0108161232786117, 0.0046396454196135925, 0.006765674220061246, 0.011698937726383196, 0.0048151121573447595, 0.01625878415159443, 0.023925897559403442, 0.012835260382118685, 0.018665299575972627, 0.026052763958554603, 0.026457796998746286, 0.006487981391415597, 0.026123848949896944, 0.033372109438934316, 0.07286598111483378, 0.03381639755126975]}, {\"hovertemplate\": \"Cluster=%{marker.color}<br>Interest Score=%{x}<br>Principal Component 1=%{y}<br>XTN=%{z}<extra></extra>\", \"legendgroup\": \"3\", \"marker\": {\"color\": [3, 3, 3], \"coloraxis\": \"coloraxis\", \"symbol\": \"square\"}, \"mode\": \"markers\", \"name\": \"3\", \"scene\": \"scene\", \"showlegend\": true, \"type\": \"scatter3d\", \"x\": [79, 80, 72], \"y\": [-8755547.465683604, 4442298.17843256, 18392584.465742305], \"z\": [-0.025242265365973626, -0.0040879744227084736, 0.02040814665045465]}, {\"hovertemplate\": \"Cluster=%{marker.color}<br>Interest Score=%{x}<br>Principal Component 1=%{y}<br>XTN=%{z}<extra></extra>\", \"legendgroup\": \"1\", \"marker\": {\"color\": [1, 1, 1, 1, 1, 1, 1, 1, 1, 1, 1, 1, 1, 1, 1, 1, 1, 1, 1, 1, 1, 1, 1, 1, 1, 1, 1, 1, 1, 1, 1, 1, 1, 1], \"coloraxis\": \"coloraxis\", \"symbol\": \"x\"}, \"mode\": \"markers\", \"name\": \"1\", \"scene\": \"scene\", \"showlegend\": true, \"type\": \"scatter3d\", \"x\": [96, 65, 47, 39, 39, 39, 39, 42, 42, 79, 79, 72, 63, 45, 45, 45, 49, 44, 44, 41, 41, 42, 54, 56, 56, 52, 56, 100, 80, 87, 87, 87, 85, 70], \"y\": [-8518530.01382411, -7975353.579210088, -7017910.229706478, -6957894.713303261, -6936356.742772724, -6916496.629902513, -6894815.6596283885, -6812723.139259099, -6773186.73033071, -5832178.997796065, -5711285.445844394, -4206010.610547503, -3945544.9326870264, -3036789.074541634, -2905781.9546763264, -2858932.8915427267, -2704571.9810759155, -2373570.304533931, -2325721.4838505425, -2092150.1683666224, -2042836.8963404682, -1910290.7372675003, -1620528.1119891247, -1313384.29933007, -1268056.319674288, -414002.6504167807, 33451.648947666414, 2699042.1800261512, 3762673.2576869456, 12175640.212961115, 12411005.712011162, 12945281.869953316, 15941928.603938667, 19534514.94853981], \"z\": [-0.005630343961506745, -0.02995842872509613, 0.0026891929687935523, 0.0057471117370853095, 0.012190464564732162, 0.03199098198090322, 0.026622886221924214, 0.021964726123603784, -0.027154070540889585, 0.022378158835950845, 0.006759305702155993, -0.0016486563901140228, 0.014620894156751609, 0.02265375322423457, 0.013373441008722729, 0.013691881321002963, 0.00842839448648558, -0.004926904911606078, 0.00016501603413132668, -0.0019404743141764325, -0.01895660985907621, -0.03897606342011462, 0.023127376326346427, 0.01178849360639922, -0.012150521549356252, -0.01037780782634623, -0.019823051545283632, 0.0024876471678354486, 0.018817666508516902, -0.025220722747471336, 0.01638636473550603, 0.009477950317133388, -0.01363153537026196, 0.006626591357016487]}, {\"hovertemplate\": \"Cluster=%{marker.color}<br>Interest Score=%{x}<br>Principal Component 1=%{y}<br>XTN=%{z}<extra></extra>\", \"legendgroup\": \"0\", \"marker\": {\"color\": [0, 0, 0, 0, 0, 0, 0, 0, 0, 0, 0, 0, 0, 0, 0, 0, 0, 0, 0, 0, 0, 0, 0, 0, 0, 0, 0, 0, 0, 0, 0, 0, 0, 0, 0, 0, 0, 0, 0, 0, 0, 0, 0, 0, 0, 0, 0, 0, 0, 0, 0, 0, 0, 0, 0, 0, 0, 0, 0, 0, 0, 0], \"coloraxis\": \"coloraxis\", \"symbol\": \"cross\"}, \"mode\": \"markers\", \"name\": \"0\", \"scene\": \"scene\", \"showlegend\": true, \"type\": \"scatter3d\", \"x\": [78, 100, 100, 100, 100, 80, 80, 78, 78, 78, 78, 78, 86, 86, 86, 86, 86, 83, 83, 83, 83, 83, 87, 87, 87, 87, 87, 87, 87, 87, 87, 87, 90, 90, 90, 90, 90, 85, 85, 85, 82, 82, 82, 82, 82, 76, 76, 76, 76, 76, 72, 72, 72, 72, 64, 64, 64, 64, 70, 70, 70, 70], \"y\": [1576162.8818008546, 2535071.9635974, 2872353.6466865563, 3063976.1548941974, 3262352.3903839057, 3938234.9291638127, 4121693.8434478194, 4898326.414381853, 5086842.968120549, 5289837.887034756, 5513393.912448352, 5746101.941211648, 6337353.759081707, 6561991.412007441, 6784647.676244573, 7016141.781251147, 7256301.394781457, 7856123.644336153, 8065221.136459658, 8312108.205874313, 8551990.18040284, 8803903.61647657, 9382432.07361492, 9580561.213723438, 9810391.043374576, 10004357.107723646, 10658549.193824572, 10859139.38923721, 11093060.935693227, 11328693.383833615, 12666788.481049905, 13240661.025039047, 13929257.58518346, 14156334.626927782, 14386685.550238475, 14622512.8469866, 14865360.727299793, 15564627.628715156, 15747972.659042856, 16132703.698635258, 16586158.760580705, 16733802.696682595, 16887840.65661813, 17056769.955221467, 17223403.060282074, 17612854.521722406, 17728079.710544102, 17849851.406476848, 17973911.343619447, 18108432.156469345, 18487911.92773556, 18583199.409566846, 18689059.937263027, 18788725.391855814, 19057695.68526831, 19127906.749442946, 19197845.663319573, 19277211.66454053, 19462125.602330446, 19609316.847683765, 19686863.905051284, 19764233.171596885], \"z\": [0.0045379375130552005, 0.030147725511068257, -0.0016056138800408792, 0.0016081960218954359, -0.01488839936733155, 0.03635834674709404, -0.00449059339364688, -0.014437427465409325, 0.00976591026854301, 0.006826957383031962, 0.01553889617028981, 0.01460569009142332, -0.005346851886408044, 0.0028945427379629685, 0.0, 0.004398016567194185, -0.010810083411788352, -0.019643078585717788, 0.012699221978339505, -0.0026472735251280573, 0.00810284739058309, -0.0031874077780066346, -0.01167807540277066, -0.004219938638587162, 0.009040816236351557, -0.0005600016149579501, 0.00224126156993032, -0.007127912152030902, 0.0063344164195222605, -0.00167848819097971, 0.02955740339903512, -0.0016328088267186789, -0.0035437116873023866, 0.01860211460809369, -0.0076540846714228125, 0.019756414808210557, -0.02016990791069806, 0.004604604335695095, 0.01860336003964247, -0.0040251633875864066, -0.004580411584386601, -0.009744230973751988, -0.03102359846757297, 0.009873017393189798, -0.024441341302996245, 0.01603439901286441, 0.01662674770860173, 0.0083159869914331, 0.02694156817144555, 0.003480151779100993, 0.006928088618259887, 0.006620824929411072, -0.01083316942696788, 0.013689740463306288, 0.006045031777532239, 0.0014062977324837964, 0.0010213434084584974, 0.02729242813034793, 0.011669705479808943, 0.016335535623869246, -0.023629616838220516, -0.00122848246003171]}],                        {\"coloraxis\": {\"colorbar\": {\"title\": {\"text\": \"Cluster\"}}, \"colorscale\": [[0.0, \"#0d0887\"], [0.1111111111111111, \"#46039f\"], [0.2222222222222222, \"#7201a8\"], [0.3333333333333333, \"#9c179e\"], [0.4444444444444444, \"#bd3786\"], [0.5555555555555556, \"#d8576b\"], [0.6666666666666666, \"#ed7953\"], [0.7777777777777778, \"#fb9f3a\"], [0.8888888888888888, \"#fdca26\"], [1.0, \"#f0f921\"]]}, \"legend\": {\"title\": {\"text\": \"Cluster\"}, \"tracegroupgap\": 0}, \"margin\": {\"t\": 60}, \"scene\": {\"domain\": {\"x\": [0.0, 1.0], \"y\": [0.0, 1.0]}, \"xaxis\": {\"title\": {\"text\": \"Interest Score\"}}, \"yaxis\": {\"title\": {\"text\": \"Principal Component 1\"}}, \"zaxis\": {\"title\": {\"text\": \"XTN\"}}}, \"template\": {\"data\": {\"bar\": [{\"error_x\": {\"color\": \"#2a3f5f\"}, \"error_y\": {\"color\": \"#2a3f5f\"}, \"marker\": {\"line\": {\"color\": \"#E5ECF6\", \"width\": 0.5}}, \"type\": \"bar\"}], \"barpolar\": [{\"marker\": {\"line\": {\"color\": \"#E5ECF6\", \"width\": 0.5}}, \"type\": \"barpolar\"}], \"carpet\": [{\"aaxis\": {\"endlinecolor\": \"#2a3f5f\", \"gridcolor\": \"white\", \"linecolor\": \"white\", \"minorgridcolor\": \"white\", \"startlinecolor\": \"#2a3f5f\"}, \"baxis\": {\"endlinecolor\": \"#2a3f5f\", \"gridcolor\": \"white\", \"linecolor\": \"white\", \"minorgridcolor\": \"white\", \"startlinecolor\": \"#2a3f5f\"}, \"type\": \"carpet\"}], \"choropleth\": [{\"colorbar\": {\"outlinewidth\": 0, \"ticks\": \"\"}, \"type\": \"choropleth\"}], \"contour\": [{\"colorbar\": {\"outlinewidth\": 0, \"ticks\": \"\"}, \"colorscale\": [[0.0, \"#0d0887\"], [0.1111111111111111, \"#46039f\"], [0.2222222222222222, \"#7201a8\"], [0.3333333333333333, \"#9c179e\"], [0.4444444444444444, \"#bd3786\"], [0.5555555555555556, \"#d8576b\"], [0.6666666666666666, \"#ed7953\"], [0.7777777777777778, \"#fb9f3a\"], [0.8888888888888888, \"#fdca26\"], [1.0, \"#f0f921\"]], \"type\": \"contour\"}], \"contourcarpet\": [{\"colorbar\": {\"outlinewidth\": 0, \"ticks\": \"\"}, \"type\": \"contourcarpet\"}], \"heatmap\": [{\"colorbar\": {\"outlinewidth\": 0, \"ticks\": \"\"}, \"colorscale\": [[0.0, \"#0d0887\"], [0.1111111111111111, \"#46039f\"], [0.2222222222222222, \"#7201a8\"], [0.3333333333333333, \"#9c179e\"], [0.4444444444444444, \"#bd3786\"], [0.5555555555555556, \"#d8576b\"], [0.6666666666666666, \"#ed7953\"], [0.7777777777777778, \"#fb9f3a\"], [0.8888888888888888, \"#fdca26\"], [1.0, \"#f0f921\"]], \"type\": \"heatmap\"}], \"heatmapgl\": [{\"colorbar\": {\"outlinewidth\": 0, \"ticks\": \"\"}, \"colorscale\": [[0.0, \"#0d0887\"], [0.1111111111111111, \"#46039f\"], [0.2222222222222222, \"#7201a8\"], [0.3333333333333333, \"#9c179e\"], [0.4444444444444444, \"#bd3786\"], [0.5555555555555556, \"#d8576b\"], [0.6666666666666666, \"#ed7953\"], [0.7777777777777778, \"#fb9f3a\"], [0.8888888888888888, \"#fdca26\"], [1.0, \"#f0f921\"]], \"type\": \"heatmapgl\"}], \"histogram\": [{\"marker\": {\"colorbar\": {\"outlinewidth\": 0, \"ticks\": \"\"}}, \"type\": \"histogram\"}], \"histogram2d\": [{\"colorbar\": {\"outlinewidth\": 0, \"ticks\": \"\"}, \"colorscale\": [[0.0, \"#0d0887\"], [0.1111111111111111, \"#46039f\"], [0.2222222222222222, \"#7201a8\"], [0.3333333333333333, \"#9c179e\"], [0.4444444444444444, \"#bd3786\"], [0.5555555555555556, \"#d8576b\"], [0.6666666666666666, \"#ed7953\"], [0.7777777777777778, \"#fb9f3a\"], [0.8888888888888888, \"#fdca26\"], [1.0, \"#f0f921\"]], \"type\": \"histogram2d\"}], \"histogram2dcontour\": [{\"colorbar\": {\"outlinewidth\": 0, \"ticks\": \"\"}, \"colorscale\": [[0.0, \"#0d0887\"], [0.1111111111111111, \"#46039f\"], [0.2222222222222222, \"#7201a8\"], [0.3333333333333333, \"#9c179e\"], [0.4444444444444444, \"#bd3786\"], [0.5555555555555556, \"#d8576b\"], [0.6666666666666666, \"#ed7953\"], [0.7777777777777778, \"#fb9f3a\"], [0.8888888888888888, \"#fdca26\"], [1.0, \"#f0f921\"]], \"type\": \"histogram2dcontour\"}], \"mesh3d\": [{\"colorbar\": {\"outlinewidth\": 0, \"ticks\": \"\"}, \"type\": \"mesh3d\"}], \"parcoords\": [{\"line\": {\"colorbar\": {\"outlinewidth\": 0, \"ticks\": \"\"}}, \"type\": \"parcoords\"}], \"pie\": [{\"automargin\": true, \"type\": \"pie\"}], \"scatter\": [{\"marker\": {\"colorbar\": {\"outlinewidth\": 0, \"ticks\": \"\"}}, \"type\": \"scatter\"}], \"scatter3d\": [{\"line\": {\"colorbar\": {\"outlinewidth\": 0, \"ticks\": \"\"}}, \"marker\": {\"colorbar\": {\"outlinewidth\": 0, \"ticks\": \"\"}}, \"type\": \"scatter3d\"}], \"scattercarpet\": [{\"marker\": {\"colorbar\": {\"outlinewidth\": 0, \"ticks\": \"\"}}, \"type\": \"scattercarpet\"}], \"scattergeo\": [{\"marker\": {\"colorbar\": {\"outlinewidth\": 0, \"ticks\": \"\"}}, \"type\": \"scattergeo\"}], \"scattergl\": [{\"marker\": {\"colorbar\": {\"outlinewidth\": 0, \"ticks\": \"\"}}, \"type\": \"scattergl\"}], \"scattermapbox\": [{\"marker\": {\"colorbar\": {\"outlinewidth\": 0, \"ticks\": \"\"}}, \"type\": \"scattermapbox\"}], \"scatterpolar\": [{\"marker\": {\"colorbar\": {\"outlinewidth\": 0, \"ticks\": \"\"}}, \"type\": \"scatterpolar\"}], \"scatterpolargl\": [{\"marker\": {\"colorbar\": {\"outlinewidth\": 0, \"ticks\": \"\"}}, \"type\": \"scatterpolargl\"}], \"scatterternary\": [{\"marker\": {\"colorbar\": {\"outlinewidth\": 0, \"ticks\": \"\"}}, \"type\": \"scatterternary\"}], \"surface\": [{\"colorbar\": {\"outlinewidth\": 0, \"ticks\": \"\"}, \"colorscale\": [[0.0, \"#0d0887\"], [0.1111111111111111, \"#46039f\"], [0.2222222222222222, \"#7201a8\"], [0.3333333333333333, \"#9c179e\"], [0.4444444444444444, \"#bd3786\"], [0.5555555555555556, \"#d8576b\"], [0.6666666666666666, \"#ed7953\"], [0.7777777777777778, \"#fb9f3a\"], [0.8888888888888888, \"#fdca26\"], [1.0, \"#f0f921\"]], \"type\": \"surface\"}], \"table\": [{\"cells\": {\"fill\": {\"color\": \"#EBF0F8\"}, \"line\": {\"color\": \"white\"}}, \"header\": {\"fill\": {\"color\": \"#C8D4E3\"}, \"line\": {\"color\": \"white\"}}, \"type\": \"table\"}]}, \"layout\": {\"annotationdefaults\": {\"arrowcolor\": \"#2a3f5f\", \"arrowhead\": 0, \"arrowwidth\": 1}, \"autotypenumbers\": \"strict\", \"coloraxis\": {\"colorbar\": {\"outlinewidth\": 0, \"ticks\": \"\"}}, \"colorscale\": {\"diverging\": [[0, \"#8e0152\"], [0.1, \"#c51b7d\"], [0.2, \"#de77ae\"], [0.3, \"#f1b6da\"], [0.4, \"#fde0ef\"], [0.5, \"#f7f7f7\"], [0.6, \"#e6f5d0\"], [0.7, \"#b8e186\"], [0.8, \"#7fbc41\"], [0.9, \"#4d9221\"], [1, \"#276419\"]], \"sequential\": [[0.0, \"#0d0887\"], [0.1111111111111111, \"#46039f\"], [0.2222222222222222, \"#7201a8\"], [0.3333333333333333, \"#9c179e\"], [0.4444444444444444, \"#bd3786\"], [0.5555555555555556, \"#d8576b\"], [0.6666666666666666, \"#ed7953\"], [0.7777777777777778, \"#fb9f3a\"], [0.8888888888888888, \"#fdca26\"], [1.0, \"#f0f921\"]], \"sequentialminus\": [[0.0, \"#0d0887\"], [0.1111111111111111, \"#46039f\"], [0.2222222222222222, \"#7201a8\"], [0.3333333333333333, \"#9c179e\"], [0.4444444444444444, \"#bd3786\"], [0.5555555555555556, \"#d8576b\"], [0.6666666666666666, \"#ed7953\"], [0.7777777777777778, \"#fb9f3a\"], [0.8888888888888888, \"#fdca26\"], [1.0, \"#f0f921\"]]}, \"colorway\": [\"#636efa\", \"#EF553B\", \"#00cc96\", \"#ab63fa\", \"#FFA15A\", \"#19d3f3\", \"#FF6692\", \"#B6E880\", \"#FF97FF\", \"#FECB52\"], \"font\": {\"color\": \"#2a3f5f\"}, \"geo\": {\"bgcolor\": \"white\", \"lakecolor\": \"white\", \"landcolor\": \"#E5ECF6\", \"showlakes\": true, \"showland\": true, \"subunitcolor\": \"white\"}, \"hoverlabel\": {\"align\": \"left\"}, \"hovermode\": \"closest\", \"mapbox\": {\"style\": \"light\"}, \"paper_bgcolor\": \"white\", \"plot_bgcolor\": \"#E5ECF6\", \"polar\": {\"angularaxis\": {\"gridcolor\": \"white\", \"linecolor\": \"white\", \"ticks\": \"\"}, \"bgcolor\": \"#E5ECF6\", \"radialaxis\": {\"gridcolor\": \"white\", \"linecolor\": \"white\", \"ticks\": \"\"}}, \"scene\": {\"xaxis\": {\"backgroundcolor\": \"#E5ECF6\", \"gridcolor\": \"white\", \"gridwidth\": 2, \"linecolor\": \"white\", \"showbackground\": true, \"ticks\": \"\", \"zerolinecolor\": \"white\"}, \"yaxis\": {\"backgroundcolor\": \"#E5ECF6\", \"gridcolor\": \"white\", \"gridwidth\": 2, \"linecolor\": \"white\", \"showbackground\": true, \"ticks\": \"\", \"zerolinecolor\": \"white\"}, \"zaxis\": {\"backgroundcolor\": \"#E5ECF6\", \"gridcolor\": \"white\", \"gridwidth\": 2, \"linecolor\": \"white\", \"showbackground\": true, \"ticks\": \"\", \"zerolinecolor\": \"white\"}}, \"shapedefaults\": {\"line\": {\"color\": \"#2a3f5f\"}}, \"ternary\": {\"aaxis\": {\"gridcolor\": \"white\", \"linecolor\": \"white\", \"ticks\": \"\"}, \"baxis\": {\"gridcolor\": \"white\", \"linecolor\": \"white\", \"ticks\": \"\"}, \"bgcolor\": \"#E5ECF6\", \"caxis\": {\"gridcolor\": \"white\", \"linecolor\": \"white\", \"ticks\": \"\"}}, \"title\": {\"x\": 0.05}, \"xaxis\": {\"automargin\": true, \"gridcolor\": \"white\", \"linecolor\": \"white\", \"ticks\": \"\", \"title\": {\"standoff\": 15}, \"zerolinecolor\": \"white\", \"zerolinewidth\": 2}, \"yaxis\": {\"automargin\": true, \"gridcolor\": \"white\", \"linecolor\": \"white\", \"ticks\": \"\", \"title\": {\"standoff\": 15}, \"zerolinecolor\": \"white\", \"zerolinewidth\": 2}}}, \"width\": 800},                        {\"responsive\": true}                    ).then(function(){\n",
       "                            \n",
       "var gd = document.getElementById('1fbaa13a-84a8-4155-935b-dec5cd96346d');\n",
       "var x = new MutationObserver(function (mutations, observer) {{\n",
       "        var display = window.getComputedStyle(gd).display;\n",
       "        if (!display || display === 'none') {{\n",
       "            console.log([gd, 'removed!']);\n",
       "            Plotly.purge(gd);\n",
       "            observer.disconnect();\n",
       "        }}\n",
       "}});\n",
       "\n",
       "// Listen for the removal of the full notebook cells\n",
       "var notebookContainer = gd.closest('#notebook-container');\n",
       "if (notebookContainer) {{\n",
       "    x.observe(notebookContainer, {childList: true});\n",
       "}}\n",
       "\n",
       "// Listen for the clearing of the current output cell\n",
       "var outputEl = gd.closest('.output');\n",
       "if (outputEl) {{\n",
       "    x.observe(outputEl, {childList: true});\n",
       "}}\n",
       "\n",
       "                        })                };                });            </script>        </div>"
      ]
     },
     "metadata": {},
     "output_type": "display_data"
    }
   ],
   "source": [
    "px.scatter_3d(\n",
    "    df,\n",
    "    x='Interest Score',\n",
    "    y='Principal Component 1',\n",
    "    z='XTN',\n",
    "    symbol='Cluster',\n",
    "    color='Cluster',\n",
    "    width=800\n",
    ")"
   ]
  },
  {
   "cell_type": "code",
   "execution_count": null,
   "metadata": {},
   "outputs": [],
   "source": []
  }
 ],
 "metadata": {
  "kernelspec": {
   "display_name": "Python 3",
   "language": "python",
   "name": "python3"
  },
  "language_info": {
   "codemirror_mode": {
    "name": "ipython",
    "version": 3
   },
   "file_extension": ".py",
   "mimetype": "text/x-python",
   "name": "python",
   "nbconvert_exporter": "python",
   "pygments_lexer": "ipython3",
   "version": "3.7.9"
  }
 },
 "nbformat": 4,
 "nbformat_minor": 4
}
