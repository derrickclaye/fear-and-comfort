{
  "nbformat": 4,
  "nbformat_minor": 0,
  "metadata": {
    "colab": {
      "name": "Copy of supervised_all.ipynb",
      "provenance": [],
      "collapsed_sections": []
    },
    "kernelspec": {
      "name": "python3",
      "display_name": "Python 3"
    },
    "language_info": {
      "name": "python"
    }
  },
  "cells": [
    {
      "cell_type": "code",
      "metadata": {
        "colab": {
          "base_uri": "https://localhost:8080/"
        },
        "id": "pcFQLpxJszEb",
        "outputId": "fbcf5a5a-bc03-4bfa-9f01-a702d657c0ca"
      },
      "source": [
        "!pip install lightgbm"
      ],
      "execution_count": null,
      "outputs": [
        {
          "output_type": "stream",
          "text": [
            "Requirement already satisfied: lightgbm in /usr/local/lib/python3.7/dist-packages (2.2.3)\n",
            "Requirement already satisfied: scipy in /usr/local/lib/python3.7/dist-packages (from lightgbm) (1.4.1)\n",
            "Requirement already satisfied: scikit-learn in /usr/local/lib/python3.7/dist-packages (from lightgbm) (0.22.2.post1)\n",
            "Requirement already satisfied: numpy in /usr/local/lib/python3.7/dist-packages (from lightgbm) (1.19.5)\n",
            "Requirement already satisfied: joblib>=0.11 in /usr/local/lib/python3.7/dist-packages (from scikit-learn->lightgbm) (1.0.1)\n"
          ],
          "name": "stdout"
        }
      ]
    },
    {
      "cell_type": "code",
      "metadata": {
        "id": "6o-ahBJVs5ZK"
      },
      "source": [
        ""
      ],
      "execution_count": null,
      "outputs": []
    },
    {
      "cell_type": "code",
      "metadata": {
        "id": "7t7xq8OVtAUT"
      },
      "source": [
        "import pandas as pd\n",
        "import numpy as np\n",
        "import seaborn as sns\n",
        "import matplotlib.pyplot as plt\n",
        "%matplotlib inline"
      ],
      "execution_count": 27,
      "outputs": []
    },
    {
      "cell_type": "code",
      "metadata": {
        "id": "Q6-HCX3jyDF-"
      },
      "source": [
        "from lightgbm import LGBMClassifier\n",
        "from sklearn.model_selection import train_test_split\n",
        "from sklearn.ensemble import RandomForestClassifier\n",
        "from sklearn.metrics import classification_report,confusion_matrix\n",
        "from sklearn.model_selection import GridSearchCV\n",
        "from sklearn.neighbors import KNeighborsClassifier"
      ],
      "execution_count": 28,
      "outputs": []
    },
    {
      "cell_type": "code",
      "metadata": {
        "id": "qzi_ZrTftlJj"
      },
      "source": [
        "# Read in the data\n",
        "df = pd.read_csv('supervised_no_pca.csv', index_col=None)"
      ],
      "execution_count": 29,
      "outputs": []
    },
    {
      "cell_type": "code",
      "metadata": {
        "id": "bWnzfVFvtoHt"
      },
      "source": [
        "df=df.rename(columns={'Unnamed: 0':'date'})"
      ],
      "execution_count": 30,
      "outputs": []
    },
    {
      "cell_type": "code",
      "metadata": {
        "id": "mfgxUhMXttnO"
      },
      "source": [
        "df.set_index('date', inplace=True)"
      ],
      "execution_count": 31,
      "outputs": []
    },
    {
      "cell_type": "code",
      "metadata": {
        "id": "N-_4b3jItwKl"
      },
      "source": [
        "df= pd.get_dummies(df, columns=['sentiment'])"
      ],
      "execution_count": 32,
      "outputs": []
    },
    {
      "cell_type": "code",
      "metadata": {
        "id": "9YRSlwmltytq"
      },
      "source": [
        "df['label'] = np.where(df[\"S&P 500 Daily Movement\"].str.contains('neg'), -1, 1)"
      ],
      "execution_count": 33,
      "outputs": []
    },
    {
      "cell_type": "code",
      "metadata": {
        "id": "uK2cZUZPt1z4"
      },
      "source": [
        "df = df.drop(columns='S&P 500 Daily Movement')"
      ],
      "execution_count": 34,
      "outputs": []
    },
    {
      "cell_type": "code",
      "metadata": {
        "id": "MICZw60Lt4qP"
      },
      "source": [
        "df.index = pd.to_datetime(df.index)"
      ],
      "execution_count": 35,
      "outputs": []
    },
    {
      "cell_type": "code",
      "metadata": {
        "colab": {
          "base_uri": "https://localhost:8080/",
          "height": 450
        },
        "id": "T4ZHesRFt6w1",
        "outputId": "7d48c13f-7b21-47af-a1cc-9c929879f339"
      },
      "source": [
        "df"
      ],
      "execution_count": 36,
      "outputs": [
        {
          "output_type": "execute_result",
          "data": {
            "text/html": [
              "<div>\n",
              "<style scoped>\n",
              "    .dataframe tbody tr th:only-of-type {\n",
              "        vertical-align: middle;\n",
              "    }\n",
              "\n",
              "    .dataframe tbody tr th {\n",
              "        vertical-align: top;\n",
              "    }\n",
              "\n",
              "    .dataframe thead th {\n",
              "        text-align: right;\n",
              "    }\n",
              "</style>\n",
              "<table border=\"1\" class=\"dataframe\">\n",
              "  <thead>\n",
              "    <tr style=\"text-align: right;\">\n",
              "      <th></th>\n",
              "      <th>Interest Score</th>\n",
              "      <th>HST</th>\n",
              "      <th>XTN</th>\n",
              "      <th>total_cases</th>\n",
              "      <th>new_cases</th>\n",
              "      <th>total_deaths</th>\n",
              "      <th>new_deaths</th>\n",
              "      <th>sentiment_negative</th>\n",
              "      <th>sentiment_neutral</th>\n",
              "      <th>sentiment_positive</th>\n",
              "      <th>label</th>\n",
              "    </tr>\n",
              "    <tr>\n",
              "      <th>date</th>\n",
              "      <th></th>\n",
              "      <th></th>\n",
              "      <th></th>\n",
              "      <th></th>\n",
              "      <th></th>\n",
              "      <th></th>\n",
              "      <th></th>\n",
              "      <th></th>\n",
              "      <th></th>\n",
              "      <th></th>\n",
              "      <th></th>\n",
              "    </tr>\n",
              "  </thead>\n",
              "  <tbody>\n",
              "    <tr>\n",
              "      <th>2020-03-03</th>\n",
              "      <td>7</td>\n",
              "      <td>-0.053440</td>\n",
              "      <td>-0.028093</td>\n",
              "      <td>74.0</td>\n",
              "      <td>19.0</td>\n",
              "      <td>7.0</td>\n",
              "      <td>1.0</td>\n",
              "      <td>0</td>\n",
              "      <td>1</td>\n",
              "      <td>0</td>\n",
              "      <td>-1</td>\n",
              "    </tr>\n",
              "    <tr>\n",
              "      <th>2020-03-04</th>\n",
              "      <td>7</td>\n",
              "      <td>0.007057</td>\n",
              "      <td>0.031684</td>\n",
              "      <td>107.0</td>\n",
              "      <td>33.0</td>\n",
              "      <td>11.0</td>\n",
              "      <td>4.0</td>\n",
              "      <td>0</td>\n",
              "      <td>1</td>\n",
              "      <td>0</td>\n",
              "      <td>1</td>\n",
              "    </tr>\n",
              "    <tr>\n",
              "      <th>2020-03-05</th>\n",
              "      <td>7</td>\n",
              "      <td>-0.078486</td>\n",
              "      <td>-0.065194</td>\n",
              "      <td>184.0</td>\n",
              "      <td>77.0</td>\n",
              "      <td>12.0</td>\n",
              "      <td>1.0</td>\n",
              "      <td>0</td>\n",
              "      <td>1</td>\n",
              "      <td>0</td>\n",
              "      <td>-1</td>\n",
              "    </tr>\n",
              "    <tr>\n",
              "      <th>2020-03-06</th>\n",
              "      <td>7</td>\n",
              "      <td>0.023574</td>\n",
              "      <td>-0.005379</td>\n",
              "      <td>237.0</td>\n",
              "      <td>53.0</td>\n",
              "      <td>14.0</td>\n",
              "      <td>2.0</td>\n",
              "      <td>0</td>\n",
              "      <td>1</td>\n",
              "      <td>0</td>\n",
              "      <td>-1</td>\n",
              "    </tr>\n",
              "    <tr>\n",
              "      <th>2020-03-09</th>\n",
              "      <td>30</td>\n",
              "      <td>-0.103269</td>\n",
              "      <td>-0.085571</td>\n",
              "      <td>594.0</td>\n",
              "      <td>75.0</td>\n",
              "      <td>22.0</td>\n",
              "      <td>1.0</td>\n",
              "      <td>0</td>\n",
              "      <td>1</td>\n",
              "      <td>0</td>\n",
              "      <td>-1</td>\n",
              "    </tr>\n",
              "    <tr>\n",
              "      <th>...</th>\n",
              "      <td>...</td>\n",
              "      <td>...</td>\n",
              "      <td>...</td>\n",
              "      <td>...</td>\n",
              "      <td>...</td>\n",
              "      <td>...</td>\n",
              "      <td>...</td>\n",
              "      <td>...</td>\n",
              "      <td>...</td>\n",
              "      <td>...</td>\n",
              "      <td>...</td>\n",
              "    </tr>\n",
              "    <tr>\n",
              "      <th>2021-02-22</th>\n",
              "      <td>70</td>\n",
              "      <td>-0.002987</td>\n",
              "      <td>0.011670</td>\n",
              "      <td>28233518.0</td>\n",
              "      <td>56159.0</td>\n",
              "      <td>502465.0</td>\n",
              "      <td>1325.0</td>\n",
              "      <td>0</td>\n",
              "      <td>1</td>\n",
              "      <td>0</td>\n",
              "      <td>-1</td>\n",
              "    </tr>\n",
              "    <tr>\n",
              "      <th>2021-02-23</th>\n",
              "      <td>70</td>\n",
              "      <td>-0.005992</td>\n",
              "      <td>0.006627</td>\n",
              "      <td>28305788.0</td>\n",
              "      <td>72270.0</td>\n",
              "      <td>504747.0</td>\n",
              "      <td>2282.0</td>\n",
              "      <td>1</td>\n",
              "      <td>0</td>\n",
              "      <td>0</td>\n",
              "      <td>1</td>\n",
              "    </tr>\n",
              "    <tr>\n",
              "      <th>2021-02-24</th>\n",
              "      <td>70</td>\n",
              "      <td>0.031947</td>\n",
              "      <td>0.016336</td>\n",
              "      <td>28380537.0</td>\n",
              "      <td>74749.0</td>\n",
              "      <td>507916.0</td>\n",
              "      <td>3169.0</td>\n",
              "      <td>0</td>\n",
              "      <td>1</td>\n",
              "      <td>0</td>\n",
              "      <td>1</td>\n",
              "    </tr>\n",
              "    <tr>\n",
              "      <th>2021-02-25</th>\n",
              "      <td>70</td>\n",
              "      <td>-0.044393</td>\n",
              "      <td>-0.023630</td>\n",
              "      <td>28458041.0</td>\n",
              "      <td>77504.0</td>\n",
              "      <td>510366.0</td>\n",
              "      <td>2450.0</td>\n",
              "      <td>0</td>\n",
              "      <td>1</td>\n",
              "      <td>0</td>\n",
              "      <td>-1</td>\n",
              "    </tr>\n",
              "    <tr>\n",
              "      <th>2021-02-26</th>\n",
              "      <td>70</td>\n",
              "      <td>0.014059</td>\n",
              "      <td>-0.001228</td>\n",
              "      <td>28535390.0</td>\n",
              "      <td>77349.0</td>\n",
              "      <td>512433.0</td>\n",
              "      <td>2067.0</td>\n",
              "      <td>0</td>\n",
              "      <td>1</td>\n",
              "      <td>0</td>\n",
              "      <td>-1</td>\n",
              "    </tr>\n",
              "  </tbody>\n",
              "</table>\n",
              "<p>250 rows × 11 columns</p>\n",
              "</div>"
            ],
            "text/plain": [
              "            Interest Score       HST  ...  sentiment_positive  label\n",
              "date                                  ...                           \n",
              "2020-03-03               7 -0.053440  ...                   0     -1\n",
              "2020-03-04               7  0.007057  ...                   0      1\n",
              "2020-03-05               7 -0.078486  ...                   0     -1\n",
              "2020-03-06               7  0.023574  ...                   0     -1\n",
              "2020-03-09              30 -0.103269  ...                   0     -1\n",
              "...                    ...       ...  ...                 ...    ...\n",
              "2021-02-22              70 -0.002987  ...                   0     -1\n",
              "2021-02-23              70 -0.005992  ...                   0      1\n",
              "2021-02-24              70  0.031947  ...                   0      1\n",
              "2021-02-25              70 -0.044393  ...                   0     -1\n",
              "2021-02-26              70  0.014059  ...                   0     -1\n",
              "\n",
              "[250 rows x 11 columns]"
            ]
          },
          "metadata": {
            "tags": []
          },
          "execution_count": 36
        }
      ]
    },
    {
      "cell_type": "code",
      "metadata": {
        "colab": {
          "base_uri": "https://localhost:8080/",
          "height": 576
        },
        "id": "pwdHShi9xS9E",
        "outputId": "e6f9a0e1-3a1a-4f39-8093-083ba083efae"
      },
      "source": [
        "corrMatrix = df.corr()\n",
        "fig, ax = plt.subplots(figsize=(10,8))  \n",
        "sns.heatmap(corrMatrix, annot=True, ax=ax);"
      ],
      "execution_count": 37,
      "outputs": [
        {
          "output_type": "display_data",
          "data": {
            "image/png": "[encoded data removed]",
            "text/plain": [
              "<Figure size 720x576 with 2 Axes>"
            ]
          },
          "metadata": {
            "tags": [],
            "needs_background": "light"
          }
        }
      ]
    },
    {
      "cell_type": "code",
      "metadata": {
        "id": "ULvfBNhAt7kA"
      },
      "source": [
        ""
      ],
      "execution_count": 37,
      "outputs": []
    },
    {
      "cell_type": "code",
      "metadata": {
        "id": "7bVuYdVYuGS1"
      },
      "source": [
        "X_train, X_test, y_train, y_test = train_test_split(df.drop('label', axis=1), df['label'], test_size=0.30, random_state=101)"
      ],
      "execution_count": 38,
      "outputs": []
    },
    {
      "cell_type": "code",
      "metadata": {
        "id": "kYqEBD0WuIoq"
      },
      "source": [
        "lgbm = LGBMClassifier(objective='Binary', random_state=5)"
      ],
      "execution_count": 39,
      "outputs": []
    },
    {
      "cell_type": "code",
      "metadata": {
        "id": "DtkWe3Kiyw1u"
      },
      "source": [
        "## hyperparameter tuning\n",
        "param_grid = {'n_estimators': [1, 10, 20, 30, 40], 'n_jobs': [1,5,10,15]}\n",
        "grid = GridSearchCV(RandomForestClassifier(),param_grid,refit=True,verbose=1)\n",
        "grid.fit(X_train,y_train)\n",
        "grid.best_estimator_"
      ],
      "execution_count": null,
      "outputs": []
    },
    {
      "cell_type": "code",
      "metadata": {
        "id": "BqB2e8ExuKgU"
      },
      "source": [
        "clf = RandomForestClassifier(bootstrap=True, ccp_alpha=0.0, class_weight=None,\n",
        "                       criterion='gini', max_depth=None, max_features='auto',\n",
        "                       max_leaf_nodes=None, max_samples=None,\n",
        "                       min_impurity_decrease=0.0, min_impurity_split=None,\n",
        "                       min_samples_leaf=1, min_samples_split=2,\n",
        "                       min_weight_fraction_leaf=0.0, n_estimators=30, n_jobs=1,\n",
        "                       oob_score=False, random_state=None, verbose=0,\n",
        "                       warm_start=False)"
      ],
      "execution_count": 40,
      "outputs": []
    },
    {
      "cell_type": "code",
      "metadata": {
        "id": "vFsXhT5JuOKh"
      },
      "source": [
        "knn = KNeighborsClassifier(n_neighbors=20, weights='distance')"
      ],
      "execution_count": 41,
      "outputs": []
    },
    {
      "cell_type": "code",
      "metadata": {
        "id": "4e6UScCvwDlb"
      },
      "source": [
        ""
      ],
      "execution_count": 41,
      "outputs": []
    },
    {
      "cell_type": "markdown",
      "metadata": {
        "id": "7nAGsJPEwQNK"
      },
      "source": [
        "### LGBM Classifier"
      ]
    },
    {
      "cell_type": "code",
      "metadata": {
        "colab": {
          "base_uri": "https://localhost:8080/"
        },
        "id": "-sI8Sk4QuYXc",
        "outputId": "dd32071f-ef5a-4cf7-8d3f-8911179c3c42"
      },
      "source": [
        "lgbm.fit(X_train, y_train)"
      ],
      "execution_count": 42,
      "outputs": [
        {
          "output_type": "execute_result",
          "data": {
            "text/plain": [
              "LGBMClassifier(boosting_type='gbdt', class_weight=None, colsample_bytree=1.0,\n",
              "               importance_type='split', learning_rate=0.1, max_depth=-1,\n",
              "               min_child_samples=20, min_child_weight=0.001, min_split_gain=0.0,\n",
              "               n_estimators=100, n_jobs=-1, num_leaves=31, objective='Binary',\n",
              "               random_state=5, reg_alpha=0.0, reg_lambda=0.0, silent=True,\n",
              "               subsample=1.0, subsample_for_bin=200000, subsample_freq=0)"
            ]
          },
          "metadata": {
            "tags": []
          },
          "execution_count": 42
        }
      ]
    },
    {
      "cell_type": "code",
      "metadata": {
        "id": "t4mJW6CfufVe"
      },
      "source": [
        "predictions = lgbm.predict(X_test)"
      ],
      "execution_count": 43,
      "outputs": []
    },
    {
      "cell_type": "code",
      "metadata": {
        "colab": {
          "base_uri": "https://localhost:8080/"
        },
        "id": "BSxdzX5Dvoi3",
        "outputId": "6273cb32-0882-44b2-9ac0-91e220e9402f"
      },
      "source": [
        "print(classification_report(y_test,predictions))"
      ],
      "execution_count": 44,
      "outputs": [
        {
          "output_type": "stream",
          "text": [
            "              precision    recall  f1-score   support\n",
            "\n",
            "          -1       0.67      0.67      0.67        33\n",
            "           1       0.74      0.74      0.74        42\n",
            "\n",
            "    accuracy                           0.71        75\n",
            "   macro avg       0.70      0.70      0.70        75\n",
            "weighted avg       0.71      0.71      0.71        75\n",
            "\n"
          ],
          "name": "stdout"
        }
      ]
    },
    {
      "cell_type": "markdown",
      "metadata": {
        "id": "db1N61TFwcmH"
      },
      "source": [
        "## CLF"
      ]
    },
    {
      "cell_type": "code",
      "metadata": {
        "colab": {
          "base_uri": "https://localhost:8080/"
        },
        "id": "ULjCxyDkv8oJ",
        "outputId": "972bcdb2-7713-4910-8a53-ccd0c25067d6"
      },
      "source": [
        "clf.fit(X_train, y_train)"
      ],
      "execution_count": 45,
      "outputs": [
        {
          "output_type": "execute_result",
          "data": {
            "text/plain": [
              "RandomForestClassifier(bootstrap=True, ccp_alpha=0.0, class_weight=None,\n",
              "                       criterion='gini', max_depth=None, max_features='auto',\n",
              "                       max_leaf_nodes=None, max_samples=None,\n",
              "                       min_impurity_decrease=0.0, min_impurity_split=None,\n",
              "                       min_samples_leaf=1, min_samples_split=2,\n",
              "                       min_weight_fraction_leaf=0.0, n_estimators=30, n_jobs=1,\n",
              "                       oob_score=False, random_state=None, verbose=0,\n",
              "                       warm_start=False)"
            ]
          },
          "metadata": {
            "tags": []
          },
          "execution_count": 45
        }
      ]
    },
    {
      "cell_type": "code",
      "metadata": {
        "id": "ocK1oGhQwgQi"
      },
      "source": [
        "predictions = clf.predict(X_test)"
      ],
      "execution_count": 46,
      "outputs": []
    },
    {
      "cell_type": "code",
      "metadata": {
        "colab": {
          "base_uri": "https://localhost:8080/"
        },
        "id": "cALZxn2Vwymq",
        "outputId": "fe096aaa-6c8b-4a41-d44f-c877ca00d537"
      },
      "source": [
        "print(classification_report(y_test,predictions))"
      ],
      "execution_count": 47,
      "outputs": [
        {
          "output_type": "stream",
          "text": [
            "              precision    recall  f1-score   support\n",
            "\n",
            "          -1       0.62      0.73      0.67        33\n",
            "           1       0.75      0.64      0.69        42\n",
            "\n",
            "    accuracy                           0.68        75\n",
            "   macro avg       0.68      0.69      0.68        75\n",
            "weighted avg       0.69      0.68      0.68        75\n",
            "\n"
          ],
          "name": "stdout"
        }
      ]
    },
    {
      "cell_type": "code",
      "metadata": {
        "id": "tcUcfIm9zMz3"
      },
      "source": [
        "y = clf.feature_importances_"
      ],
      "execution_count": 48,
      "outputs": []
    },
    {
      "cell_type": "code",
      "metadata": {
        "id": "GxzzArKPxIVv",
        "colab": {
          "base_uri": "https://localhost:8080/",
          "height": 435
        },
        "outputId": "f2f8ef81-517a-4111-b48f-77444dc0efc0"
      },
      "source": [
        "col_name=list(X_test.columns)\n",
        "    \n",
        "fig, ax = plt.subplots() \n",
        "width = 0.4 # the width of the bars \n",
        "ind = np.arange(len(y)) # the x locations for the groups\n",
        "ax.barh(ind, y, width, color='green')\n",
        "ax.set_yticks(ind+width/10)\n",
        "ax.set_yticklabels(col_name, minor=False)"
      ],
      "execution_count": 49,
      "outputs": [
        {
          "output_type": "execute_result",
          "data": {
            "text/plain": [
              "[Text(0, 0, 'Interest Score'),\n",
              " Text(0, 0, 'HST'),\n",
              " Text(0, 0, 'XTN'),\n",
              " Text(0, 0, 'total_cases'),\n",
              " Text(0, 0, 'new_cases'),\n",
              " Text(0, 0, 'total_deaths'),\n",
              " Text(0, 0, 'new_deaths'),\n",
              " Text(0, 0, 'sentiment_negative'),\n",
              " Text(0, 0, 'sentiment_neutral'),\n",
              " Text(0, 0, 'sentiment_positive')]"
            ]
          },
          "metadata": {
            "tags": []
          },
          "execution_count": 49
        },
        {
          "output_type": "display_data",
          "data": {
            "image/png": "[encoded data removed]",
            "text/plain": [
              "<Figure size 432x288 with 1 Axes>"
            ]
          },
          "metadata": {
            "tags": [],
            "needs_background": "light"
          }
        }
      ]
    },
    {
      "cell_type": "markdown",
      "metadata": {
        "id": "GEB7aMWjxiB5"
      },
      "source": [
        "## KNN"
      ]
    },
    {
      "cell_type": "code",
      "metadata": {
        "colab": {
          "base_uri": "https://localhost:8080/"
        },
        "id": "cxDt2_Zrxj6r",
        "outputId": "91eff5a2-e178-402b-c467-720a2c856d51"
      },
      "source": [
        "knn.fit(X_train,y_train)"
      ],
      "execution_count": 50,
      "outputs": [
        {
          "output_type": "execute_result",
          "data": {
            "text/plain": [
              "KNeighborsClassifier(algorithm='auto', leaf_size=30, metric='minkowski',\n",
              "                     metric_params=None, n_jobs=None, n_neighbors=20, p=2,\n",
              "                     weights='distance')"
            ]
          },
          "metadata": {
            "tags": []
          },
          "execution_count": 50
        }
      ]
    },
    {
      "cell_type": "code",
      "metadata": {
        "id": "qEM7fytixk8R"
      },
      "source": [
        "predictions = knn.predict(X_test)"
      ],
      "execution_count": 51,
      "outputs": []
    },
    {
      "cell_type": "code",
      "metadata": {
        "colab": {
          "base_uri": "https://localhost:8080/"
        },
        "id": "kMv9Z6uzxo_V",
        "outputId": "18e1f767-ad98-42bb-de42-2d3e52b5eb4e"
      },
      "source": [
        "print(classification_report(y_test,predictions))"
      ],
      "execution_count": 52,
      "outputs": [
        {
          "output_type": "stream",
          "text": [
            "              precision    recall  f1-score   support\n",
            "\n",
            "          -1       0.33      0.24      0.28        33\n",
            "           1       0.51      0.62      0.56        42\n",
            "\n",
            "    accuracy                           0.45        75\n",
            "   macro avg       0.42      0.43      0.42        75\n",
            "weighted avg       0.43      0.45      0.44        75\n",
            "\n"
          ],
          "name": "stdout"
        }
      ]
    },
    {
      "cell_type": "code",
      "metadata": {
        "id": "8r9zH2UgxvD1"
      },
      "source": [
        ""
      ],
      "execution_count": 53,
      "outputs": []
    },
    {
      "cell_type": "code",
      "metadata": {
        "id": "fK8WnjI_zXWt"
      },
      "source": [
        ""
      ],
      "execution_count": 53,
      "outputs": []
    }
  ]
}