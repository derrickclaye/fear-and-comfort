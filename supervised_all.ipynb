{
  "nbformat": 4,
  "nbformat_minor": 0,
  "metadata": {
    "colab": {
      "name": "Copy of supervised_all.ipynb",
      "provenance": [],
      "collapsed_sections": []
    },
    "kernelspec": {
      "name": "python3",
      "display_name": "Python 3"
    },
    "language_info": {
      "name": "python"
    }
  },
  "cells": [
    {
      "cell_type": "code",
      "metadata": {
        "id": "xQODP2x4ZIBB"
      },
      "source": [
        ""
      ],
      "execution_count": null,
      "outputs": []
    },
    {
      "cell_type": "code",
      "metadata": {
        "colab": {
          "base_uri": "https://localhost:8080/"
        },
        "id": "pcFQLpxJszEb",
        "outputId": "fbcf5a5a-bc03-4bfa-9f01-a702d657c0ca"
      },
      "source": [
        "!pip install lightgbm"
      ],
      "execution_count": null,
      "outputs": [
        {
          "output_type": "stream",
          "text": [
            "Requirement already satisfied: lightgbm in /usr/local/lib/python3.7/dist-packages (2.2.3)\n",
            "Requirement already satisfied: scipy in /usr/local/lib/python3.7/dist-packages (from lightgbm) (1.4.1)\n",
            "Requirement already satisfied: scikit-learn in /usr/local/lib/python3.7/dist-packages (from lightgbm) (0.22.2.post1)\n",
            "Requirement already satisfied: numpy in /usr/local/lib/python3.7/dist-packages (from lightgbm) (1.19.5)\n",
            "Requirement already satisfied: joblib>=0.11 in /usr/local/lib/python3.7/dist-packages (from scikit-learn->lightgbm) (1.0.1)\n"
          ],
          "name": "stdout"
        }
      ]
    },
    {
      "cell_type": "code",
      "metadata": {
        "id": "7t7xq8OVtAUT"
      },
      "source": [
        "import pandas as pd\n",
        "import numpy as np\n",
        "import seaborn as sns\n",
        "import matplotlib.pyplot as plt\n",
        "%matplotlib inline"
      ],
      "execution_count": 66,
      "outputs": []
    },
    {
      "cell_type": "code",
      "metadata": {
        "id": "Q6-HCX3jyDF-"
      },
      "source": [
        "from lightgbm import LGBMClassifier\n",
        "from sklearn.model_selection import train_test_split\n",
        "from sklearn.ensemble import RandomForestClassifier\n",
        "from sklearn.metrics import classification_report,confusion_matrix\n",
        "from sklearn.model_selection import GridSearchCV\n",
        "from sklearn.neighbors import KNeighborsClassifier"
      ],
      "execution_count": 67,
      "outputs": []
    },
    {
      "cell_type": "code",
      "metadata": {
        "id": "qzi_ZrTftlJj"
      },
      "source": [
        "# Read in the data\n",
        "df = pd.read_csv('balanced_supervised_no_pca.csv', index_col=None)"
      ],
      "execution_count": 68,
      "outputs": []
    },
    {
      "cell_type": "code",
      "metadata": {
        "colab": {
          "base_uri": "https://localhost:8080/",
          "height": 419
        },
        "id": "JGJQeSxOVvK8",
        "outputId": "e16fc43e-d224-46a7-c375-26e59ed25b39"
      },
      "source": [
        "df"
      ],
      "execution_count": 69,
      "outputs": [
        {
          "output_type": "execute_result",
          "data": {
            "text/html": [
              "<div>\n",
              "<style scoped>\n",
              "    .dataframe tbody tr th:only-of-type {\n",
              "        vertical-align: middle;\n",
              "    }\n",
              "\n",
              "    .dataframe tbody tr th {\n",
              "        vertical-align: top;\n",
              "    }\n",
              "\n",
              "    .dataframe thead th {\n",
              "        text-align: right;\n",
              "    }\n",
              "</style>\n",
              "<table border=\"1\" class=\"dataframe\">\n",
              "  <thead>\n",
              "    <tr style=\"text-align: right;\">\n",
              "      <th></th>\n",
              "      <th>Unnamed: 0</th>\n",
              "      <th>Interest Score</th>\n",
              "      <th>HST</th>\n",
              "      <th>XTN</th>\n",
              "      <th>sentiment</th>\n",
              "      <th>total_cases</th>\n",
              "      <th>new_cases</th>\n",
              "      <th>total_deaths</th>\n",
              "      <th>new_deaths</th>\n",
              "      <th>S&amp;P 500 Daily Movement</th>\n",
              "    </tr>\n",
              "  </thead>\n",
              "  <tbody>\n",
              "    <tr>\n",
              "      <th>0</th>\n",
              "      <td>2020-03-03</td>\n",
              "      <td>7</td>\n",
              "      <td>-0.053440</td>\n",
              "      <td>-0.028093</td>\n",
              "      <td>neutral</td>\n",
              "      <td>74.0</td>\n",
              "      <td>19.0</td>\n",
              "      <td>7.0</td>\n",
              "      <td>1.0</td>\n",
              "      <td>neg</td>\n",
              "    </tr>\n",
              "    <tr>\n",
              "      <th>1</th>\n",
              "      <td>2020-03-04</td>\n",
              "      <td>7</td>\n",
              "      <td>0.007057</td>\n",
              "      <td>0.031684</td>\n",
              "      <td>negative</td>\n",
              "      <td>107.0</td>\n",
              "      <td>33.0</td>\n",
              "      <td>11.0</td>\n",
              "      <td>4.0</td>\n",
              "      <td>pos</td>\n",
              "    </tr>\n",
              "    <tr>\n",
              "      <th>2</th>\n",
              "      <td>2020-03-05</td>\n",
              "      <td>7</td>\n",
              "      <td>-0.078486</td>\n",
              "      <td>-0.065194</td>\n",
              "      <td>neutral</td>\n",
              "      <td>184.0</td>\n",
              "      <td>77.0</td>\n",
              "      <td>12.0</td>\n",
              "      <td>1.0</td>\n",
              "      <td>neg</td>\n",
              "    </tr>\n",
              "    <tr>\n",
              "      <th>3</th>\n",
              "      <td>2020-03-06</td>\n",
              "      <td>7</td>\n",
              "      <td>0.023574</td>\n",
              "      <td>-0.005379</td>\n",
              "      <td>neutral</td>\n",
              "      <td>237.0</td>\n",
              "      <td>53.0</td>\n",
              "      <td>14.0</td>\n",
              "      <td>2.0</td>\n",
              "      <td>neg</td>\n",
              "    </tr>\n",
              "    <tr>\n",
              "      <th>4</th>\n",
              "      <td>2020-03-09</td>\n",
              "      <td>30</td>\n",
              "      <td>-0.103269</td>\n",
              "      <td>-0.085571</td>\n",
              "      <td>negative</td>\n",
              "      <td>594.0</td>\n",
              "      <td>75.0</td>\n",
              "      <td>22.0</td>\n",
              "      <td>1.0</td>\n",
              "      <td>neg</td>\n",
              "    </tr>\n",
              "    <tr>\n",
              "      <th>...</th>\n",
              "      <td>...</td>\n",
              "      <td>...</td>\n",
              "      <td>...</td>\n",
              "      <td>...</td>\n",
              "      <td>...</td>\n",
              "      <td>...</td>\n",
              "      <td>...</td>\n",
              "      <td>...</td>\n",
              "      <td>...</td>\n",
              "      <td>...</td>\n",
              "    </tr>\n",
              "    <tr>\n",
              "      <th>245</th>\n",
              "      <td>2021-02-22</td>\n",
              "      <td>70</td>\n",
              "      <td>-0.002987</td>\n",
              "      <td>0.011670</td>\n",
              "      <td>neutral</td>\n",
              "      <td>28233518.0</td>\n",
              "      <td>56159.0</td>\n",
              "      <td>502465.0</td>\n",
              "      <td>1325.0</td>\n",
              "      <td>neg</td>\n",
              "    </tr>\n",
              "    <tr>\n",
              "      <th>246</th>\n",
              "      <td>2021-02-23</td>\n",
              "      <td>70</td>\n",
              "      <td>-0.005992</td>\n",
              "      <td>0.006627</td>\n",
              "      <td>negative</td>\n",
              "      <td>28305788.0</td>\n",
              "      <td>72270.0</td>\n",
              "      <td>504747.0</td>\n",
              "      <td>2282.0</td>\n",
              "      <td>pos</td>\n",
              "    </tr>\n",
              "    <tr>\n",
              "      <th>247</th>\n",
              "      <td>2021-02-24</td>\n",
              "      <td>70</td>\n",
              "      <td>0.031947</td>\n",
              "      <td>0.016336</td>\n",
              "      <td>neutral</td>\n",
              "      <td>28380537.0</td>\n",
              "      <td>74749.0</td>\n",
              "      <td>507916.0</td>\n",
              "      <td>3169.0</td>\n",
              "      <td>pos</td>\n",
              "    </tr>\n",
              "    <tr>\n",
              "      <th>248</th>\n",
              "      <td>2021-02-25</td>\n",
              "      <td>70</td>\n",
              "      <td>-0.044393</td>\n",
              "      <td>-0.023630</td>\n",
              "      <td>positive</td>\n",
              "      <td>28458041.0</td>\n",
              "      <td>77504.0</td>\n",
              "      <td>510366.0</td>\n",
              "      <td>2450.0</td>\n",
              "      <td>neg</td>\n",
              "    </tr>\n",
              "    <tr>\n",
              "      <th>249</th>\n",
              "      <td>2021-02-26</td>\n",
              "      <td>70</td>\n",
              "      <td>0.014059</td>\n",
              "      <td>-0.001228</td>\n",
              "      <td>neutral</td>\n",
              "      <td>28535390.0</td>\n",
              "      <td>77349.0</td>\n",
              "      <td>512433.0</td>\n",
              "      <td>2067.0</td>\n",
              "      <td>neg</td>\n",
              "    </tr>\n",
              "  </tbody>\n",
              "</table>\n",
              "<p>250 rows × 10 columns</p>\n",
              "</div>"
            ],
            "text/plain": [
              "     Unnamed: 0  Interest Score  ...  new_deaths  S&P 500 Daily Movement\n",
              "0    2020-03-03               7  ...         1.0                     neg\n",
              "1    2020-03-04               7  ...         4.0                     pos\n",
              "2    2020-03-05               7  ...         1.0                     neg\n",
              "3    2020-03-06               7  ...         2.0                     neg\n",
              "4    2020-03-09              30  ...         1.0                     neg\n",
              "..          ...             ...  ...         ...                     ...\n",
              "245  2021-02-22              70  ...      1325.0                     neg\n",
              "246  2021-02-23              70  ...      2282.0                     pos\n",
              "247  2021-02-24              70  ...      3169.0                     pos\n",
              "248  2021-02-25              70  ...      2450.0                     neg\n",
              "249  2021-02-26              70  ...      2067.0                     neg\n",
              "\n",
              "[250 rows x 10 columns]"
            ]
          },
          "metadata": {
            "tags": []
          },
          "execution_count": 69
        }
      ]
    },
    {
      "cell_type": "code",
      "metadata": {
        "colab": {
          "base_uri": "https://localhost:8080/"
        },
        "id": "P7BRq0srVyKV",
        "outputId": "e8394872-7c56-43b2-e7be-1ed897ac488e"
      },
      "source": [
        "df.sentiment.value_counts()"
      ],
      "execution_count": 70,
      "outputs": [
        {
          "output_type": "execute_result",
          "data": {
            "text/plain": [
              "neutral     151\n",
              "negative     85\n",
              "positive     14\n",
              "Name: sentiment, dtype: int64"
            ]
          },
          "metadata": {
            "tags": []
          },
          "execution_count": 70
        }
      ]
    },
    {
      "cell_type": "code",
      "metadata": {
        "id": "bWnzfVFvtoHt"
      },
      "source": [
        "df=df.rename(columns={'Unnamed: 0':'date'})"
      ],
      "execution_count": 71,
      "outputs": []
    },
    {
      "cell_type": "code",
      "metadata": {
        "id": "mfgxUhMXttnO"
      },
      "source": [
        "df.set_index('date', inplace=True)"
      ],
      "execution_count": 72,
      "outputs": []
    },
    {
      "cell_type": "code",
      "metadata": {
        "id": "N-_4b3jItwKl"
      },
      "source": [
        "df= pd.get_dummies(df, columns=['sentiment'])"
      ],
      "execution_count": 73,
      "outputs": []
    },
    {
      "cell_type": "code",
      "metadata": {
        "id": "9YRSlwmltytq"
      },
      "source": [
        "df['label'] = np.where(df[\"S&P 500 Daily Movement\"].str.contains('neg'), -1, 1)"
      ],
      "execution_count": 74,
      "outputs": []
    },
    {
      "cell_type": "code",
      "metadata": {
        "id": "uK2cZUZPt1z4"
      },
      "source": [
        "df = df.drop(columns='S&P 500 Daily Movement')"
      ],
      "execution_count": 75,
      "outputs": []
    },
    {
      "cell_type": "code",
      "metadata": {
        "id": "MICZw60Lt4qP"
      },
      "source": [
        "df.index = pd.to_datetime(df.index)"
      ],
      "execution_count": 76,
      "outputs": []
    },
    {
      "cell_type": "code",
      "metadata": {
        "colab": {
          "base_uri": "https://localhost:8080/",
          "height": 450
        },
        "id": "T4ZHesRFt6w1",
        "outputId": "008a682a-ea93-40fa-8b6f-bc5693c4b4ee"
      },
      "source": [
        "df"
      ],
      "execution_count": 77,
      "outputs": [
        {
          "output_type": "execute_result",
          "data": {
            "text/html": [
              "<div>\n",
              "<style scoped>\n",
              "    .dataframe tbody tr th:only-of-type {\n",
              "        vertical-align: middle;\n",
              "    }\n",
              "\n",
              "    .dataframe tbody tr th {\n",
              "        vertical-align: top;\n",
              "    }\n",
              "\n",
              "    .dataframe thead th {\n",
              "        text-align: right;\n",
              "    }\n",
              "</style>\n",
              "<table border=\"1\" class=\"dataframe\">\n",
              "  <thead>\n",
              "    <tr style=\"text-align: right;\">\n",
              "      <th></th>\n",
              "      <th>Interest Score</th>\n",
              "      <th>HST</th>\n",
              "      <th>XTN</th>\n",
              "      <th>total_cases</th>\n",
              "      <th>new_cases</th>\n",
              "      <th>total_deaths</th>\n",
              "      <th>new_deaths</th>\n",
              "      <th>sentiment_negative</th>\n",
              "      <th>sentiment_neutral</th>\n",
              "      <th>sentiment_positive</th>\n",
              "      <th>label</th>\n",
              "    </tr>\n",
              "    <tr>\n",
              "      <th>date</th>\n",
              "      <th></th>\n",
              "      <th></th>\n",
              "      <th></th>\n",
              "      <th></th>\n",
              "      <th></th>\n",
              "      <th></th>\n",
              "      <th></th>\n",
              "      <th></th>\n",
              "      <th></th>\n",
              "      <th></th>\n",
              "      <th></th>\n",
              "    </tr>\n",
              "  </thead>\n",
              "  <tbody>\n",
              "    <tr>\n",
              "      <th>2020-03-03</th>\n",
              "      <td>7</td>\n",
              "      <td>-0.053440</td>\n",
              "      <td>-0.028093</td>\n",
              "      <td>74.0</td>\n",
              "      <td>19.0</td>\n",
              "      <td>7.0</td>\n",
              "      <td>1.0</td>\n",
              "      <td>0</td>\n",
              "      <td>1</td>\n",
              "      <td>0</td>\n",
              "      <td>-1</td>\n",
              "    </tr>\n",
              "    <tr>\n",
              "      <th>2020-03-04</th>\n",
              "      <td>7</td>\n",
              "      <td>0.007057</td>\n",
              "      <td>0.031684</td>\n",
              "      <td>107.0</td>\n",
              "      <td>33.0</td>\n",
              "      <td>11.0</td>\n",
              "      <td>4.0</td>\n",
              "      <td>1</td>\n",
              "      <td>0</td>\n",
              "      <td>0</td>\n",
              "      <td>1</td>\n",
              "    </tr>\n",
              "    <tr>\n",
              "      <th>2020-03-05</th>\n",
              "      <td>7</td>\n",
              "      <td>-0.078486</td>\n",
              "      <td>-0.065194</td>\n",
              "      <td>184.0</td>\n",
              "      <td>77.0</td>\n",
              "      <td>12.0</td>\n",
              "      <td>1.0</td>\n",
              "      <td>0</td>\n",
              "      <td>1</td>\n",
              "      <td>0</td>\n",
              "      <td>-1</td>\n",
              "    </tr>\n",
              "    <tr>\n",
              "      <th>2020-03-06</th>\n",
              "      <td>7</td>\n",
              "      <td>0.023574</td>\n",
              "      <td>-0.005379</td>\n",
              "      <td>237.0</td>\n",
              "      <td>53.0</td>\n",
              "      <td>14.0</td>\n",
              "      <td>2.0</td>\n",
              "      <td>0</td>\n",
              "      <td>1</td>\n",
              "      <td>0</td>\n",
              "      <td>-1</td>\n",
              "    </tr>\n",
              "    <tr>\n",
              "      <th>2020-03-09</th>\n",
              "      <td>30</td>\n",
              "      <td>-0.103269</td>\n",
              "      <td>-0.085571</td>\n",
              "      <td>594.0</td>\n",
              "      <td>75.0</td>\n",
              "      <td>22.0</td>\n",
              "      <td>1.0</td>\n",
              "      <td>1</td>\n",
              "      <td>0</td>\n",
              "      <td>0</td>\n",
              "      <td>-1</td>\n",
              "    </tr>\n",
              "    <tr>\n",
              "      <th>...</th>\n",
              "      <td>...</td>\n",
              "      <td>...</td>\n",
              "      <td>...</td>\n",
              "      <td>...</td>\n",
              "      <td>...</td>\n",
              "      <td>...</td>\n",
              "      <td>...</td>\n",
              "      <td>...</td>\n",
              "      <td>...</td>\n",
              "      <td>...</td>\n",
              "      <td>...</td>\n",
              "    </tr>\n",
              "    <tr>\n",
              "      <th>2021-02-22</th>\n",
              "      <td>70</td>\n",
              "      <td>-0.002987</td>\n",
              "      <td>0.011670</td>\n",
              "      <td>28233518.0</td>\n",
              "      <td>56159.0</td>\n",
              "      <td>502465.0</td>\n",
              "      <td>1325.0</td>\n",
              "      <td>0</td>\n",
              "      <td>1</td>\n",
              "      <td>0</td>\n",
              "      <td>-1</td>\n",
              "    </tr>\n",
              "    <tr>\n",
              "      <th>2021-02-23</th>\n",
              "      <td>70</td>\n",
              "      <td>-0.005992</td>\n",
              "      <td>0.006627</td>\n",
              "      <td>28305788.0</td>\n",
              "      <td>72270.0</td>\n",
              "      <td>504747.0</td>\n",
              "      <td>2282.0</td>\n",
              "      <td>1</td>\n",
              "      <td>0</td>\n",
              "      <td>0</td>\n",
              "      <td>1</td>\n",
              "    </tr>\n",
              "    <tr>\n",
              "      <th>2021-02-24</th>\n",
              "      <td>70</td>\n",
              "      <td>0.031947</td>\n",
              "      <td>0.016336</td>\n",
              "      <td>28380537.0</td>\n",
              "      <td>74749.0</td>\n",
              "      <td>507916.0</td>\n",
              "      <td>3169.0</td>\n",
              "      <td>0</td>\n",
              "      <td>1</td>\n",
              "      <td>0</td>\n",
              "      <td>1</td>\n",
              "    </tr>\n",
              "    <tr>\n",
              "      <th>2021-02-25</th>\n",
              "      <td>70</td>\n",
              "      <td>-0.044393</td>\n",
              "      <td>-0.023630</td>\n",
              "      <td>28458041.0</td>\n",
              "      <td>77504.0</td>\n",
              "      <td>510366.0</td>\n",
              "      <td>2450.0</td>\n",
              "      <td>0</td>\n",
              "      <td>0</td>\n",
              "      <td>1</td>\n",
              "      <td>-1</td>\n",
              "    </tr>\n",
              "    <tr>\n",
              "      <th>2021-02-26</th>\n",
              "      <td>70</td>\n",
              "      <td>0.014059</td>\n",
              "      <td>-0.001228</td>\n",
              "      <td>28535390.0</td>\n",
              "      <td>77349.0</td>\n",
              "      <td>512433.0</td>\n",
              "      <td>2067.0</td>\n",
              "      <td>0</td>\n",
              "      <td>1</td>\n",
              "      <td>0</td>\n",
              "      <td>-1</td>\n",
              "    </tr>\n",
              "  </tbody>\n",
              "</table>\n",
              "<p>250 rows × 11 columns</p>\n",
              "</div>"
            ],
            "text/plain": [
              "            Interest Score       HST  ...  sentiment_positive  label\n",
              "date                                  ...                           \n",
              "2020-03-03               7 -0.053440  ...                   0     -1\n",
              "2020-03-04               7  0.007057  ...                   0      1\n",
              "2020-03-05               7 -0.078486  ...                   0     -1\n",
              "2020-03-06               7  0.023574  ...                   0     -1\n",
              "2020-03-09              30 -0.103269  ...                   0     -1\n",
              "...                    ...       ...  ...                 ...    ...\n",
              "2021-02-22              70 -0.002987  ...                   0     -1\n",
              "2021-02-23              70 -0.005992  ...                   0      1\n",
              "2021-02-24              70  0.031947  ...                   0      1\n",
              "2021-02-25              70 -0.044393  ...                   1     -1\n",
              "2021-02-26              70  0.014059  ...                   0     -1\n",
              "\n",
              "[250 rows x 11 columns]"
            ]
          },
          "metadata": {
            "tags": []
          },
          "execution_count": 77
        }
      ]
    },
    {
      "cell_type": "code",
      "metadata": {
        "colab": {
          "base_uri": "https://localhost:8080/"
        },
        "id": "omPp_rYvPi54",
        "outputId": "ca561a07-ec8d-465a-adf3-4e92fa1552d9"
      },
      "source": [
        "df.sentiment_positive.value_counts()"
      ],
      "execution_count": 78,
      "outputs": [
        {
          "output_type": "execute_result",
          "data": {
            "text/plain": [
              "0    236\n",
              "1     14\n",
              "Name: sentiment_positive, dtype: int64"
            ]
          },
          "metadata": {
            "tags": []
          },
          "execution_count": 78
        }
      ]
    },
    {
      "cell_type": "code",
      "metadata": {
        "colab": {
          "base_uri": "https://localhost:8080/",
          "height": 576
        },
        "id": "pwdHShi9xS9E",
        "outputId": "2ae2593e-4110-4e45-f47a-7ac2ce208b24"
      },
      "source": [
        "corrMatrix = df.corr()\n",
        "fig, ax = plt.subplots(figsize=(10,8))  \n",
        "sns.heatmap(corrMatrix, annot=True, ax=ax);"
      ],
      "execution_count": 79,
      "outputs": [
        {
          "output_type": "display_data",
          "data": {
            "image/png": "[encoded data removed]",
            "text/plain": [
              "<Figure size 720x576 with 2 Axes>"
            ]
          },
          "metadata": {
            "tags": [],
            "needs_background": "light"
          }
        }
      ]
    },
    {
      "cell_type": "code",
      "metadata": {
        "id": "ULvfBNhAt7kA",
        "colab": {
          "base_uri": "https://localhost:8080/",
          "height": 1000
        },
        "outputId": "fa8c7c38-51d1-4507-be13-e249055e2783"
      },
      "source": [
        "df.hist(figsize=(20, 20))\n",
        "plt.show()"
      ],
      "execution_count": 102,
      "outputs": [
        {
          "output_type": "display_data",
          "data": {
            "image/png": "[encoded data removed]",
            "text/plain": [
              "<Figure size 1440x1440 with 12 Axes>"
            ]
          },
          "metadata": {
            "tags": [],
            "needs_background": "light"
          }
        }
      ]
    },
    {
      "cell_type": "code",
      "metadata": {
        "id": "7bVuYdVYuGS1"
      },
      "source": [
        "X_train, X_test, y_train, y_test = train_test_split(df.drop('label', axis=1), df['label'], test_size=0.30, random_state=101)"
      ],
      "execution_count": 80,
      "outputs": []
    },
    {
      "cell_type": "code",
      "metadata": {
        "id": "kYqEBD0WuIoq"
      },
      "source": [
        "lgbm = LGBMClassifier(objective='Binary', random_state=5)"
      ],
      "execution_count": 81,
      "outputs": []
    },
    {
      "cell_type": "code",
      "metadata": {
        "colab": {
          "base_uri": "https://localhost:8080/"
        },
        "id": "DtkWe3Kiyw1u",
        "outputId": "35d415f1-9af9-4f4b-8b30-33fa0fcb498e"
      },
      "source": [
        "## hyperparameter tuning\n",
        "param_grid = {'n_estimators': [1, 10, 20, 30, 40,50], 'n_jobs': [1,5,10,15,20]}\n",
        "grid = GridSearchCV(RandomForestClassifier(),param_grid,refit=True,verbose=1)\n",
        "grid.fit(X_train,y_train)\n",
        "grid.best_estimator_"
      ],
      "execution_count": 64,
      "outputs": [
        {
          "output_type": "stream",
          "text": [
            "Fitting 5 folds for each of 30 candidates, totalling 150 fits\n"
          ],
          "name": "stdout"
        },
        {
          "output_type": "stream",
          "text": [
            "[Parallel(n_jobs=1)]: Using backend SequentialBackend with 1 concurrent workers.\n",
            "[Parallel(n_jobs=1)]: Done 150 out of 150 | elapsed:  1.1min finished\n"
          ],
          "name": "stderr"
        },
        {
          "output_type": "execute_result",
          "data": {
            "text/plain": [
              "RandomForestClassifier(bootstrap=True, ccp_alpha=0.0, class_weight=None,\n",
              "                       criterion='gini', max_depth=None, max_features='auto',\n",
              "                       max_leaf_nodes=None, max_samples=None,\n",
              "                       min_impurity_decrease=0.0, min_impurity_split=None,\n",
              "                       min_samples_leaf=1, min_samples_split=2,\n",
              "                       min_weight_fraction_leaf=0.0, n_estimators=20, n_jobs=20,\n",
              "                       oob_score=False, random_state=None, verbose=0,\n",
              "                       warm_start=False)"
            ]
          },
          "metadata": {
            "tags": []
          },
          "execution_count": 64
        }
      ]
    },
    {
      "cell_type": "code",
      "metadata": {
        "id": "BqB2e8ExuKgU"
      },
      "source": [
        "clf = RandomForestClassifier(bootstrap=True, ccp_alpha=0.0, class_weight=None,\n",
        "                       criterion='gini', max_depth=None, max_features='auto',\n",
        "                       max_leaf_nodes=None, max_samples=None,\n",
        "                       min_impurity_decrease=0.0, min_impurity_split=None,\n",
        "                       min_samples_leaf=1, min_samples_split=2,\n",
        "                       min_weight_fraction_leaf=0.0, n_estimators=40, n_jobs=15,\n",
        "                       oob_score=False, random_state=None, verbose=0,\n",
        "                       warm_start=False)"
      ],
      "execution_count": 82,
      "outputs": []
    },
    {
      "cell_type": "code",
      "metadata": {
        "id": "vFsXhT5JuOKh"
      },
      "source": [
        "knn = KNeighborsClassifier(n_neighbors=20, weights='distance')"
      ],
      "execution_count": 83,
      "outputs": []
    },
    {
      "cell_type": "code",
      "metadata": {
        "id": "4e6UScCvwDlb"
      },
      "source": [
        ""
      ],
      "execution_count": 83,
      "outputs": []
    },
    {
      "cell_type": "markdown",
      "metadata": {
        "id": "7nAGsJPEwQNK"
      },
      "source": [
        "### Gradiant Boosting"
      ]
    },
    {
      "cell_type": "code",
      "metadata": {
        "colab": {
          "base_uri": "https://localhost:8080/"
        },
        "id": "-sI8Sk4QuYXc",
        "outputId": "bb2a0e4a-5db6-45f4-8e70-9990ddb52a0b"
      },
      "source": [
        "lgbm.fit(X_train, y_train)"
      ],
      "execution_count": 84,
      "outputs": [
        {
          "output_type": "execute_result",
          "data": {
            "text/plain": [
              "LGBMClassifier(boosting_type='gbdt', class_weight=None, colsample_bytree=1.0,\n",
              "               importance_type='split', learning_rate=0.1, max_depth=-1,\n",
              "               min_child_samples=20, min_child_weight=0.001, min_split_gain=0.0,\n",
              "               n_estimators=100, n_jobs=-1, num_leaves=31, objective='Binary',\n",
              "               random_state=5, reg_alpha=0.0, reg_lambda=0.0, silent=True,\n",
              "               subsample=1.0, subsample_for_bin=200000, subsample_freq=0)"
            ]
          },
          "metadata": {
            "tags": []
          },
          "execution_count": 84
        }
      ]
    },
    {
      "cell_type": "code",
      "metadata": {
        "id": "t4mJW6CfufVe"
      },
      "source": [
        "predictions = lgbm.predict(X_test)"
      ],
      "execution_count": 85,
      "outputs": []
    },
    {
      "cell_type": "code",
      "metadata": {
        "colab": {
          "base_uri": "https://localhost:8080/"
        },
        "id": "BSxdzX5Dvoi3",
        "outputId": "f27b0b80-1090-4092-fbef-2313ad45b115"
      },
      "source": [
        "print(classification_report(y_test,predictions))"
      ],
      "execution_count": 86,
      "outputs": [
        {
          "output_type": "stream",
          "text": [
            "              precision    recall  f1-score   support\n",
            "\n",
            "          -1       0.66      0.70      0.68        33\n",
            "           1       0.75      0.71      0.73        42\n",
            "\n",
            "    accuracy                           0.71        75\n",
            "   macro avg       0.70      0.71      0.70        75\n",
            "weighted avg       0.71      0.71      0.71        75\n",
            "\n"
          ],
          "name": "stdout"
        }
      ]
    },
    {
      "cell_type": "code",
      "metadata": {
        "id": "8g4LU0_VZUbZ"
      },
      "source": [
        ""
      ],
      "execution_count": 86,
      "outputs": []
    },
    {
      "cell_type": "code",
      "metadata": {
        "colab": {
          "base_uri": "https://localhost:8080/",
          "height": 286
        },
        "id": "FWSdRxMGaIEi",
        "outputId": "df34e153-012b-40e8-ba89-4a78db213b27"
      },
      "source": [
        "cf_matrix = confusion_matrix(y_test, predictions)\n",
        "sns.heatmap(cf_matrix, annot=True, cmap='Blues')"
      ],
      "execution_count": 87,
      "outputs": [
        {
          "output_type": "execute_result",
          "data": {
            "text/plain": [
              "<matplotlib.axes._subplots.AxesSubplot at 0x7f6db5166450>"
            ]
          },
          "metadata": {
            "tags": []
          },
          "execution_count": 87
        },
        {
          "output_type": "display_data",
          "data": {
            "image/png": "[encoded data removed]",
            "text/plain": [
              "<Figure size 432x288 with 2 Axes>"
            ]
          },
          "metadata": {
            "tags": [],
            "needs_background": "light"
          }
        }
      ]
    },
    {
      "cell_type": "code",
      "metadata": {
        "id": "Yuo3Ftz8ZKF3"
      },
      "source": [
        ""
      ],
      "execution_count": 87,
      "outputs": []
    },
    {
      "cell_type": "markdown",
      "metadata": {
        "id": "db1N61TFwcmH"
      },
      "source": [
        "## RandomForestClassifier"
      ]
    },
    {
      "cell_type": "code",
      "metadata": {
        "colab": {
          "base_uri": "https://localhost:8080/"
        },
        "id": "ULjCxyDkv8oJ",
        "outputId": "457dec88-a79e-4eea-da17-9a9cf04909aa"
      },
      "source": [
        "clf.fit(X_train, y_train)"
      ],
      "execution_count": 88,
      "outputs": [
        {
          "output_type": "execute_result",
          "data": {
            "text/plain": [
              "RandomForestClassifier(bootstrap=True, ccp_alpha=0.0, class_weight=None,\n",
              "                       criterion='gini', max_depth=None, max_features='auto',\n",
              "                       max_leaf_nodes=None, max_samples=None,\n",
              "                       min_impurity_decrease=0.0, min_impurity_split=None,\n",
              "                       min_samples_leaf=1, min_samples_split=2,\n",
              "                       min_weight_fraction_leaf=0.0, n_estimators=40, n_jobs=15,\n",
              "                       oob_score=False, random_state=None, verbose=0,\n",
              "                       warm_start=False)"
            ]
          },
          "metadata": {
            "tags": []
          },
          "execution_count": 88
        }
      ]
    },
    {
      "cell_type": "code",
      "metadata": {
        "id": "ocK1oGhQwgQi"
      },
      "source": [
        "predictions = clf.predict(X_test)"
      ],
      "execution_count": 89,
      "outputs": []
    },
    {
      "cell_type": "code",
      "metadata": {
        "colab": {
          "base_uri": "https://localhost:8080/"
        },
        "id": "cALZxn2Vwymq",
        "outputId": "13b27fb7-a354-453b-9195-d6602bbbf530"
      },
      "source": [
        "print(classification_report(y_test,predictions))"
      ],
      "execution_count": 90,
      "outputs": [
        {
          "output_type": "stream",
          "text": [
            "              precision    recall  f1-score   support\n",
            "\n",
            "          -1       0.67      0.73      0.70        33\n",
            "           1       0.77      0.71      0.74        42\n",
            "\n",
            "    accuracy                           0.72        75\n",
            "   macro avg       0.72      0.72      0.72        75\n",
            "weighted avg       0.72      0.72      0.72        75\n",
            "\n"
          ],
          "name": "stdout"
        }
      ]
    },
    {
      "cell_type": "code",
      "metadata": {
        "colab": {
          "base_uri": "https://localhost:8080/",
          "height": 286
        },
        "id": "jvlwEfHdbCgP",
        "outputId": "933102a0-922c-4a39-acba-db939b559c93"
      },
      "source": [
        "cf_matrix = confusion_matrix(y_test, predictions)\n",
        "sns.heatmap(cf_matrix, annot=True, cmap='Blues')"
      ],
      "execution_count": 91,
      "outputs": [
        {
          "output_type": "execute_result",
          "data": {
            "text/plain": [
              "<matplotlib.axes._subplots.AxesSubplot at 0x7f6db4d24cd0>"
            ]
          },
          "metadata": {
            "tags": []
          },
          "execution_count": 91
        },
        {
          "output_type": "display_data",
          "data": {
            "image/png": "[encoded data removed]",
            "text/plain": [
              "<Figure size 432x288 with 2 Axes>"
            ]
          },
          "metadata": {
            "tags": [],
            "needs_background": "light"
          }
        }
      ]
    },
    {
      "cell_type": "code",
      "metadata": {
        "id": "tcUcfIm9zMz3"
      },
      "source": [
        "y = clf.feature_importances_"
      ],
      "execution_count": 92,
      "outputs": []
    },
    {
      "cell_type": "code",
      "metadata": {
        "id": "GxzzArKPxIVv",
        "colab": {
          "base_uri": "https://localhost:8080/",
          "height": 435
        },
        "outputId": "14428fec-4d31-4954-dc0f-5ea41879ac34"
      },
      "source": [
        "col_name=list(X_test.columns)\n",
        "    \n",
        "fig, ax = plt.subplots() \n",
        "width = 0.4 # the width of the bars \n",
        "ind = np.arange(len(y)) # the x locations for the groups\n",
        "ax.barh(ind, y, width, color='green')\n",
        "ax.set_yticks(ind+width/10)\n",
        "ax.set_yticklabels(col_name, minor=False)"
      ],
      "execution_count": 93,
      "outputs": [
        {
          "output_type": "execute_result",
          "data": {
            "text/plain": [
              "[Text(0, 0, 'Interest Score'),\n",
              " Text(0, 0, 'HST'),\n",
              " Text(0, 0, 'XTN'),\n",
              " Text(0, 0, 'total_cases'),\n",
              " Text(0, 0, 'new_cases'),\n",
              " Text(0, 0, 'total_deaths'),\n",
              " Text(0, 0, 'new_deaths'),\n",
              " Text(0, 0, 'sentiment_negative'),\n",
              " Text(0, 0, 'sentiment_neutral'),\n",
              " Text(0, 0, 'sentiment_positive')]"
            ]
          },
          "metadata": {
            "tags": []
          },
          "execution_count": 93
        },
        {
          "output_type": "display_data",
          "data": {
            "image/png": "[encoded data removed]",
            "text/plain": [
              "<Figure size 432x288 with 1 Axes>"
            ]
          },
          "metadata": {
            "tags": [],
            "needs_background": "light"
          }
        }
      ]
    },
    {
      "cell_type": "markdown",
      "metadata": {
        "id": "GEB7aMWjxiB5"
      },
      "source": [
        "## KNeighborsClassifier"
      ]
    },
    {
      "cell_type": "code",
      "metadata": {
        "colab": {
          "base_uri": "https://localhost:8080/"
        },
        "id": "cxDt2_Zrxj6r",
        "outputId": "609af451-c5c9-4301-8e35-b8fc1939fb69"
      },
      "source": [
        "knn.fit(X_train,y_train)"
      ],
      "execution_count": 94,
      "outputs": [
        {
          "output_type": "execute_result",
          "data": {
            "text/plain": [
              "KNeighborsClassifier(algorithm='auto', leaf_size=30, metric='minkowski',\n",
              "                     metric_params=None, n_jobs=None, n_neighbors=20, p=2,\n",
              "                     weights='distance')"
            ]
          },
          "metadata": {
            "tags": []
          },
          "execution_count": 94
        }
      ]
    },
    {
      "cell_type": "code",
      "metadata": {
        "id": "qEM7fytixk8R"
      },
      "source": [
        "predictions = knn.predict(X_test)"
      ],
      "execution_count": 95,
      "outputs": []
    },
    {
      "cell_type": "code",
      "metadata": {
        "colab": {
          "base_uri": "https://localhost:8080/"
        },
        "id": "kMv9Z6uzxo_V",
        "outputId": "a50ca741-d8c3-4ad4-ab85-fc3256eb43e5"
      },
      "source": [
        "print(classification_report(y_test,predictions))"
      ],
      "execution_count": 96,
      "outputs": [
        {
          "output_type": "stream",
          "text": [
            "              precision    recall  f1-score   support\n",
            "\n",
            "          -1       0.33      0.24      0.28        33\n",
            "           1       0.51      0.62      0.56        42\n",
            "\n",
            "    accuracy                           0.45        75\n",
            "   macro avg       0.42      0.43      0.42        75\n",
            "weighted avg       0.43      0.45      0.44        75\n",
            "\n"
          ],
          "name": "stdout"
        }
      ]
    },
    {
      "cell_type": "code",
      "metadata": {
        "colab": {
          "base_uri": "https://localhost:8080/",
          "height": 286
        },
        "id": "m8CEokPabEcq",
        "outputId": "11a2f211-f4b7-4e50-9017-b00854e15927"
      },
      "source": [
        "cf_matrix = confusion_matrix(y_test, predictions)\n",
        "sns.heatmap(cf_matrix, annot=True, cmap='Blues')"
      ],
      "execution_count": 97,
      "outputs": [
        {
          "output_type": "execute_result",
          "data": {
            "text/plain": [
              "<matplotlib.axes._subplots.AxesSubplot at 0x7f6db9c3f210>"
            ]
          },
          "metadata": {
            "tags": []
          },
          "execution_count": 97
        },
        {
          "output_type": "display_data",
          "data": {
            "image/png": "[encoded data removed]",
            "text/plain": [
              "<Figure size 432x288 with 2 Axes>"
            ]
          },
          "metadata": {
            "tags": [],
            "needs_background": "light"
          }
        }
      ]
    },
    {
      "cell_type": "code",
      "metadata": {
        "id": "8r9zH2UgxvD1"
      },
      "source": [
        "#----------------------------------#"
      ],
      "execution_count": 30,
      "outputs": []
    },
    {
      "cell_type": "code",
      "metadata": {
        "id": "9_Qc-riKYla_"
      },
      "source": [
        ""
      ],
      "execution_count": null,
      "outputs": []
    }
  ]
}